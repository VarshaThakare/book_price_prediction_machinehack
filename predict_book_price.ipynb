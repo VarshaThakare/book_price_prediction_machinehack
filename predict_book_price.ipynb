{
 "cells": [
  {
   "cell_type": "markdown",
   "id": "c4ff4129",
   "metadata": {},
   "source": [
    "# Imports"
   ]
  },
  {
   "cell_type": "code",
   "execution_count": 187,
   "id": "3f960e8c",
   "metadata": {},
   "outputs": [],
   "source": [
    "import pandas as pd\n",
    "import numpy as np\n",
    "import re\n",
    "import seaborn as sns\n",
    "from sklearn.preprocessing import LabelEncoder\n",
    "from sklearn.feature_extraction.text import TfidfVectorizer\n",
    "from scipy.sparse import hstack\n",
    "from sklearn.neighbors import KNeighborsRegressor\n",
    "from sklearn.metrics import accuracy_score\n",
    "from sklearn.linear_model import LinearRegression\n",
    "from sklearn.svm import SVR\n",
    "from sklearn.tree import DecisionTreeRegressor\n",
    "from sklearn.ensemble import RandomForestRegressor\n",
    "from sklearn.preprocessing import OneHotEncoder\n",
    "from sklearn.preprocessing import StandardScaler\n",
    "from sklearn.metrics import mean_squared_error, mean_squared_log_error, make_scorer\n",
    "from sklearn.model_selection import GridSearchCV,RandomizedSearchCV\n",
    "from sklearn.preprocessing import PowerTransformer\n",
    "import warnings\n",
    "warnings.filterwarnings('ignore')"
   ]
  },
  {
   "cell_type": "markdown",
   "id": "d4781ff0",
   "metadata": {},
   "source": [
    "# Read the Data."
   ]
  },
  {
   "cell_type": "code",
   "execution_count": 2,
   "id": "54ba52ab",
   "metadata": {},
   "outputs": [
    {
     "data": {
      "text/html": [
       "<div>\n",
       "<style scoped>\n",
       "    .dataframe tbody tr th:only-of-type {\n",
       "        vertical-align: middle;\n",
       "    }\n",
       "\n",
       "    .dataframe tbody tr th {\n",
       "        vertical-align: top;\n",
       "    }\n",
       "\n",
       "    .dataframe thead th {\n",
       "        text-align: right;\n",
       "    }\n",
       "</style>\n",
       "<table border=\"1\" class=\"dataframe\">\n",
       "  <thead>\n",
       "    <tr style=\"text-align: right;\">\n",
       "      <th></th>\n",
       "      <th>Title</th>\n",
       "      <th>Author</th>\n",
       "      <th>Edition</th>\n",
       "      <th>Reviews</th>\n",
       "      <th>Ratings</th>\n",
       "      <th>Synopsis</th>\n",
       "      <th>Genre</th>\n",
       "      <th>BookCategory</th>\n",
       "      <th>Price</th>\n",
       "    </tr>\n",
       "  </thead>\n",
       "  <tbody>\n",
       "    <tr>\n",
       "      <th>0</th>\n",
       "      <td>The Prisoner's Gold (The Hunters 3)</td>\n",
       "      <td>Chris Kuzneski</td>\n",
       "      <td>Paperback,– 10 Mar 2016</td>\n",
       "      <td>4.0 out of 5 stars</td>\n",
       "      <td>8 customer reviews</td>\n",
       "      <td>THE HUNTERS return in their third brilliant no...</td>\n",
       "      <td>Action &amp; Adventure (Books)</td>\n",
       "      <td>Action &amp; Adventure</td>\n",
       "      <td>220.00</td>\n",
       "    </tr>\n",
       "    <tr>\n",
       "      <th>1</th>\n",
       "      <td>Guru Dutt: A Tragedy in Three Acts</td>\n",
       "      <td>Arun Khopkar</td>\n",
       "      <td>Paperback,– 7 Nov 2012</td>\n",
       "      <td>3.9 out of 5 stars</td>\n",
       "      <td>14 customer reviews</td>\n",
       "      <td>A layered portrait of a troubled genius for wh...</td>\n",
       "      <td>Cinema &amp; Broadcast (Books)</td>\n",
       "      <td>Biographies, Diaries &amp; True Accounts</td>\n",
       "      <td>202.93</td>\n",
       "    </tr>\n",
       "    <tr>\n",
       "      <th>2</th>\n",
       "      <td>Leviathan (Penguin Classics)</td>\n",
       "      <td>Thomas Hobbes</td>\n",
       "      <td>Paperback,– 25 Feb 1982</td>\n",
       "      <td>4.8 out of 5 stars</td>\n",
       "      <td>6 customer reviews</td>\n",
       "      <td>\"During the time men live without a common Pow...</td>\n",
       "      <td>International Relations</td>\n",
       "      <td>Humour</td>\n",
       "      <td>299.00</td>\n",
       "    </tr>\n",
       "    <tr>\n",
       "      <th>3</th>\n",
       "      <td>A Pocket Full of Rye (Miss Marple)</td>\n",
       "      <td>Agatha Christie</td>\n",
       "      <td>Paperback,– 5 Oct 2017</td>\n",
       "      <td>4.1 out of 5 stars</td>\n",
       "      <td>13 customer reviews</td>\n",
       "      <td>A handful of grain is found in the pocket of a...</td>\n",
       "      <td>Contemporary Fiction (Books)</td>\n",
       "      <td>Crime, Thriller &amp; Mystery</td>\n",
       "      <td>180.00</td>\n",
       "    </tr>\n",
       "    <tr>\n",
       "      <th>4</th>\n",
       "      <td>LIFE 70 Years of Extraordinary Photography</td>\n",
       "      <td>Editors of Life</td>\n",
       "      <td>Hardcover,– 10 Oct 2006</td>\n",
       "      <td>5.0 out of 5 stars</td>\n",
       "      <td>1 customer review</td>\n",
       "      <td>For seven decades, \"Life\" has been thrilling t...</td>\n",
       "      <td>Photography Textbooks</td>\n",
       "      <td>Arts, Film &amp; Photography</td>\n",
       "      <td>965.62</td>\n",
       "    </tr>\n",
       "  </tbody>\n",
       "</table>\n",
       "</div>"
      ],
      "text/plain": [
       "                                        Title           Author  \\\n",
       "0         The Prisoner's Gold (The Hunters 3)   Chris Kuzneski   \n",
       "1          Guru Dutt: A Tragedy in Three Acts     Arun Khopkar   \n",
       "2                Leviathan (Penguin Classics)    Thomas Hobbes   \n",
       "3          A Pocket Full of Rye (Miss Marple)  Agatha Christie   \n",
       "4  LIFE 70 Years of Extraordinary Photography  Editors of Life   \n",
       "\n",
       "                   Edition             Reviews              Ratings  \\\n",
       "0  Paperback,– 10 Mar 2016  4.0 out of 5 stars   8 customer reviews   \n",
       "1   Paperback,– 7 Nov 2012  3.9 out of 5 stars  14 customer reviews   \n",
       "2  Paperback,– 25 Feb 1982  4.8 out of 5 stars   6 customer reviews   \n",
       "3   Paperback,– 5 Oct 2017  4.1 out of 5 stars  13 customer reviews   \n",
       "4  Hardcover,– 10 Oct 2006  5.0 out of 5 stars    1 customer review   \n",
       "\n",
       "                                            Synopsis  \\\n",
       "0  THE HUNTERS return in their third brilliant no...   \n",
       "1  A layered portrait of a troubled genius for wh...   \n",
       "2  \"During the time men live without a common Pow...   \n",
       "3  A handful of grain is found in the pocket of a...   \n",
       "4  For seven decades, \"Life\" has been thrilling t...   \n",
       "\n",
       "                          Genre                          BookCategory   Price  \n",
       "0    Action & Adventure (Books)                    Action & Adventure  220.00  \n",
       "1    Cinema & Broadcast (Books)  Biographies, Diaries & True Accounts  202.93  \n",
       "2       International Relations                                Humour  299.00  \n",
       "3  Contemporary Fiction (Books)             Crime, Thriller & Mystery  180.00  \n",
       "4         Photography Textbooks              Arts, Film & Photography  965.62  "
      ]
     },
     "execution_count": 2,
     "metadata": {},
     "output_type": "execute_result"
    }
   ],
   "source": [
    "data = pd.read_excel('Data_Train.xlsx')\n",
    "data.head()"
   ]
  },
  {
   "cell_type": "code",
   "execution_count": 3,
   "id": "b150036f",
   "metadata": {},
   "outputs": [
    {
     "name": "stdout",
     "output_type": "stream",
     "text": [
      "<class 'pandas.core.frame.DataFrame'>\n",
      "RangeIndex: 6237 entries, 0 to 6236\n",
      "Data columns (total 9 columns):\n",
      " #   Column        Non-Null Count  Dtype  \n",
      "---  ------        --------------  -----  \n",
      " 0   Title         6237 non-null   object \n",
      " 1   Author        6237 non-null   object \n",
      " 2   Edition       6237 non-null   object \n",
      " 3   Reviews       6237 non-null   object \n",
      " 4   Ratings       6237 non-null   object \n",
      " 5   Synopsis      6237 non-null   object \n",
      " 6   Genre         6237 non-null   object \n",
      " 7   BookCategory  6237 non-null   object \n",
      " 8   Price         6237 non-null   float64\n",
      "dtypes: float64(1), object(8)\n",
      "memory usage: 438.7+ KB\n"
     ]
    }
   ],
   "source": [
    "data.info()"
   ]
  },
  {
   "cell_type": "code",
   "execution_count": 4,
   "id": "3d1a28b6",
   "metadata": {},
   "outputs": [
    {
     "data": {
      "text/plain": [
       "Title           5568\n",
       "Author          3679\n",
       "Edition         3370\n",
       "Reviews           36\n",
       "Ratings          342\n",
       "Synopsis        5549\n",
       "Genre            345\n",
       "BookCategory      11\n",
       "Price           1614\n",
       "dtype: int64"
      ]
     },
     "execution_count": 4,
     "metadata": {},
     "output_type": "execute_result"
    }
   ],
   "source": [
    "data.nunique()"
   ]
  },
  {
   "cell_type": "code",
   "execution_count": 5,
   "id": "d6bac78b",
   "metadata": {},
   "outputs": [
    {
     "data": {
      "text/plain": [
       "Agatha Christie    False\n",
       "Ladybird           False\n",
       "DK                 False\n",
       "Albert Uderzo      False\n",
       "Herge              False\n",
       "                   ...  \n",
       "Kenneth Roman       True\n",
       "Y.V. Reddy          True\n",
       "Ranade              True\n",
       "Tehmina Durrani     True\n",
       "Edgar H. Schein     True\n",
       "Name: Author, Length: 3679, dtype: bool"
      ]
     },
     "execution_count": 5,
     "metadata": {},
     "output_type": "execute_result"
    }
   ],
   "source": [
    "data['Author'].value_counts() == 1"
   ]
  },
  {
   "cell_type": "code",
   "execution_count": 6,
   "id": "5b1216fb",
   "metadata": {},
   "outputs": [
    {
     "data": {
      "text/plain": [
       "E A Stokoe                  1\n",
       "Woody Allen                 1\n",
       "Gupta, R.K                  1\n",
       "John Little, Doug Mcguff    1\n",
       "Yasser Seirawan             1\n",
       "                           ..\n",
       "Kenneth Roman               1\n",
       "Y.V. Reddy                  1\n",
       "Ranade                      1\n",
       "Tehmina Durrani             1\n",
       "Edgar H. Schein             1\n",
       "Name: Author, Length: 2791, dtype: int64"
      ]
     },
     "execution_count": 6,
     "metadata": {},
     "output_type": "execute_result"
    }
   ],
   "source": [
    "data['Author'].value_counts()[data['Author'].value_counts() == 1]"
   ]
  },
  {
   "cell_type": "markdown",
   "id": "085ec12a",
   "metadata": {},
   "source": [
    "### No missing values in the dataset"
   ]
  },
  {
   "cell_type": "code",
   "execution_count": 7,
   "id": "9e8793d0",
   "metadata": {},
   "outputs": [
    {
     "data": {
      "text/plain": [
       "2791"
      ]
     },
     "execution_count": 7,
     "metadata": {},
     "output_type": "execute_result"
    }
   ],
   "source": [
    "len(data['Author'].value_counts()[data['Author'].value_counts() == 1])"
   ]
  },
  {
   "cell_type": "code",
   "execution_count": 8,
   "id": "0b95f739",
   "metadata": {},
   "outputs": [
    {
     "data": {
      "text/plain": [
       "0.44749078082411414"
      ]
     },
     "execution_count": 8,
     "metadata": {},
     "output_type": "execute_result"
    }
   ],
   "source": [
    "len(data['Author'].value_counts()[data['Author'].value_counts() == 1]) / len(data)"
   ]
  },
  {
   "cell_type": "markdown",
   "id": "f3b4bf76",
   "metadata": {},
   "source": [
    "#### 44% Authors are occur one time. \n",
    "There are 44% authors who has only one book ['Title]'] in the dataset."
   ]
  },
  {
   "cell_type": "code",
   "execution_count": 9,
   "id": "6e569055",
   "metadata": {},
   "outputs": [
    {
     "data": {
      "text/plain": [
       "0.5898669232002566"
      ]
     },
     "execution_count": 9,
     "metadata": {},
     "output_type": "execute_result"
    }
   ],
   "source": [
    "len(data['Author'].unique()) / len(data)"
   ]
  },
  {
   "cell_type": "markdown",
   "id": "edb537c7",
   "metadata": {},
   "source": [
    "### unique authors are 59%"
   ]
  },
  {
   "cell_type": "code",
   "execution_count": 10,
   "id": "bf952363",
   "metadata": {},
   "outputs": [
    {
     "data": {
      "text/plain": [
       "array(['Chris Kuzneski', 'Arun Khopkar', 'Thomas Hobbes', ...,\n",
       "       'Saba Naqvi', 'Tom Phillips', 'Stephenie Meyer'], dtype=object)"
      ]
     },
     "execution_count": 10,
     "metadata": {},
     "output_type": "execute_result"
    }
   ],
   "source": [
    "data['Author'].unique()"
   ]
  },
  {
   "cell_type": "markdown",
   "id": "2190333e",
   "metadata": {},
   "source": [
    "## Checking duplicate"
   ]
  },
  {
   "cell_type": "code",
   "execution_count": 11,
   "id": "fee712cb",
   "metadata": {},
   "outputs": [
    {
     "data": {
      "text/plain": [
       "669"
      ]
     },
     "execution_count": 11,
     "metadata": {},
     "output_type": "execute_result"
    }
   ],
   "source": [
    "len(data) - len(data['Title'].unique())"
   ]
  },
  {
   "cell_type": "code",
   "execution_count": 12,
   "id": "c85f963b",
   "metadata": {},
   "outputs": [
    {
     "data": {
      "text/html": [
       "<div>\n",
       "<style scoped>\n",
       "    .dataframe tbody tr th:only-of-type {\n",
       "        vertical-align: middle;\n",
       "    }\n",
       "\n",
       "    .dataframe tbody tr th {\n",
       "        vertical-align: top;\n",
       "    }\n",
       "\n",
       "    .dataframe thead th {\n",
       "        text-align: right;\n",
       "    }\n",
       "</style>\n",
       "<table border=\"1\" class=\"dataframe\">\n",
       "  <thead>\n",
       "    <tr style=\"text-align: right;\">\n",
       "      <th></th>\n",
       "      <th>Title</th>\n",
       "      <th>Author</th>\n",
       "      <th>Edition</th>\n",
       "      <th>Reviews</th>\n",
       "      <th>Ratings</th>\n",
       "      <th>Synopsis</th>\n",
       "      <th>Genre</th>\n",
       "      <th>BookCategory</th>\n",
       "      <th>Price</th>\n",
       "    </tr>\n",
       "  </thead>\n",
       "  <tbody>\n",
       "  </tbody>\n",
       "</table>\n",
       "</div>"
      ],
      "text/plain": [
       "Empty DataFrame\n",
       "Columns: [Title, Author, Edition, Reviews, Ratings, Synopsis, Genre, BookCategory, Price]\n",
       "Index: []"
      ]
     },
     "execution_count": 12,
     "metadata": {},
     "output_type": "execute_result"
    }
   ],
   "source": [
    "data[data.duplicated()]"
   ]
  },
  {
   "cell_type": "code",
   "execution_count": 13,
   "id": "c12c92dc",
   "metadata": {},
   "outputs": [
    {
     "data": {
      "text/html": [
       "<div>\n",
       "<style scoped>\n",
       "    .dataframe tbody tr th:only-of-type {\n",
       "        vertical-align: middle;\n",
       "    }\n",
       "\n",
       "    .dataframe tbody tr th {\n",
       "        vertical-align: top;\n",
       "    }\n",
       "\n",
       "    .dataframe thead th {\n",
       "        text-align: right;\n",
       "    }\n",
       "</style>\n",
       "<table border=\"1\" class=\"dataframe\">\n",
       "  <thead>\n",
       "    <tr style=\"text-align: right;\">\n",
       "      <th></th>\n",
       "      <th>Title</th>\n",
       "      <th>Author</th>\n",
       "      <th>Edition</th>\n",
       "      <th>Reviews</th>\n",
       "      <th>Ratings</th>\n",
       "      <th>Synopsis</th>\n",
       "      <th>Genre</th>\n",
       "      <th>BookCategory</th>\n",
       "      <th>Price</th>\n",
       "    </tr>\n",
       "  </thead>\n",
       "  <tbody>\n",
       "    <tr>\n",
       "      <th>208</th>\n",
       "      <td>Men Without Women: Stories</td>\n",
       "      <td>Haruki Murakami</td>\n",
       "      <td>Paperback,– Import, 27 Sep 2018</td>\n",
       "      <td>4.1 out of 5 stars</td>\n",
       "      <td>93 customer reviews</td>\n",
       "      <td>THE SUNDAY TIMES BESTSELLER\\n\\nA dazzling new ...</td>\n",
       "      <td>Action &amp; Adventure (Books)</td>\n",
       "      <td>Action &amp; Adventure</td>\n",
       "      <td>304.0</td>\n",
       "    </tr>\n",
       "    <tr>\n",
       "      <th>453</th>\n",
       "      <td>Supreme Whispers: Supreme Court Judges, 1980-90</td>\n",
       "      <td>Abhinav Chandrachud</td>\n",
       "      <td>Hardcover,– 30 May 2018</td>\n",
       "      <td>4.6 out of 5 stars</td>\n",
       "      <td>10 customer reviews</td>\n",
       "      <td>In 1980, a brilliant young American scholar, G...</td>\n",
       "      <td>Arts History, Theory &amp; Criticism (Books)</td>\n",
       "      <td>Biographies, Diaries &amp; True Accounts</td>\n",
       "      <td>350.0</td>\n",
       "    </tr>\n",
       "    <tr>\n",
       "      <th>487</th>\n",
       "      <td>No-Drama Discipline: The Whole-Brain Way to Ca...</td>\n",
       "      <td>Daniel J. Siegel</td>\n",
       "      <td>Hardcover,– 23 Sep 2014</td>\n",
       "      <td>5.0 out of 5 stars</td>\n",
       "      <td>8 customer reviews</td>\n",
       "      <td>NEW YORK TIMES BESTSELLER • The pioneering exp...</td>\n",
       "      <td>Action &amp; Adventure (Books)</td>\n",
       "      <td>Action &amp; Adventure</td>\n",
       "      <td>514.4</td>\n",
       "    </tr>\n",
       "    <tr>\n",
       "      <th>668</th>\n",
       "      <td>The Emergency: A Personal History</td>\n",
       "      <td>Coomi Kapoor</td>\n",
       "      <td>Paperback,– 16 Jun 2016</td>\n",
       "      <td>4.4 out of 5 stars</td>\n",
       "      <td>97 customer reviews</td>\n",
       "      <td>A searing indictment of the suspension of demo...</td>\n",
       "      <td>Literature</td>\n",
       "      <td>Language, Linguistics &amp; Writing</td>\n",
       "      <td>427.0</td>\n",
       "    </tr>\n",
       "    <tr>\n",
       "      <th>682</th>\n",
       "      <td>Atank Se Samjhauta</td>\n",
       "      <td>Dr. Praveen Tiwari</td>\n",
       "      <td>Paperback,– 18 Mar 2019</td>\n",
       "      <td>5.0 out of 5 stars</td>\n",
       "      <td>7 customer reviews</td>\n",
       "      <td>Saffron terrorism.\\nIs it a fact? Or, is this ...</td>\n",
       "      <td>Action &amp; Adventure (Books)</td>\n",
       "      <td>Action &amp; Adventure</td>\n",
       "      <td>256.0</td>\n",
       "    </tr>\n",
       "    <tr>\n",
       "      <th>...</th>\n",
       "      <td>...</td>\n",
       "      <td>...</td>\n",
       "      <td>...</td>\n",
       "      <td>...</td>\n",
       "      <td>...</td>\n",
       "      <td>...</td>\n",
       "      <td>...</td>\n",
       "      <td>...</td>\n",
       "      <td>...</td>\n",
       "    </tr>\n",
       "    <tr>\n",
       "      <th>6224</th>\n",
       "      <td>Asterix and the Goths: Album 3</td>\n",
       "      <td>Albert Uderzo</td>\n",
       "      <td>Paperback,– 21 Apr 2005</td>\n",
       "      <td>3.8 out of 5 stars</td>\n",
       "      <td>6 customer reviews</td>\n",
       "      <td>Asterix and Obelix escort Getafix to the druid...</td>\n",
       "      <td>Mangas</td>\n",
       "      <td>Comics &amp; Mangas</td>\n",
       "      <td>296.0</td>\n",
       "    </tr>\n",
       "    <tr>\n",
       "      <th>6225</th>\n",
       "      <td>Dragon Masters #2: Saving the Sun Dragon</td>\n",
       "      <td>Tracey West</td>\n",
       "      <td>Paperback,– 14 May 2015</td>\n",
       "      <td>4.6 out of 5 stars</td>\n",
       "      <td>3 customer reviews</td>\n",
       "      <td>Dragon Masters has it all--dragons, Dragon Sto...</td>\n",
       "      <td>Action &amp; Adventure (Books)</td>\n",
       "      <td>Action &amp; Adventure</td>\n",
       "      <td>300.0</td>\n",
       "    </tr>\n",
       "    <tr>\n",
       "      <th>6226</th>\n",
       "      <td>Bhagwaan Ke Pakwaan: Food of the Gods</td>\n",
       "      <td>Devang Singh</td>\n",
       "      <td>Paperback,– 4 Feb 2019</td>\n",
       "      <td>3.7 out of 5 stars</td>\n",
       "      <td>8 customer reviews</td>\n",
       "      <td>The rice beer bellies of a Christian village i...</td>\n",
       "      <td>Food &amp; Lodging</td>\n",
       "      <td>Humour</td>\n",
       "      <td>358.0</td>\n",
       "    </tr>\n",
       "    <tr>\n",
       "      <th>6229</th>\n",
       "      <td>A Legacy of Spies</td>\n",
       "      <td>John le Carré</td>\n",
       "      <td>Paperback,– 4 Oct 2017</td>\n",
       "      <td>4.1 out of 5 stars</td>\n",
       "      <td>29 customer reviews</td>\n",
       "      <td>Peter Guillam, staunch colleague and disciple ...</td>\n",
       "      <td>Action &amp; Adventure (Books)</td>\n",
       "      <td>Action &amp; Adventure</td>\n",
       "      <td>295.0</td>\n",
       "    </tr>\n",
       "    <tr>\n",
       "      <th>6231</th>\n",
       "      <td>Gone Girl</td>\n",
       "      <td>Gillian Flynn</td>\n",
       "      <td>Paperback,– 3 Jan 2013</td>\n",
       "      <td>4.1 out of 5 stars</td>\n",
       "      <td>407 customer reviews</td>\n",
       "      <td>THE ADDICTIVE No.1 BESTSELLER AND INTERNATIONA...</td>\n",
       "      <td>Romance (Books)</td>\n",
       "      <td>Romance</td>\n",
       "      <td>227.0</td>\n",
       "    </tr>\n",
       "  </tbody>\n",
       "</table>\n",
       "<p>669 rows × 9 columns</p>\n",
       "</div>"
      ],
      "text/plain": [
       "                                                  Title               Author  \\\n",
       "208                          Men Without Women: Stories      Haruki Murakami   \n",
       "453     Supreme Whispers: Supreme Court Judges, 1980-90  Abhinav Chandrachud   \n",
       "487   No-Drama Discipline: The Whole-Brain Way to Ca...     Daniel J. Siegel   \n",
       "668                   The Emergency: A Personal History         Coomi Kapoor   \n",
       "682                                  Atank Se Samjhauta   Dr. Praveen Tiwari   \n",
       "...                                                 ...                  ...   \n",
       "6224                     Asterix and the Goths: Album 3        Albert Uderzo   \n",
       "6225           Dragon Masters #2: Saving the Sun Dragon          Tracey West   \n",
       "6226              Bhagwaan Ke Pakwaan: Food of the Gods         Devang Singh   \n",
       "6229                                  A Legacy of Spies        John le Carré   \n",
       "6231                                          Gone Girl        Gillian Flynn   \n",
       "\n",
       "                              Edition             Reviews  \\\n",
       "208   Paperback,– Import, 27 Sep 2018  4.1 out of 5 stars   \n",
       "453           Hardcover,– 30 May 2018  4.6 out of 5 stars   \n",
       "487           Hardcover,– 23 Sep 2014  5.0 out of 5 stars   \n",
       "668           Paperback,– 16 Jun 2016  4.4 out of 5 stars   \n",
       "682           Paperback,– 18 Mar 2019  5.0 out of 5 stars   \n",
       "...                               ...                 ...   \n",
       "6224          Paperback,– 21 Apr 2005  3.8 out of 5 stars   \n",
       "6225          Paperback,– 14 May 2015  4.6 out of 5 stars   \n",
       "6226           Paperback,– 4 Feb 2019  3.7 out of 5 stars   \n",
       "6229           Paperback,– 4 Oct 2017  4.1 out of 5 stars   \n",
       "6231           Paperback,– 3 Jan 2013  4.1 out of 5 stars   \n",
       "\n",
       "                   Ratings                                           Synopsis  \\\n",
       "208    93 customer reviews  THE SUNDAY TIMES BESTSELLER\\n\\nA dazzling new ...   \n",
       "453    10 customer reviews  In 1980, a brilliant young American scholar, G...   \n",
       "487     8 customer reviews  NEW YORK TIMES BESTSELLER • The pioneering exp...   \n",
       "668    97 customer reviews  A searing indictment of the suspension of demo...   \n",
       "682     7 customer reviews  Saffron terrorism.\\nIs it a fact? Or, is this ...   \n",
       "...                    ...                                                ...   \n",
       "6224    6 customer reviews  Asterix and Obelix escort Getafix to the druid...   \n",
       "6225    3 customer reviews  Dragon Masters has it all--dragons, Dragon Sto...   \n",
       "6226    8 customer reviews  The rice beer bellies of a Christian village i...   \n",
       "6229   29 customer reviews  Peter Guillam, staunch colleague and disciple ...   \n",
       "6231  407 customer reviews  THE ADDICTIVE No.1 BESTSELLER AND INTERNATIONA...   \n",
       "\n",
       "                                         Genre  \\\n",
       "208                 Action & Adventure (Books)   \n",
       "453   Arts History, Theory & Criticism (Books)   \n",
       "487                 Action & Adventure (Books)   \n",
       "668                                 Literature   \n",
       "682                 Action & Adventure (Books)   \n",
       "...                                        ...   \n",
       "6224                                    Mangas   \n",
       "6225                Action & Adventure (Books)   \n",
       "6226                            Food & Lodging   \n",
       "6229                Action & Adventure (Books)   \n",
       "6231                           Romance (Books)   \n",
       "\n",
       "                              BookCategory  Price  \n",
       "208                     Action & Adventure  304.0  \n",
       "453   Biographies, Diaries & True Accounts  350.0  \n",
       "487                     Action & Adventure  514.4  \n",
       "668        Language, Linguistics & Writing  427.0  \n",
       "682                     Action & Adventure  256.0  \n",
       "...                                    ...    ...  \n",
       "6224                       Comics & Mangas  296.0  \n",
       "6225                    Action & Adventure  300.0  \n",
       "6226                                Humour  358.0  \n",
       "6229                    Action & Adventure  295.0  \n",
       "6231                               Romance  227.0  \n",
       "\n",
       "[669 rows x 9 columns]"
      ]
     },
     "execution_count": 13,
     "metadata": {},
     "output_type": "execute_result"
    }
   ],
   "source": [
    "data[data['Title'].duplicated()]"
   ]
  },
  {
   "cell_type": "code",
   "execution_count": 14,
   "id": "12174a60",
   "metadata": {},
   "outputs": [
    {
     "data": {
      "text/html": [
       "<div>\n",
       "<style scoped>\n",
       "    .dataframe tbody tr th:only-of-type {\n",
       "        vertical-align: middle;\n",
       "    }\n",
       "\n",
       "    .dataframe tbody tr th {\n",
       "        vertical-align: top;\n",
       "    }\n",
       "\n",
       "    .dataframe thead th {\n",
       "        text-align: right;\n",
       "    }\n",
       "</style>\n",
       "<table border=\"1\" class=\"dataframe\">\n",
       "  <thead>\n",
       "    <tr style=\"text-align: right;\">\n",
       "      <th></th>\n",
       "      <th>Title</th>\n",
       "      <th>Author</th>\n",
       "      <th>Edition</th>\n",
       "      <th>Reviews</th>\n",
       "      <th>Ratings</th>\n",
       "      <th>Synopsis</th>\n",
       "      <th>Genre</th>\n",
       "      <th>BookCategory</th>\n",
       "      <th>Price</th>\n",
       "    </tr>\n",
       "  </thead>\n",
       "  <tbody>\n",
       "    <tr>\n",
       "      <th>72</th>\n",
       "      <td>Men Without Women: Stories</td>\n",
       "      <td>Haruki Murakami</td>\n",
       "      <td>Paperback,– Import, 27 Sep 2018</td>\n",
       "      <td>4.1 out of 5 stars</td>\n",
       "      <td>95 customer reviews</td>\n",
       "      <td>THE SUNDAY TIMES BESTSELLER\\n\\nA dazzling new ...</td>\n",
       "      <td>Action &amp; Adventure (Books)</td>\n",
       "      <td>Action &amp; Adventure</td>\n",
       "      <td>304.0</td>\n",
       "    </tr>\n",
       "    <tr>\n",
       "      <th>208</th>\n",
       "      <td>Men Without Women: Stories</td>\n",
       "      <td>Haruki Murakami</td>\n",
       "      <td>Paperback,– Import, 27 Sep 2018</td>\n",
       "      <td>4.1 out of 5 stars</td>\n",
       "      <td>93 customer reviews</td>\n",
       "      <td>THE SUNDAY TIMES BESTSELLER\\n\\nA dazzling new ...</td>\n",
       "      <td>Action &amp; Adventure (Books)</td>\n",
       "      <td>Action &amp; Adventure</td>\n",
       "      <td>304.0</td>\n",
       "    </tr>\n",
       "  </tbody>\n",
       "</table>\n",
       "</div>"
      ],
      "text/plain": [
       "                          Title           Author  \\\n",
       "72   Men Without Women: Stories  Haruki Murakami   \n",
       "208  Men Without Women: Stories  Haruki Murakami   \n",
       "\n",
       "                             Edition             Reviews              Ratings  \\\n",
       "72   Paperback,– Import, 27 Sep 2018  4.1 out of 5 stars  95 customer reviews   \n",
       "208  Paperback,– Import, 27 Sep 2018  4.1 out of 5 stars  93 customer reviews   \n",
       "\n",
       "                                              Synopsis  \\\n",
       "72   THE SUNDAY TIMES BESTSELLER\\n\\nA dazzling new ...   \n",
       "208  THE SUNDAY TIMES BESTSELLER\\n\\nA dazzling new ...   \n",
       "\n",
       "                          Genre        BookCategory  Price  \n",
       "72   Action & Adventure (Books)  Action & Adventure  304.0  \n",
       "208  Action & Adventure (Books)  Action & Adventure  304.0  "
      ]
     },
     "execution_count": 14,
     "metadata": {},
     "output_type": "execute_result"
    }
   ],
   "source": [
    "data[data['Title'] == 'Men Without Women: Stories']"
   ]
  },
  {
   "cell_type": "code",
   "execution_count": 15,
   "id": "af550126",
   "metadata": {},
   "outputs": [
    {
     "data": {
      "text/html": [
       "<div>\n",
       "<style scoped>\n",
       "    .dataframe tbody tr th:only-of-type {\n",
       "        vertical-align: middle;\n",
       "    }\n",
       "\n",
       "    .dataframe tbody tr th {\n",
       "        vertical-align: top;\n",
       "    }\n",
       "\n",
       "    .dataframe thead th {\n",
       "        text-align: right;\n",
       "    }\n",
       "</style>\n",
       "<table border=\"1\" class=\"dataframe\">\n",
       "  <thead>\n",
       "    <tr style=\"text-align: right;\">\n",
       "      <th></th>\n",
       "      <th>Title</th>\n",
       "      <th>Author</th>\n",
       "      <th>Edition</th>\n",
       "      <th>Reviews</th>\n",
       "      <th>Ratings</th>\n",
       "      <th>Synopsis</th>\n",
       "      <th>Genre</th>\n",
       "      <th>BookCategory</th>\n",
       "      <th>Price</th>\n",
       "    </tr>\n",
       "  </thead>\n",
       "  <tbody>\n",
       "    <tr>\n",
       "      <th>459</th>\n",
       "      <td>Asterix and the Goths: Album 3</td>\n",
       "      <td>Albert Uderzo</td>\n",
       "      <td>Paperback,– 21 Apr 2005</td>\n",
       "      <td>3.8 out of 5 stars</td>\n",
       "      <td>6 customer reviews</td>\n",
       "      <td>Asterix and Obelix escort Getafix to the druid...</td>\n",
       "      <td>Mangas</td>\n",
       "      <td>Humour</td>\n",
       "      <td>355.0</td>\n",
       "    </tr>\n",
       "    <tr>\n",
       "      <th>6224</th>\n",
       "      <td>Asterix and the Goths: Album 3</td>\n",
       "      <td>Albert Uderzo</td>\n",
       "      <td>Paperback,– 21 Apr 2005</td>\n",
       "      <td>3.8 out of 5 stars</td>\n",
       "      <td>6 customer reviews</td>\n",
       "      <td>Asterix and Obelix escort Getafix to the druid...</td>\n",
       "      <td>Mangas</td>\n",
       "      <td>Comics &amp; Mangas</td>\n",
       "      <td>296.0</td>\n",
       "    </tr>\n",
       "  </tbody>\n",
       "</table>\n",
       "</div>"
      ],
      "text/plain": [
       "                               Title         Author                  Edition  \\\n",
       "459   Asterix and the Goths: Album 3  Albert Uderzo  Paperback,– 21 Apr 2005   \n",
       "6224  Asterix and the Goths: Album 3  Albert Uderzo  Paperback,– 21 Apr 2005   \n",
       "\n",
       "                 Reviews             Ratings  \\\n",
       "459   3.8 out of 5 stars  6 customer reviews   \n",
       "6224  3.8 out of 5 stars  6 customer reviews   \n",
       "\n",
       "                                               Synopsis   Genre  \\\n",
       "459   Asterix and Obelix escort Getafix to the druid...  Mangas   \n",
       "6224  Asterix and Obelix escort Getafix to the druid...  Mangas   \n",
       "\n",
       "         BookCategory  Price  \n",
       "459            Humour  355.0  \n",
       "6224  Comics & Mangas  296.0  "
      ]
     },
     "execution_count": 15,
     "metadata": {},
     "output_type": "execute_result"
    }
   ],
   "source": [
    "data[data['Title'] == 'Asterix and the Goths: Album 3']"
   ]
  },
  {
   "cell_type": "code",
   "execution_count": 16,
   "id": "bb481835",
   "metadata": {},
   "outputs": [
    {
     "data": {
      "text/html": [
       "<div>\n",
       "<style scoped>\n",
       "    .dataframe tbody tr th:only-of-type {\n",
       "        vertical-align: middle;\n",
       "    }\n",
       "\n",
       "    .dataframe tbody tr th {\n",
       "        vertical-align: top;\n",
       "    }\n",
       "\n",
       "    .dataframe thead th {\n",
       "        text-align: right;\n",
       "    }\n",
       "</style>\n",
       "<table border=\"1\" class=\"dataframe\">\n",
       "  <thead>\n",
       "    <tr style=\"text-align: right;\">\n",
       "      <th></th>\n",
       "      <th>Title</th>\n",
       "      <th>Author</th>\n",
       "      <th>Edition</th>\n",
       "      <th>Reviews</th>\n",
       "      <th>Ratings</th>\n",
       "      <th>Synopsis</th>\n",
       "      <th>Genre</th>\n",
       "      <th>BookCategory</th>\n",
       "      <th>Price</th>\n",
       "    </tr>\n",
       "  </thead>\n",
       "  <tbody>\n",
       "    <tr>\n",
       "      <th>51</th>\n",
       "      <td>The Emergency: A Personal History</td>\n",
       "      <td>Coomi Kapoor</td>\n",
       "      <td>Paperback,– 16 Jun 2016</td>\n",
       "      <td>4.4 out of 5 stars</td>\n",
       "      <td>97 customer reviews</td>\n",
       "      <td>A searing indictment of the suspension of demo...</td>\n",
       "      <td>Literature</td>\n",
       "      <td>Biographies, Diaries &amp; True Accounts</td>\n",
       "      <td>427.0</td>\n",
       "    </tr>\n",
       "    <tr>\n",
       "      <th>668</th>\n",
       "      <td>The Emergency: A Personal History</td>\n",
       "      <td>Coomi Kapoor</td>\n",
       "      <td>Paperback,– 16 Jun 2016</td>\n",
       "      <td>4.4 out of 5 stars</td>\n",
       "      <td>97 customer reviews</td>\n",
       "      <td>A searing indictment of the suspension of demo...</td>\n",
       "      <td>Literature</td>\n",
       "      <td>Language, Linguistics &amp; Writing</td>\n",
       "      <td>427.0</td>\n",
       "    </tr>\n",
       "  </tbody>\n",
       "</table>\n",
       "</div>"
      ],
      "text/plain": [
       "                                 Title        Author                  Edition  \\\n",
       "51   The Emergency: A Personal History  Coomi Kapoor  Paperback,– 16 Jun 2016   \n",
       "668  The Emergency: A Personal History  Coomi Kapoor  Paperback,– 16 Jun 2016   \n",
       "\n",
       "                Reviews              Ratings  \\\n",
       "51   4.4 out of 5 stars  97 customer reviews   \n",
       "668  4.4 out of 5 stars  97 customer reviews   \n",
       "\n",
       "                                              Synopsis       Genre  \\\n",
       "51   A searing indictment of the suspension of demo...  Literature   \n",
       "668  A searing indictment of the suspension of demo...  Literature   \n",
       "\n",
       "                             BookCategory  Price  \n",
       "51   Biographies, Diaries & True Accounts  427.0  \n",
       "668       Language, Linguistics & Writing  427.0  "
      ]
     },
     "execution_count": 16,
     "metadata": {},
     "output_type": "execute_result"
    }
   ],
   "source": [
    "data[data['Title'] == 'The Emergency: A Personal History']"
   ]
  },
  {
   "cell_type": "code",
   "execution_count": 17,
   "id": "b7a887d7",
   "metadata": {},
   "outputs": [
    {
     "data": {
      "text/html": [
       "<div>\n",
       "<style scoped>\n",
       "    .dataframe tbody tr th:only-of-type {\n",
       "        vertical-align: middle;\n",
       "    }\n",
       "\n",
       "    .dataframe tbody tr th {\n",
       "        vertical-align: top;\n",
       "    }\n",
       "\n",
       "    .dataframe thead th {\n",
       "        text-align: right;\n",
       "    }\n",
       "</style>\n",
       "<table border=\"1\" class=\"dataframe\">\n",
       "  <thead>\n",
       "    <tr style=\"text-align: right;\">\n",
       "      <th></th>\n",
       "      <th>Title</th>\n",
       "      <th>Author</th>\n",
       "      <th>Edition</th>\n",
       "      <th>Reviews</th>\n",
       "      <th>Ratings</th>\n",
       "      <th>Synopsis</th>\n",
       "      <th>Genre</th>\n",
       "      <th>BookCategory</th>\n",
       "      <th>Price</th>\n",
       "    </tr>\n",
       "  </thead>\n",
       "  <tbody>\n",
       "    <tr>\n",
       "      <th>3997</th>\n",
       "      <td>Dragon Masters #2: Saving the Sun Dragon</td>\n",
       "      <td>Tracey West</td>\n",
       "      <td>Paperback,– 14 May 2015</td>\n",
       "      <td>4.6 out of 5 stars</td>\n",
       "      <td>3 customer reviews</td>\n",
       "      <td>Dragon Masters has it all--dragons, Dragon Sto...</td>\n",
       "      <td>Action &amp; Adventure (Books)</td>\n",
       "      <td>Action &amp; Adventure</td>\n",
       "      <td>175.0</td>\n",
       "    </tr>\n",
       "    <tr>\n",
       "      <th>6225</th>\n",
       "      <td>Dragon Masters #2: Saving the Sun Dragon</td>\n",
       "      <td>Tracey West</td>\n",
       "      <td>Paperback,– 14 May 2015</td>\n",
       "      <td>4.6 out of 5 stars</td>\n",
       "      <td>3 customer reviews</td>\n",
       "      <td>Dragon Masters has it all--dragons, Dragon Sto...</td>\n",
       "      <td>Action &amp; Adventure (Books)</td>\n",
       "      <td>Action &amp; Adventure</td>\n",
       "      <td>300.0</td>\n",
       "    </tr>\n",
       "  </tbody>\n",
       "</table>\n",
       "</div>"
      ],
      "text/plain": [
       "                                         Title       Author  \\\n",
       "3997  Dragon Masters #2: Saving the Sun Dragon  Tracey West   \n",
       "6225  Dragon Masters #2: Saving the Sun Dragon  Tracey West   \n",
       "\n",
       "                      Edition             Reviews             Ratings  \\\n",
       "3997  Paperback,– 14 May 2015  4.6 out of 5 stars  3 customer reviews   \n",
       "6225  Paperback,– 14 May 2015  4.6 out of 5 stars  3 customer reviews   \n",
       "\n",
       "                                               Synopsis  \\\n",
       "3997  Dragon Masters has it all--dragons, Dragon Sto...   \n",
       "6225  Dragon Masters has it all--dragons, Dragon Sto...   \n",
       "\n",
       "                           Genre        BookCategory  Price  \n",
       "3997  Action & Adventure (Books)  Action & Adventure  175.0  \n",
       "6225  Action & Adventure (Books)  Action & Adventure  300.0  "
      ]
     },
     "execution_count": 17,
     "metadata": {},
     "output_type": "execute_result"
    }
   ],
   "source": [
    "data[data['Title'] == 'Dragon Masters #2: Saving the Sun Dragon']"
   ]
  },
  {
   "cell_type": "code",
   "execution_count": 18,
   "id": "307938b0",
   "metadata": {},
   "outputs": [
    {
     "data": {
      "text/html": [
       "<div>\n",
       "<style scoped>\n",
       "    .dataframe tbody tr th:only-of-type {\n",
       "        vertical-align: middle;\n",
       "    }\n",
       "\n",
       "    .dataframe tbody tr th {\n",
       "        vertical-align: top;\n",
       "    }\n",
       "\n",
       "    .dataframe thead th {\n",
       "        text-align: right;\n",
       "    }\n",
       "</style>\n",
       "<table border=\"1\" class=\"dataframe\">\n",
       "  <thead>\n",
       "    <tr style=\"text-align: right;\">\n",
       "      <th></th>\n",
       "      <th>Title</th>\n",
       "      <th>Author</th>\n",
       "      <th>Edition</th>\n",
       "      <th>Reviews</th>\n",
       "      <th>Ratings</th>\n",
       "      <th>Synopsis</th>\n",
       "      <th>Genre</th>\n",
       "      <th>BookCategory</th>\n",
       "      <th>Price</th>\n",
       "    </tr>\n",
       "  </thead>\n",
       "  <tbody>\n",
       "    <tr>\n",
       "      <th>571</th>\n",
       "      <td>A Legacy of Spies</td>\n",
       "      <td>John le Carré</td>\n",
       "      <td>Paperback,– 4 Oct 2017</td>\n",
       "      <td>4.1 out of 5 stars</td>\n",
       "      <td>29 customer reviews</td>\n",
       "      <td>Peter Guillam, staunch colleague and disciple ...</td>\n",
       "      <td>Action &amp; Adventure (Books)</td>\n",
       "      <td>Politics</td>\n",
       "      <td>295.0</td>\n",
       "    </tr>\n",
       "    <tr>\n",
       "      <th>6229</th>\n",
       "      <td>A Legacy of Spies</td>\n",
       "      <td>John le Carré</td>\n",
       "      <td>Paperback,– 4 Oct 2017</td>\n",
       "      <td>4.1 out of 5 stars</td>\n",
       "      <td>29 customer reviews</td>\n",
       "      <td>Peter Guillam, staunch colleague and disciple ...</td>\n",
       "      <td>Action &amp; Adventure (Books)</td>\n",
       "      <td>Action &amp; Adventure</td>\n",
       "      <td>295.0</td>\n",
       "    </tr>\n",
       "  </tbody>\n",
       "</table>\n",
       "</div>"
      ],
      "text/plain": [
       "                  Title         Author                 Edition  \\\n",
       "571   A Legacy of Spies  John le Carré  Paperback,– 4 Oct 2017   \n",
       "6229  A Legacy of Spies  John le Carré  Paperback,– 4 Oct 2017   \n",
       "\n",
       "                 Reviews              Ratings  \\\n",
       "571   4.1 out of 5 stars  29 customer reviews   \n",
       "6229  4.1 out of 5 stars  29 customer reviews   \n",
       "\n",
       "                                               Synopsis  \\\n",
       "571   Peter Guillam, staunch colleague and disciple ...   \n",
       "6229  Peter Guillam, staunch colleague and disciple ...   \n",
       "\n",
       "                           Genre        BookCategory  Price  \n",
       "571   Action & Adventure (Books)            Politics  295.0  \n",
       "6229  Action & Adventure (Books)  Action & Adventure  295.0  "
      ]
     },
     "execution_count": 18,
     "metadata": {},
     "output_type": "execute_result"
    }
   ],
   "source": [
    "data[data['Title'] == 'A Legacy of Spies']"
   ]
  },
  {
   "cell_type": "code",
   "execution_count": 19,
   "id": "15b77d58",
   "metadata": {},
   "outputs": [
    {
     "data": {
      "text/html": [
       "<div>\n",
       "<style scoped>\n",
       "    .dataframe tbody tr th:only-of-type {\n",
       "        vertical-align: middle;\n",
       "    }\n",
       "\n",
       "    .dataframe tbody tr th {\n",
       "        vertical-align: top;\n",
       "    }\n",
       "\n",
       "    .dataframe thead th {\n",
       "        text-align: right;\n",
       "    }\n",
       "</style>\n",
       "<table border=\"1\" class=\"dataframe\">\n",
       "  <thead>\n",
       "    <tr style=\"text-align: right;\">\n",
       "      <th></th>\n",
       "      <th>Title</th>\n",
       "      <th>Author</th>\n",
       "      <th>Edition</th>\n",
       "      <th>Reviews</th>\n",
       "      <th>Ratings</th>\n",
       "      <th>Synopsis</th>\n",
       "      <th>Genre</th>\n",
       "      <th>BookCategory</th>\n",
       "      <th>Price</th>\n",
       "    </tr>\n",
       "  </thead>\n",
       "  <tbody>\n",
       "    <tr>\n",
       "      <th>2980</th>\n",
       "      <td>Gone Girl</td>\n",
       "      <td>Gillian Flynn</td>\n",
       "      <td>Paperback,– 8 Nov 2012</td>\n",
       "      <td>4.1 out of 5 stars</td>\n",
       "      <td>407 customer reviews</td>\n",
       "      <td>About The Book\\nGone Girl is a novel written b...</td>\n",
       "      <td>Contemporary Fiction (Books)</td>\n",
       "      <td>Crime, Thriller &amp; Mystery</td>\n",
       "      <td>300.0</td>\n",
       "    </tr>\n",
       "    <tr>\n",
       "      <th>6231</th>\n",
       "      <td>Gone Girl</td>\n",
       "      <td>Gillian Flynn</td>\n",
       "      <td>Paperback,– 3 Jan 2013</td>\n",
       "      <td>4.1 out of 5 stars</td>\n",
       "      <td>407 customer reviews</td>\n",
       "      <td>THE ADDICTIVE No.1 BESTSELLER AND INTERNATIONA...</td>\n",
       "      <td>Romance (Books)</td>\n",
       "      <td>Romance</td>\n",
       "      <td>227.0</td>\n",
       "    </tr>\n",
       "  </tbody>\n",
       "</table>\n",
       "</div>"
      ],
      "text/plain": [
       "          Title         Author                 Edition             Reviews  \\\n",
       "2980  Gone Girl  Gillian Flynn  Paperback,– 8 Nov 2012  4.1 out of 5 stars   \n",
       "6231  Gone Girl  Gillian Flynn  Paperback,– 3 Jan 2013  4.1 out of 5 stars   \n",
       "\n",
       "                   Ratings                                           Synopsis  \\\n",
       "2980  407 customer reviews  About The Book\\nGone Girl is a novel written b...   \n",
       "6231  407 customer reviews  THE ADDICTIVE No.1 BESTSELLER AND INTERNATIONA...   \n",
       "\n",
       "                             Genre               BookCategory  Price  \n",
       "2980  Contemporary Fiction (Books)  Crime, Thriller & Mystery  300.0  \n",
       "6231               Romance (Books)                    Romance  227.0  "
      ]
     },
     "execution_count": 19,
     "metadata": {},
     "output_type": "execute_result"
    }
   ],
   "source": [
    "data[data['Title'] == 'Gone Girl']"
   ]
  },
  {
   "cell_type": "code",
   "execution_count": 20,
   "id": "421c4604",
   "metadata": {},
   "outputs": [
    {
     "data": {
      "text/html": [
       "<div>\n",
       "<style scoped>\n",
       "    .dataframe tbody tr th:only-of-type {\n",
       "        vertical-align: middle;\n",
       "    }\n",
       "\n",
       "    .dataframe tbody tr th {\n",
       "        vertical-align: top;\n",
       "    }\n",
       "\n",
       "    .dataframe thead th {\n",
       "        text-align: right;\n",
       "    }\n",
       "</style>\n",
       "<table border=\"1\" class=\"dataframe\">\n",
       "  <thead>\n",
       "    <tr style=\"text-align: right;\">\n",
       "      <th></th>\n",
       "      <th>Title</th>\n",
       "      <th>Author</th>\n",
       "      <th>Edition</th>\n",
       "      <th>Reviews</th>\n",
       "      <th>Ratings</th>\n",
       "      <th>Synopsis</th>\n",
       "      <th>Genre</th>\n",
       "      <th>BookCategory</th>\n",
       "      <th>Price</th>\n",
       "    </tr>\n",
       "  </thead>\n",
       "  <tbody>\n",
       "    <tr>\n",
       "      <th>208</th>\n",
       "      <td>Men Without Women: Stories</td>\n",
       "      <td>Haruki Murakami</td>\n",
       "      <td>Paperback,– Import, 27 Sep 2018</td>\n",
       "      <td>4.1 out of 5 stars</td>\n",
       "      <td>93 customer reviews</td>\n",
       "      <td>THE SUNDAY TIMES BESTSELLER\\n\\nA dazzling new ...</td>\n",
       "      <td>Action &amp; Adventure (Books)</td>\n",
       "      <td>Action &amp; Adventure</td>\n",
       "      <td>304.0</td>\n",
       "    </tr>\n",
       "    <tr>\n",
       "      <th>453</th>\n",
       "      <td>Supreme Whispers: Supreme Court Judges, 1980-90</td>\n",
       "      <td>Abhinav Chandrachud</td>\n",
       "      <td>Hardcover,– 30 May 2018</td>\n",
       "      <td>4.6 out of 5 stars</td>\n",
       "      <td>10 customer reviews</td>\n",
       "      <td>In 1980, a brilliant young American scholar, G...</td>\n",
       "      <td>Arts History, Theory &amp; Criticism (Books)</td>\n",
       "      <td>Biographies, Diaries &amp; True Accounts</td>\n",
       "      <td>350.0</td>\n",
       "    </tr>\n",
       "    <tr>\n",
       "      <th>487</th>\n",
       "      <td>No-Drama Discipline: The Whole-Brain Way to Ca...</td>\n",
       "      <td>Daniel J. Siegel</td>\n",
       "      <td>Hardcover,– 23 Sep 2014</td>\n",
       "      <td>5.0 out of 5 stars</td>\n",
       "      <td>8 customer reviews</td>\n",
       "      <td>NEW YORK TIMES BESTSELLER • The pioneering exp...</td>\n",
       "      <td>Action &amp; Adventure (Books)</td>\n",
       "      <td>Action &amp; Adventure</td>\n",
       "      <td>514.4</td>\n",
       "    </tr>\n",
       "    <tr>\n",
       "      <th>668</th>\n",
       "      <td>The Emergency: A Personal History</td>\n",
       "      <td>Coomi Kapoor</td>\n",
       "      <td>Paperback,– 16 Jun 2016</td>\n",
       "      <td>4.4 out of 5 stars</td>\n",
       "      <td>97 customer reviews</td>\n",
       "      <td>A searing indictment of the suspension of demo...</td>\n",
       "      <td>Literature</td>\n",
       "      <td>Language, Linguistics &amp; Writing</td>\n",
       "      <td>427.0</td>\n",
       "    </tr>\n",
       "    <tr>\n",
       "      <th>682</th>\n",
       "      <td>Atank Se Samjhauta</td>\n",
       "      <td>Dr. Praveen Tiwari</td>\n",
       "      <td>Paperback,– 18 Mar 2019</td>\n",
       "      <td>5.0 out of 5 stars</td>\n",
       "      <td>7 customer reviews</td>\n",
       "      <td>Saffron terrorism.\\nIs it a fact? Or, is this ...</td>\n",
       "      <td>Action &amp; Adventure (Books)</td>\n",
       "      <td>Action &amp; Adventure</td>\n",
       "      <td>256.0</td>\n",
       "    </tr>\n",
       "    <tr>\n",
       "      <th>...</th>\n",
       "      <td>...</td>\n",
       "      <td>...</td>\n",
       "      <td>...</td>\n",
       "      <td>...</td>\n",
       "      <td>...</td>\n",
       "      <td>...</td>\n",
       "      <td>...</td>\n",
       "      <td>...</td>\n",
       "      <td>...</td>\n",
       "    </tr>\n",
       "    <tr>\n",
       "      <th>6216</th>\n",
       "      <td>The Bridget Jones Omnibus: The Singleton Years</td>\n",
       "      <td>Helen Fielding</td>\n",
       "      <td>Paperback,– 20 Jun 2013</td>\n",
       "      <td>4.4 out of 5 stars</td>\n",
       "      <td>2 customer reviews</td>\n",
       "      <td>A dazzling urban satire of modern relationship...</td>\n",
       "      <td>Romance (Books)</td>\n",
       "      <td>Romance</td>\n",
       "      <td>245.0</td>\n",
       "    </tr>\n",
       "    <tr>\n",
       "      <th>6224</th>\n",
       "      <td>Asterix and the Goths: Album 3</td>\n",
       "      <td>Albert Uderzo</td>\n",
       "      <td>Paperback,– 21 Apr 2005</td>\n",
       "      <td>3.8 out of 5 stars</td>\n",
       "      <td>6 customer reviews</td>\n",
       "      <td>Asterix and Obelix escort Getafix to the druid...</td>\n",
       "      <td>Mangas</td>\n",
       "      <td>Comics &amp; Mangas</td>\n",
       "      <td>296.0</td>\n",
       "    </tr>\n",
       "    <tr>\n",
       "      <th>6225</th>\n",
       "      <td>Dragon Masters #2: Saving the Sun Dragon</td>\n",
       "      <td>Tracey West</td>\n",
       "      <td>Paperback,– 14 May 2015</td>\n",
       "      <td>4.6 out of 5 stars</td>\n",
       "      <td>3 customer reviews</td>\n",
       "      <td>Dragon Masters has it all--dragons, Dragon Sto...</td>\n",
       "      <td>Action &amp; Adventure (Books)</td>\n",
       "      <td>Action &amp; Adventure</td>\n",
       "      <td>300.0</td>\n",
       "    </tr>\n",
       "    <tr>\n",
       "      <th>6226</th>\n",
       "      <td>Bhagwaan Ke Pakwaan: Food of the Gods</td>\n",
       "      <td>Devang Singh</td>\n",
       "      <td>Paperback,– 4 Feb 2019</td>\n",
       "      <td>3.7 out of 5 stars</td>\n",
       "      <td>8 customer reviews</td>\n",
       "      <td>The rice beer bellies of a Christian village i...</td>\n",
       "      <td>Food &amp; Lodging</td>\n",
       "      <td>Humour</td>\n",
       "      <td>358.0</td>\n",
       "    </tr>\n",
       "    <tr>\n",
       "      <th>6229</th>\n",
       "      <td>A Legacy of Spies</td>\n",
       "      <td>John le Carré</td>\n",
       "      <td>Paperback,– 4 Oct 2017</td>\n",
       "      <td>4.1 out of 5 stars</td>\n",
       "      <td>29 customer reviews</td>\n",
       "      <td>Peter Guillam, staunch colleague and disciple ...</td>\n",
       "      <td>Action &amp; Adventure (Books)</td>\n",
       "      <td>Action &amp; Adventure</td>\n",
       "      <td>295.0</td>\n",
       "    </tr>\n",
       "  </tbody>\n",
       "</table>\n",
       "<p>631 rows × 9 columns</p>\n",
       "</div>"
      ],
      "text/plain": [
       "                                                  Title               Author  \\\n",
       "208                          Men Without Women: Stories      Haruki Murakami   \n",
       "453     Supreme Whispers: Supreme Court Judges, 1980-90  Abhinav Chandrachud   \n",
       "487   No-Drama Discipline: The Whole-Brain Way to Ca...     Daniel J. Siegel   \n",
       "668                   The Emergency: A Personal History         Coomi Kapoor   \n",
       "682                                  Atank Se Samjhauta   Dr. Praveen Tiwari   \n",
       "...                                                 ...                  ...   \n",
       "6216     The Bridget Jones Omnibus: The Singleton Years       Helen Fielding   \n",
       "6224                     Asterix and the Goths: Album 3        Albert Uderzo   \n",
       "6225           Dragon Masters #2: Saving the Sun Dragon          Tracey West   \n",
       "6226              Bhagwaan Ke Pakwaan: Food of the Gods         Devang Singh   \n",
       "6229                                  A Legacy of Spies        John le Carré   \n",
       "\n",
       "                              Edition             Reviews  \\\n",
       "208   Paperback,– Import, 27 Sep 2018  4.1 out of 5 stars   \n",
       "453           Hardcover,– 30 May 2018  4.6 out of 5 stars   \n",
       "487           Hardcover,– 23 Sep 2014  5.0 out of 5 stars   \n",
       "668           Paperback,– 16 Jun 2016  4.4 out of 5 stars   \n",
       "682           Paperback,– 18 Mar 2019  5.0 out of 5 stars   \n",
       "...                               ...                 ...   \n",
       "6216          Paperback,– 20 Jun 2013  4.4 out of 5 stars   \n",
       "6224          Paperback,– 21 Apr 2005  3.8 out of 5 stars   \n",
       "6225          Paperback,– 14 May 2015  4.6 out of 5 stars   \n",
       "6226           Paperback,– 4 Feb 2019  3.7 out of 5 stars   \n",
       "6229           Paperback,– 4 Oct 2017  4.1 out of 5 stars   \n",
       "\n",
       "                  Ratings                                           Synopsis  \\\n",
       "208   93 customer reviews  THE SUNDAY TIMES BESTSELLER\\n\\nA dazzling new ...   \n",
       "453   10 customer reviews  In 1980, a brilliant young American scholar, G...   \n",
       "487    8 customer reviews  NEW YORK TIMES BESTSELLER • The pioneering exp...   \n",
       "668   97 customer reviews  A searing indictment of the suspension of demo...   \n",
       "682    7 customer reviews  Saffron terrorism.\\nIs it a fact? Or, is this ...   \n",
       "...                   ...                                                ...   \n",
       "6216   2 customer reviews  A dazzling urban satire of modern relationship...   \n",
       "6224   6 customer reviews  Asterix and Obelix escort Getafix to the druid...   \n",
       "6225   3 customer reviews  Dragon Masters has it all--dragons, Dragon Sto...   \n",
       "6226   8 customer reviews  The rice beer bellies of a Christian village i...   \n",
       "6229  29 customer reviews  Peter Guillam, staunch colleague and disciple ...   \n",
       "\n",
       "                                         Genre  \\\n",
       "208                 Action & Adventure (Books)   \n",
       "453   Arts History, Theory & Criticism (Books)   \n",
       "487                 Action & Adventure (Books)   \n",
       "668                                 Literature   \n",
       "682                 Action & Adventure (Books)   \n",
       "...                                        ...   \n",
       "6216                           Romance (Books)   \n",
       "6224                                    Mangas   \n",
       "6225                Action & Adventure (Books)   \n",
       "6226                            Food & Lodging   \n",
       "6229                Action & Adventure (Books)   \n",
       "\n",
       "                              BookCategory  Price  \n",
       "208                     Action & Adventure  304.0  \n",
       "453   Biographies, Diaries & True Accounts  350.0  \n",
       "487                     Action & Adventure  514.4  \n",
       "668        Language, Linguistics & Writing  427.0  \n",
       "682                     Action & Adventure  256.0  \n",
       "...                                    ...    ...  \n",
       "6216                               Romance  245.0  \n",
       "6224                       Comics & Mangas  296.0  \n",
       "6225                    Action & Adventure  300.0  \n",
       "6226                                Humour  358.0  \n",
       "6229                    Action & Adventure  295.0  \n",
       "\n",
       "[631 rows x 9 columns]"
      ]
     },
     "execution_count": 20,
     "metadata": {},
     "output_type": "execute_result"
    }
   ],
   "source": [
    "data[data.duplicated(subset = ['Title','Author','Edition'])]"
   ]
  },
  {
   "cell_type": "markdown",
   "id": "520eac2e",
   "metadata": {},
   "source": [
    "##### If Title, Author, and Edition is same then we'll consider that row is duplicate. we'll drop duplicate."
   ]
  },
  {
   "cell_type": "code",
   "execution_count": 21,
   "id": "bed16e28",
   "metadata": {},
   "outputs": [
    {
     "data": {
      "text/plain": [
       "5606"
      ]
     },
     "execution_count": 21,
     "metadata": {},
     "output_type": "execute_result"
    }
   ],
   "source": [
    "data_duplicate_removed = data.drop_duplicates(subset = ['Title','Author','Edition'])\n",
    "len(data_duplicate_removed)"
   ]
  },
  {
   "cell_type": "markdown",
   "id": "062c75cd",
   "metadata": {},
   "source": [
    "### creating two seperate column from Edition column -- Type and Date"
   ]
  },
  {
   "cell_type": "code",
   "execution_count": 22,
   "id": "68fe098d",
   "metadata": {},
   "outputs": [],
   "source": [
    "data_duplicate_removed[['Type','Date']] = data_duplicate_removed['Edition'].str.split(',– ',expand=True)"
   ]
  },
  {
   "cell_type": "code",
   "execution_count": 23,
   "id": "e69b115f",
   "metadata": {},
   "outputs": [
    {
     "data": {
      "text/html": [
       "<div>\n",
       "<style scoped>\n",
       "    .dataframe tbody tr th:only-of-type {\n",
       "        vertical-align: middle;\n",
       "    }\n",
       "\n",
       "    .dataframe tbody tr th {\n",
       "        vertical-align: top;\n",
       "    }\n",
       "\n",
       "    .dataframe thead th {\n",
       "        text-align: right;\n",
       "    }\n",
       "</style>\n",
       "<table border=\"1\" class=\"dataframe\">\n",
       "  <thead>\n",
       "    <tr style=\"text-align: right;\">\n",
       "      <th></th>\n",
       "      <th>Title</th>\n",
       "      <th>Author</th>\n",
       "      <th>Edition</th>\n",
       "      <th>Reviews</th>\n",
       "      <th>Ratings</th>\n",
       "      <th>Synopsis</th>\n",
       "      <th>Genre</th>\n",
       "      <th>BookCategory</th>\n",
       "      <th>Price</th>\n",
       "      <th>Type</th>\n",
       "      <th>Date</th>\n",
       "    </tr>\n",
       "  </thead>\n",
       "  <tbody>\n",
       "    <tr>\n",
       "      <th>0</th>\n",
       "      <td>The Prisoner's Gold (The Hunters 3)</td>\n",
       "      <td>Chris Kuzneski</td>\n",
       "      <td>Paperback,– 10 Mar 2016</td>\n",
       "      <td>4.0 out of 5 stars</td>\n",
       "      <td>8 customer reviews</td>\n",
       "      <td>THE HUNTERS return in their third brilliant no...</td>\n",
       "      <td>Action &amp; Adventure (Books)</td>\n",
       "      <td>Action &amp; Adventure</td>\n",
       "      <td>220.00</td>\n",
       "      <td>Paperback</td>\n",
       "      <td>10 Mar 2016</td>\n",
       "    </tr>\n",
       "    <tr>\n",
       "      <th>1</th>\n",
       "      <td>Guru Dutt: A Tragedy in Three Acts</td>\n",
       "      <td>Arun Khopkar</td>\n",
       "      <td>Paperback,– 7 Nov 2012</td>\n",
       "      <td>3.9 out of 5 stars</td>\n",
       "      <td>14 customer reviews</td>\n",
       "      <td>A layered portrait of a troubled genius for wh...</td>\n",
       "      <td>Cinema &amp; Broadcast (Books)</td>\n",
       "      <td>Biographies, Diaries &amp; True Accounts</td>\n",
       "      <td>202.93</td>\n",
       "      <td>Paperback</td>\n",
       "      <td>7 Nov 2012</td>\n",
       "    </tr>\n",
       "    <tr>\n",
       "      <th>2</th>\n",
       "      <td>Leviathan (Penguin Classics)</td>\n",
       "      <td>Thomas Hobbes</td>\n",
       "      <td>Paperback,– 25 Feb 1982</td>\n",
       "      <td>4.8 out of 5 stars</td>\n",
       "      <td>6 customer reviews</td>\n",
       "      <td>\"During the time men live without a common Pow...</td>\n",
       "      <td>International Relations</td>\n",
       "      <td>Humour</td>\n",
       "      <td>299.00</td>\n",
       "      <td>Paperback</td>\n",
       "      <td>25 Feb 1982</td>\n",
       "    </tr>\n",
       "    <tr>\n",
       "      <th>3</th>\n",
       "      <td>A Pocket Full of Rye (Miss Marple)</td>\n",
       "      <td>Agatha Christie</td>\n",
       "      <td>Paperback,– 5 Oct 2017</td>\n",
       "      <td>4.1 out of 5 stars</td>\n",
       "      <td>13 customer reviews</td>\n",
       "      <td>A handful of grain is found in the pocket of a...</td>\n",
       "      <td>Contemporary Fiction (Books)</td>\n",
       "      <td>Crime, Thriller &amp; Mystery</td>\n",
       "      <td>180.00</td>\n",
       "      <td>Paperback</td>\n",
       "      <td>5 Oct 2017</td>\n",
       "    </tr>\n",
       "    <tr>\n",
       "      <th>4</th>\n",
       "      <td>LIFE 70 Years of Extraordinary Photography</td>\n",
       "      <td>Editors of Life</td>\n",
       "      <td>Hardcover,– 10 Oct 2006</td>\n",
       "      <td>5.0 out of 5 stars</td>\n",
       "      <td>1 customer review</td>\n",
       "      <td>For seven decades, \"Life\" has been thrilling t...</td>\n",
       "      <td>Photography Textbooks</td>\n",
       "      <td>Arts, Film &amp; Photography</td>\n",
       "      <td>965.62</td>\n",
       "      <td>Hardcover</td>\n",
       "      <td>10 Oct 2006</td>\n",
       "    </tr>\n",
       "  </tbody>\n",
       "</table>\n",
       "</div>"
      ],
      "text/plain": [
       "                                        Title           Author  \\\n",
       "0         The Prisoner's Gold (The Hunters 3)   Chris Kuzneski   \n",
       "1          Guru Dutt: A Tragedy in Three Acts     Arun Khopkar   \n",
       "2                Leviathan (Penguin Classics)    Thomas Hobbes   \n",
       "3          A Pocket Full of Rye (Miss Marple)  Agatha Christie   \n",
       "4  LIFE 70 Years of Extraordinary Photography  Editors of Life   \n",
       "\n",
       "                   Edition             Reviews              Ratings  \\\n",
       "0  Paperback,– 10 Mar 2016  4.0 out of 5 stars   8 customer reviews   \n",
       "1   Paperback,– 7 Nov 2012  3.9 out of 5 stars  14 customer reviews   \n",
       "2  Paperback,– 25 Feb 1982  4.8 out of 5 stars   6 customer reviews   \n",
       "3   Paperback,– 5 Oct 2017  4.1 out of 5 stars  13 customer reviews   \n",
       "4  Hardcover,– 10 Oct 2006  5.0 out of 5 stars    1 customer review   \n",
       "\n",
       "                                            Synopsis  \\\n",
       "0  THE HUNTERS return in their third brilliant no...   \n",
       "1  A layered portrait of a troubled genius for wh...   \n",
       "2  \"During the time men live without a common Pow...   \n",
       "3  A handful of grain is found in the pocket of a...   \n",
       "4  For seven decades, \"Life\" has been thrilling t...   \n",
       "\n",
       "                          Genre                          BookCategory   Price  \\\n",
       "0    Action & Adventure (Books)                    Action & Adventure  220.00   \n",
       "1    Cinema & Broadcast (Books)  Biographies, Diaries & True Accounts  202.93   \n",
       "2       International Relations                                Humour  299.00   \n",
       "3  Contemporary Fiction (Books)             Crime, Thriller & Mystery  180.00   \n",
       "4         Photography Textbooks              Arts, Film & Photography  965.62   \n",
       "\n",
       "        Type         Date  \n",
       "0  Paperback  10 Mar 2016  \n",
       "1  Paperback   7 Nov 2012  \n",
       "2  Paperback  25 Feb 1982  \n",
       "3  Paperback   5 Oct 2017  \n",
       "4  Hardcover  10 Oct 2006  "
      ]
     },
     "execution_count": 23,
     "metadata": {},
     "output_type": "execute_result"
    }
   ],
   "source": [
    "data_duplicate_removed.head()"
   ]
  },
  {
   "cell_type": "code",
   "execution_count": 24,
   "id": "a87db176",
   "metadata": {},
   "outputs": [
    {
     "data": {
      "text/plain": [
       "Paperback,– 2016                  45\n",
       "Paperback,– 5 Oct 2017            43\n",
       "Paperback,– 2017                  36\n",
       "Paperback,– 2013                  30\n",
       "Paperback,– 2019                  27\n",
       "                                  ..\n",
       "Hardcover,– 24 Jan 2017            1\n",
       "Paperback,– 15 Apr 1971            1\n",
       "Product Bundle,– 26 Aug 2016       1\n",
       "Paperback,– 29 Oct 2018            1\n",
       "Paperback,– Import, 7 Aug 2018     1\n",
       "Name: Edition, Length: 3370, dtype: int64"
      ]
     },
     "execution_count": 24,
     "metadata": {},
     "output_type": "execute_result"
    }
   ],
   "source": [
    "data_duplicate_removed['Edition'].value_counts()"
   ]
  },
  {
   "cell_type": "code",
   "execution_count": 25,
   "id": "888cdad0",
   "metadata": {},
   "outputs": [
    {
     "data": {
      "text/html": [
       "<div>\n",
       "<style scoped>\n",
       "    .dataframe tbody tr th:only-of-type {\n",
       "        vertical-align: middle;\n",
       "    }\n",
       "\n",
       "    .dataframe tbody tr th {\n",
       "        vertical-align: top;\n",
       "    }\n",
       "\n",
       "    .dataframe thead th {\n",
       "        text-align: right;\n",
       "    }\n",
       "</style>\n",
       "<table border=\"1\" class=\"dataframe\">\n",
       "  <thead>\n",
       "    <tr style=\"text-align: right;\">\n",
       "      <th></th>\n",
       "      <th>Title</th>\n",
       "      <th>Author</th>\n",
       "      <th>Edition</th>\n",
       "      <th>Reviews</th>\n",
       "      <th>Ratings</th>\n",
       "      <th>Synopsis</th>\n",
       "      <th>Genre</th>\n",
       "      <th>BookCategory</th>\n",
       "      <th>Price</th>\n",
       "      <th>Type</th>\n",
       "      <th>Date</th>\n",
       "    </tr>\n",
       "  </thead>\n",
       "  <tbody>\n",
       "    <tr>\n",
       "      <th>0</th>\n",
       "      <td>The Prisoner's Gold (The Hunters 3)</td>\n",
       "      <td>Chris Kuzneski</td>\n",
       "      <td>Paperback,– 10 Mar 2016</td>\n",
       "      <td>4.0 out of 5 stars</td>\n",
       "      <td>8 customer reviews</td>\n",
       "      <td>THE HUNTERS return in their third brilliant no...</td>\n",
       "      <td>Action &amp; Adventure (Books)</td>\n",
       "      <td>Action &amp; Adventure</td>\n",
       "      <td>220.00</td>\n",
       "      <td>Paperback</td>\n",
       "      <td>10 Mar 2016</td>\n",
       "    </tr>\n",
       "    <tr>\n",
       "      <th>1</th>\n",
       "      <td>Guru Dutt: A Tragedy in Three Acts</td>\n",
       "      <td>Arun Khopkar</td>\n",
       "      <td>Paperback,– 7 Nov 2012</td>\n",
       "      <td>3.9 out of 5 stars</td>\n",
       "      <td>14 customer reviews</td>\n",
       "      <td>A layered portrait of a troubled genius for wh...</td>\n",
       "      <td>Cinema &amp; Broadcast (Books)</td>\n",
       "      <td>Biographies, Diaries &amp; True Accounts</td>\n",
       "      <td>202.93</td>\n",
       "      <td>Paperback</td>\n",
       "      <td>7 Nov 2012</td>\n",
       "    </tr>\n",
       "    <tr>\n",
       "      <th>2</th>\n",
       "      <td>Leviathan (Penguin Classics)</td>\n",
       "      <td>Thomas Hobbes</td>\n",
       "      <td>Paperback,– 25 Feb 1982</td>\n",
       "      <td>4.8 out of 5 stars</td>\n",
       "      <td>6 customer reviews</td>\n",
       "      <td>\"During the time men live without a common Pow...</td>\n",
       "      <td>International Relations</td>\n",
       "      <td>Humour</td>\n",
       "      <td>299.00</td>\n",
       "      <td>Paperback</td>\n",
       "      <td>25 Feb 1982</td>\n",
       "    </tr>\n",
       "    <tr>\n",
       "      <th>3</th>\n",
       "      <td>A Pocket Full of Rye (Miss Marple)</td>\n",
       "      <td>Agatha Christie</td>\n",
       "      <td>Paperback,– 5 Oct 2017</td>\n",
       "      <td>4.1 out of 5 stars</td>\n",
       "      <td>13 customer reviews</td>\n",
       "      <td>A handful of grain is found in the pocket of a...</td>\n",
       "      <td>Contemporary Fiction (Books)</td>\n",
       "      <td>Crime, Thriller &amp; Mystery</td>\n",
       "      <td>180.00</td>\n",
       "      <td>Paperback</td>\n",
       "      <td>5 Oct 2017</td>\n",
       "    </tr>\n",
       "    <tr>\n",
       "      <th>4</th>\n",
       "      <td>LIFE 70 Years of Extraordinary Photography</td>\n",
       "      <td>Editors of Life</td>\n",
       "      <td>Hardcover,– 10 Oct 2006</td>\n",
       "      <td>5.0 out of 5 stars</td>\n",
       "      <td>1 customer review</td>\n",
       "      <td>For seven decades, \"Life\" has been thrilling t...</td>\n",
       "      <td>Photography Textbooks</td>\n",
       "      <td>Arts, Film &amp; Photography</td>\n",
       "      <td>965.62</td>\n",
       "      <td>Hardcover</td>\n",
       "      <td>10 Oct 2006</td>\n",
       "    </tr>\n",
       "  </tbody>\n",
       "</table>\n",
       "</div>"
      ],
      "text/plain": [
       "                                        Title           Author  \\\n",
       "0         The Prisoner's Gold (The Hunters 3)   Chris Kuzneski   \n",
       "1          Guru Dutt: A Tragedy in Three Acts     Arun Khopkar   \n",
       "2                Leviathan (Penguin Classics)    Thomas Hobbes   \n",
       "3          A Pocket Full of Rye (Miss Marple)  Agatha Christie   \n",
       "4  LIFE 70 Years of Extraordinary Photography  Editors of Life   \n",
       "\n",
       "                   Edition             Reviews              Ratings  \\\n",
       "0  Paperback,– 10 Mar 2016  4.0 out of 5 stars   8 customer reviews   \n",
       "1   Paperback,– 7 Nov 2012  3.9 out of 5 stars  14 customer reviews   \n",
       "2  Paperback,– 25 Feb 1982  4.8 out of 5 stars   6 customer reviews   \n",
       "3   Paperback,– 5 Oct 2017  4.1 out of 5 stars  13 customer reviews   \n",
       "4  Hardcover,– 10 Oct 2006  5.0 out of 5 stars    1 customer review   \n",
       "\n",
       "                                            Synopsis  \\\n",
       "0  THE HUNTERS return in their third brilliant no...   \n",
       "1  A layered portrait of a troubled genius for wh...   \n",
       "2  \"During the time men live without a common Pow...   \n",
       "3  A handful of grain is found in the pocket of a...   \n",
       "4  For seven decades, \"Life\" has been thrilling t...   \n",
       "\n",
       "                          Genre                          BookCategory   Price  \\\n",
       "0    Action & Adventure (Books)                    Action & Adventure  220.00   \n",
       "1    Cinema & Broadcast (Books)  Biographies, Diaries & True Accounts  202.93   \n",
       "2       International Relations                                Humour  299.00   \n",
       "3  Contemporary Fiction (Books)             Crime, Thriller & Mystery  180.00   \n",
       "4         Photography Textbooks              Arts, Film & Photography  965.62   \n",
       "\n",
       "        Type         Date  \n",
       "0  Paperback  10 Mar 2016  \n",
       "1  Paperback   7 Nov 2012  \n",
       "2  Paperback  25 Feb 1982  \n",
       "3  Paperback   5 Oct 2017  \n",
       "4  Hardcover  10 Oct 2006  "
      ]
     },
     "execution_count": 25,
     "metadata": {},
     "output_type": "execute_result"
    }
   ],
   "source": [
    "data_duplicate_removed.head()"
   ]
  },
  {
   "cell_type": "code",
   "execution_count": 26,
   "id": "9e9b7733",
   "metadata": {},
   "outputs": [
    {
     "data": {
      "text/plain": [
       "Paperback                4665\n",
       "Hardcover                 731\n",
       "Mass Market Paperback     146\n",
       "Sheet music                24\n",
       "Flexibound                 14\n",
       "Cards                       7\n",
       "Spiral-bound                4\n",
       "Tankobon Softcover          3\n",
       "Loose Leaf                  2\n",
       "(French),Paperback          1\n",
       "Product Bundle              1\n",
       "(Spanish),Paperback         1\n",
       "Library Binding             1\n",
       "(Kannada),Paperback         1\n",
       "Perfect Paperback           1\n",
       "Plastic Comb                1\n",
       "Board book                  1\n",
       "(German),Paperback          1\n",
       "Leather Bound               1\n",
       "Name: Type, dtype: int64"
      ]
     },
     "execution_count": 26,
     "metadata": {},
     "output_type": "execute_result"
    }
   ],
   "source": [
    "data_duplicate_removed['Type'].value_counts() "
   ]
  },
  {
   "cell_type": "code",
   "execution_count": 220,
   "id": "d49ba1b4",
   "metadata": {},
   "outputs": [],
   "source": [
    "replace_dict = {'Paperback' : ['(Spanish),Paperback','Perfect Paperback','(Kannada),Paperback','Mass Market Paperback','Loose Leaf','(Chinese),Paperback'],\n",
    "               'Hardcover':['(German),Paperback','Library Binding','Board book','Tankobon Softcover'],\n",
    "               'Others':['(French),Paperback','Sheet music','Flexibound','Cards','Spiral-bound'],\n",
    "               'Misln':['Plastic Comb','Leather Bound','Product Bundle']}"
   ]
  },
  {
   "cell_type": "code",
   "execution_count": 221,
   "id": "f4762013",
   "metadata": {},
   "outputs": [],
   "source": [
    "reverse_dict = {}"
   ]
  },
  {
   "cell_type": "code",
   "execution_count": 222,
   "id": "95f53b08",
   "metadata": {},
   "outputs": [],
   "source": [
    "for lst1_key,lst1_val in replace_dict.items():\n",
    "    for value in lst1_val:\n",
    "        reverse_dict[value] = lst1_key       "
   ]
  },
  {
   "cell_type": "code",
   "execution_count": 223,
   "id": "12b056b0",
   "metadata": {},
   "outputs": [
    {
     "data": {
      "text/plain": [
       "{'(Spanish),Paperback': 'Paperback',\n",
       " 'Perfect Paperback': 'Paperback',\n",
       " '(Kannada),Paperback': 'Paperback',\n",
       " 'Mass Market Paperback': 'Paperback',\n",
       " 'Loose Leaf': 'Paperback',\n",
       " '(Chinese),Paperback': 'Paperback',\n",
       " '(German),Paperback': 'Hardcover',\n",
       " 'Library Binding': 'Hardcover',\n",
       " 'Board book': 'Hardcover',\n",
       " 'Tankobon Softcover': 'Hardcover',\n",
       " '(French),Paperback': 'Others',\n",
       " 'Sheet music': 'Others',\n",
       " 'Flexibound': 'Others',\n",
       " 'Cards': 'Others',\n",
       " 'Spiral-bound': 'Others',\n",
       " 'Plastic Comb': 'Misln',\n",
       " 'Leather Bound': 'Misln',\n",
       " 'Product Bundle': 'Misln'}"
      ]
     },
     "execution_count": 223,
     "metadata": {},
     "output_type": "execute_result"
    }
   ],
   "source": [
    "reverse_dict     "
   ]
  },
  {
   "cell_type": "code",
   "execution_count": 31,
   "id": "bec1eef2",
   "metadata": {},
   "outputs": [],
   "source": [
    "data_duplicate_removed['Type'] = data_duplicate_removed['Type'].replace(reverse_dict)"
   ]
  },
  {
   "cell_type": "code",
   "execution_count": 33,
   "id": "98c6b28d",
   "metadata": {},
   "outputs": [
    {
     "name": "stdout",
     "output_type": "stream",
     "text": [
      "<class 'pandas.core.frame.DataFrame'>\n",
      "Int64Index: 5606 entries, 0 to 6236\n",
      "Data columns (total 11 columns):\n",
      " #   Column        Non-Null Count  Dtype  \n",
      "---  ------        --------------  -----  \n",
      " 0   Title         5606 non-null   object \n",
      " 1   Author        5606 non-null   object \n",
      " 2   Edition       5606 non-null   object \n",
      " 3   Reviews       5606 non-null   object \n",
      " 4   Ratings       5606 non-null   object \n",
      " 5   Synopsis      5606 non-null   object \n",
      " 6   Genre         5606 non-null   object \n",
      " 7   BookCategory  5606 non-null   object \n",
      " 8   Price         5606 non-null   float64\n",
      " 9   Type          5606 non-null   object \n",
      " 10  Date          5606 non-null   object \n",
      "dtypes: float64(1), object(10)\n",
      "memory usage: 525.6+ KB\n"
     ]
    }
   ],
   "source": [
    "data_duplicate_removed.info()"
   ]
  },
  {
   "cell_type": "code",
   "execution_count": 34,
   "id": "b793acca",
   "metadata": {},
   "outputs": [
    {
     "data": {
      "text/html": [
       "<div>\n",
       "<style scoped>\n",
       "    .dataframe tbody tr th:only-of-type {\n",
       "        vertical-align: middle;\n",
       "    }\n",
       "\n",
       "    .dataframe tbody tr th {\n",
       "        vertical-align: top;\n",
       "    }\n",
       "\n",
       "    .dataframe thead th {\n",
       "        text-align: right;\n",
       "    }\n",
       "</style>\n",
       "<table border=\"1\" class=\"dataframe\">\n",
       "  <thead>\n",
       "    <tr style=\"text-align: right;\">\n",
       "      <th></th>\n",
       "      <th>Title</th>\n",
       "      <th>Author</th>\n",
       "      <th>Edition</th>\n",
       "      <th>Reviews</th>\n",
       "      <th>Ratings</th>\n",
       "      <th>Synopsis</th>\n",
       "      <th>Genre</th>\n",
       "      <th>BookCategory</th>\n",
       "      <th>Price</th>\n",
       "      <th>Type</th>\n",
       "      <th>Date</th>\n",
       "    </tr>\n",
       "  </thead>\n",
       "  <tbody>\n",
       "  </tbody>\n",
       "</table>\n",
       "</div>"
      ],
      "text/plain": [
       "Empty DataFrame\n",
       "Columns: [Title, Author, Edition, Reviews, Ratings, Synopsis, Genre, BookCategory, Price, Type, Date]\n",
       "Index: []"
      ]
     },
     "execution_count": 34,
     "metadata": {},
     "output_type": "execute_result"
    }
   ],
   "source": [
    "data_duplicate_removed[data_duplicate_removed['Type'] == 'Leather Bound']"
   ]
  },
  {
   "cell_type": "code",
   "execution_count": 35,
   "id": "3793b8fb",
   "metadata": {},
   "outputs": [
    {
     "data": {
      "text/html": [
       "<div>\n",
       "<style scoped>\n",
       "    .dataframe tbody tr th:only-of-type {\n",
       "        vertical-align: middle;\n",
       "    }\n",
       "\n",
       "    .dataframe tbody tr th {\n",
       "        vertical-align: top;\n",
       "    }\n",
       "\n",
       "    .dataframe thead th {\n",
       "        text-align: right;\n",
       "    }\n",
       "</style>\n",
       "<table border=\"1\" class=\"dataframe\">\n",
       "  <thead>\n",
       "    <tr style=\"text-align: right;\">\n",
       "      <th></th>\n",
       "      <th>Price</th>\n",
       "    </tr>\n",
       "    <tr>\n",
       "      <th>Type</th>\n",
       "      <th></th>\n",
       "    </tr>\n",
       "  </thead>\n",
       "  <tbody>\n",
       "    <tr>\n",
       "      <th>Hardcover</th>\n",
       "      <td>568.0</td>\n",
       "    </tr>\n",
       "    <tr>\n",
       "      <th>Misln</th>\n",
       "      <td>1819.0</td>\n",
       "    </tr>\n",
       "    <tr>\n",
       "      <th>Others</th>\n",
       "      <td>667.0</td>\n",
       "    </tr>\n",
       "    <tr>\n",
       "      <th>Paperback</th>\n",
       "      <td>353.0</td>\n",
       "    </tr>\n",
       "  </tbody>\n",
       "</table>\n",
       "</div>"
      ],
      "text/plain": [
       "            Price\n",
       "Type             \n",
       "Hardcover   568.0\n",
       "Misln      1819.0\n",
       "Others      667.0\n",
       "Paperback   353.0"
      ]
     },
     "execution_count": 35,
     "metadata": {},
     "output_type": "execute_result"
    }
   ],
   "source": [
    "data_duplicate_removed.groupby(['Type']).agg({'Price': 'median'})"
   ]
  },
  {
   "cell_type": "markdown",
   "id": "98f64851",
   "metadata": {},
   "source": [
    "#### converting Date column into datetime format"
   ]
  },
  {
   "cell_type": "code",
   "execution_count": 36,
   "id": "e4fe3410",
   "metadata": {},
   "outputs": [
    {
     "data": {
      "text/plain": [
       "0       10 Mar 2016\n",
       "1        7 Nov 2012\n",
       "2       25 Feb 1982\n",
       "3        5 Oct 2017\n",
       "4       10 Oct 2006\n",
       "           ...     \n",
       "6232     8 Aug 2018\n",
       "6233    21 Nov 2016\n",
       "6234     8 Jun 2006\n",
       "6235    15 Jan 2015\n",
       "6236    21 Dec 2016\n",
       "Name: Date, Length: 5606, dtype: object"
      ]
     },
     "execution_count": 36,
     "metadata": {},
     "output_type": "execute_result"
    }
   ],
   "source": [
    "data_duplicate_removed['Date']"
   ]
  },
  {
   "cell_type": "code",
   "execution_count": 37,
   "id": "f4f8d00d",
   "metadata": {},
   "outputs": [],
   "source": [
    "def extract_year(date):\n",
    "    extract_Date = date.split(' ')[-1]\n",
    "    try: \n",
    "        return int(extract_Date)\n",
    "    except:\n",
    "        return np.nan"
   ]
  },
  {
   "cell_type": "code",
   "execution_count": 38,
   "id": "b41c43f6",
   "metadata": {},
   "outputs": [],
   "source": [
    "data_duplicate_removed['Year'] = data_duplicate_removed['Date'].apply(extract_year)"
   ]
  },
  {
   "cell_type": "markdown",
   "id": "53bd949c",
   "metadata": {},
   "source": [
    "#### Converting review column into float."
   ]
  },
  {
   "cell_type": "code",
   "execution_count": 40,
   "id": "08c9492b",
   "metadata": {},
   "outputs": [
    {
     "data": {
      "text/plain": [
       "0       4.0\n",
       "1       3.9\n",
       "2       4.8\n",
       "3       4.1\n",
       "4        .0\n",
       "       ... \n",
       "6232     .0\n",
       "6233    3.3\n",
       "6234    3.8\n",
       "6235     3.\n",
       "6236    3.9\n",
       "Name: Reviews, Length: 5606, dtype: object"
      ]
     },
     "execution_count": 40,
     "metadata": {},
     "output_type": "execute_result"
    }
   ],
   "source": [
    "data_duplicate_removed['Reviews'].str.strip(' out of 5 stars')"
   ]
  },
  {
   "cell_type": "code",
   "execution_count": 41,
   "id": "1399fead",
   "metadata": {},
   "outputs": [],
   "source": [
    "data_duplicate_removed['Reviews'] =pd.to_numeric(data_duplicate_removed['Reviews'].str.strip(' out of 5 stars'))"
   ]
  },
  {
   "cell_type": "markdown",
   "id": "c08ec3af",
   "metadata": {},
   "source": [
    "#### converting Rating column into float"
   ]
  },
  {
   "cell_type": "code",
   "execution_count": 42,
   "id": "be5e1397",
   "metadata": {},
   "outputs": [],
   "source": [
    "data_duplicate_removed['Ratings'] = pd.to_numeric(data_duplicate_removed['Ratings'].str.strip(' customer reviews').str.replace(',',''))"
   ]
  },
  {
   "cell_type": "markdown",
   "id": "68770574",
   "metadata": {},
   "source": [
    "#### drop Edition column????"
   ]
  },
  {
   "cell_type": "code",
   "execution_count": 45,
   "id": "287442e2",
   "metadata": {},
   "outputs": [
    {
     "data": {
      "text/plain": [
       "Action & Adventure (Books)               688\n",
       "Romance (Books)                          403\n",
       "Biographies & Autobiographies (Books)    344\n",
       "Crime, Thriller & Mystery (Books)        266\n",
       "Contemporary Fiction (Books)             246\n",
       "                                        ... \n",
       "PGMEE Exam                                 1\n",
       "C# Programming                             1\n",
       "Library & Information Science              1\n",
       "Astrology                                  1\n",
       "Words, Language & Grammar Reference        1\n",
       "Name: Genre, Length: 345, dtype: int64"
      ]
     },
     "execution_count": 45,
     "metadata": {},
     "output_type": "execute_result"
    }
   ],
   "source": [
    "data_duplicate_removed['Genre'].value_counts()"
   ]
  },
  {
   "cell_type": "code",
   "execution_count": 46,
   "id": "537bac2c",
   "metadata": {},
   "outputs": [
    {
     "data": {
      "text/plain": [
       "Crime, Thriller & Mystery               644\n",
       "Action & Adventure                      621\n",
       "Language, Linguistics & Writing         564\n",
       "Biographies, Diaries & True Accounts    541\n",
       "Comics & Mangas                         534\n",
       "Romance                                 529\n",
       "Computing, Internet & Digital Media     493\n",
       "Arts, Film & Photography                471\n",
       "Humour                                  467\n",
       "Sports                                  451\n",
       "Politics                                291\n",
       "Name: BookCategory, dtype: int64"
      ]
     },
     "execution_count": 46,
     "metadata": {},
     "output_type": "execute_result"
    }
   ],
   "source": [
    "data_duplicate_removed['BookCategory'].value_counts()"
   ]
  },
  {
   "cell_type": "code",
   "execution_count": 47,
   "id": "e6ed2985",
   "metadata": {},
   "outputs": [
    {
     "data": {
      "text/plain": [
       "89"
      ]
     },
     "execution_count": 47,
     "metadata": {},
     "output_type": "execute_result"
    }
   ],
   "source": [
    "len(data['Genre'].value_counts()[data['Genre'].value_counts() == 1])"
   ]
  },
  {
   "cell_type": "code",
   "execution_count": 48,
   "id": "a4d4a07f",
   "metadata": {},
   "outputs": [
    {
     "data": {
      "text/plain": [
       "Action & Adventure (Books)                       947\n",
       "Romance (Books)                                  419\n",
       "Biographies & Autobiographies (Books)            373\n",
       "Crime, Thriller & Mystery (Books)                276\n",
       "Contemporary Fiction (Books)                     256\n",
       "Comics & Mangas (Books)                          197\n",
       "Mangas                                           181\n",
       "Music Books                                      122\n",
       "Humour (Books)                                    98\n",
       "Design                                            95\n",
       "Dictionaries                                      83\n",
       "Handicrafts, Decorative Arts & Crafts (Books)     79\n",
       "Cinema & Broadcast (Books)                        78\n",
       "Arts History, Theory & Criticism (Books)          72\n",
       "Language Learning & Teaching (Books)              71\n",
       "Healthy Living & Wellness (Books)                 71\n",
       "Writing Guides (Books)                            71\n",
       "Indian Writing (Books)                            70\n",
       "Computer Science Books                            69\n",
       "Government (Books)                                65\n",
       "True Accounts (Books)                             64\n",
       "Comics & Graphic Novels (Books)                   62\n",
       "Sports Training & Coaching (Books)                60\n",
       "Linguistics (Books)                               57\n",
       "Language, Linguistics & Writing (Books)           57\n",
       "Comics                                            54\n",
       "Asian History                                     48\n",
       "Encyclopaedias & Reference Works (Books)          48\n",
       "Software & Business Applications (Books)          48\n",
       "Photography Textbooks                             45\n",
       "Industries & Business Sectors (Books)             43\n",
       "Political Ideologies (Books)                      40\n",
       "Introductory & Beginning Programming              39\n",
       "Games & Quizzes (Books)                           38\n",
       "Programming Languages (Books)                     37\n",
       "Theatre & Spectacles (Books)                      36\n",
       "Historical Fiction (Books)                        35\n",
       "Grammar (Books)                                   34\n",
       "Anthologies (Books)                               34\n",
       "Programming & Software Development (Books)        32\n",
       "Networks & System Administration (Books)          32\n",
       "Short Stories (Books)                             31\n",
       "Cricket (Books)                                   30\n",
       "Horror (Books)                                    30\n",
       "Martial Arts (Books)                              28\n",
       "Computing, Internet & Digital Media (Books)       28\n",
       "Essays (Books)                                    26\n",
       "Public Policy                                     23\n",
       "Biographies, Diaries & True Accounts (Books)      23\n",
       "Business Communication                            22\n",
       "Fantasy, Science Fiction & Horror (Books)         21\n",
       "Name: Genre, dtype: int64"
      ]
     },
     "execution_count": 48,
     "metadata": {},
     "output_type": "execute_result"
    }
   ],
   "source": [
    "data['Genre'].value_counts()[data['Genre'].value_counts() > 20] "
   ]
  },
  {
   "cell_type": "code",
   "execution_count": 49,
   "id": "4ac2c320",
   "metadata": {},
   "outputs": [
    {
     "data": {
      "text/plain": [
       "0.015231681898348564"
      ]
     },
     "execution_count": 49,
     "metadata": {},
     "output_type": "execute_result"
    }
   ],
   "source": [
    "len(data_duplicate_removed['Genre'].value_counts()[data_duplicate_removed['Genre'].value_counts() == 1]) / len(data)"
   ]
  },
  {
   "cell_type": "markdown",
   "id": "0ab37ca5",
   "metadata": {},
   "source": [
    "## Adding new_genre column from Genre column"
   ]
  },
  {
   "cell_type": "markdown",
   "id": "7397f034",
   "metadata": {},
   "source": [
    "##### creating genre_dict manaually from Genre column"
   ]
  },
  {
   "cell_type": "code",
   "execution_count": 235,
   "id": "d67bf8bd",
   "metadata": {
    "jupyter": {
     "source_hidden": true
    }
   },
   "outputs": [],
   "source": [
    "genre_dict = {'International':\n",
    "['International Relations',\n",
    "'International Business',\n",
    "'International Relations & Globalization (Books)',\n",
    "'International Baccalaureate'], \n",
    "\n",
    "'Action and Crime':\n",
    "\n",
    "['Action & Adventure (Books)',\n",
    "'Outdoor Survival Skills (Books)',\n",
    "'Horror (Books)',\n",
    "'Crime, Thriller & Mystery (Books)',\n",
    "'Holocaust'],\n",
    "\n",
    "'Media':\n",
    "\n",
    "['Cinema & Broadcast (Books)',\n",
    "'Communications',\n",
    "'Media Studies',\n",
    "'Film & Television',\n",
    "'Theater',\n",
    "'Theatre & Spectacles (Books)',\n",
    "'Journalism Books',  \n",
    "'Arts, Film & Photography (Books)',\n",
    "'Digital Media & Graphic Design (Books)',\n",
    "'Plays (Books)',\n",
    "'Communication Reference'], \n",
    "\n",
    "\n",
    "'Art And Music':\n",
    "\n",
    "['Photography Textbooks',\n",
    "'Design',\n",
    "'Music Books',\n",
    "'Handicrafts, Decorative Arts & Crafts (Books)', \n",
    "'Painting Textbooks',\n",
    "'Visual Arts',  \n",
    "'Crafts, Home & Lifestyle (Books)',\n",
    "'Music Textbooks',\n",
    "'Painting Books', \n",
    "'Dance (Books)',\n",
    "'Aesthetics'\n",
    "],\n",
    "\n",
    "\n",
    "'Fiction':\n",
    "\n",
    "['Contemporary Fiction (Books)',\n",
    "'Classic Fiction (Books)',\n",
    "'Historical Fiction (Books)',\n",
    "'Fantasy, Science Fiction & Horror (Books)',\n",
    "'Literature & Fiction (Books)'], \n",
    "\n",
    "'Lifestyle':\n",
    "\n",
    "['Specialty Travel',\n",
    "'Travel (Books)',\n",
    "'Hunting (Books)',\n",
    "'Budget Travel',\n",
    "'Illustrated Travel Books (Books)',\n",
    "'Literary Travel',\n",
    "'Travel & Holiday Guides (Books)',\n",
    "'Travel with Pets',\n",
    "'Transportation & Automotive (Books)',\n",
    "'Food & Lodging',\n",
    "'Ecotourism',\n",
    "'Camping & Woodcraft (Books)', \n",
    "'Active Outdoor Pursuits (Books)',\n",
    "'Healthy Living & Wellness (Books)',\n",
    "'Personal Development & Self-Help (Books)', \n",
    "'Mind, Body & Spirit (Books)', \n",
    "'Meditation',\n",
    "'Design & Fashion (Books)','Travel Phrasebooks'], \n",
    "\n",
    "'Industry and Economy':\n",
    "\n",
    "['Business Development','Banks & Banking',\n",
    "'True Accounts (Books)',\n",
    "'Investments & Securities',\n",
    "'Industries & Business Sectors (Books)',\n",
    "'Business Communication',\n",
    "'Sustainable Development',\n",
    "'Sales',\n",
    "'Entrepreneurship', \n",
    "'Labor & Industrial Relations',\n",
    "'Business & Economics (Books)',\n",
    "'Business, Strategy & Management (Books)',\n",
    "'Business Ethics', \n",
    "\"Young Adults' Money & Jobs (Books)\",\n",
    "'Economic History',\n",
    "'Inflation',\n",
    "'Economic Theory',\n",
    "'Economics Books',\n",
    "'Economic Policy & Development',\n",
    "'Economics Textbooks', \n",
    "'FPC', \n",
    "'Environmental Economics',\n",
    "'Microeconomics Textbooks',\n",
    "'Macroeconomics Textbooks',\n",
    "'Economic Conditions'],\n",
    "\n",
    "\n",
    "\n",
    "'Goverment And Politics':\n",
    "\n",
    "['Government (Books)',\n",
    "'Law (Books)',\n",
    "'Public Policy', \n",
    "'Public Health', \n",
    "'Governmental',\n",
    "'Intolerance, Persecution & Fundamentalism', \n",
    "'Public Administration (Books)', \n",
    "'Civil Rights', \n",
    "'Public Affairs',\n",
    "'Waste Management',\n",
    "'Constitutional Law',\n",
    "'Political Theory (Books)',\n",
    "'Political Ideologies (Books)', \n",
    "'Public Speaking Reference', \n",
    "'Political Parties (Books)',\n",
    "'Political Freedom & Security (Books)',\n",
    "'Politics (Books)',\n",
    "'Political Structure & Processes (Books)'],\n",
    "\n",
    "\n",
    "'Religion':\n",
    "\n",
    "['Astrology',\n",
    "'Religious & Spiritual Fiction (Books)',\n",
    "'Hinduism (Books)',\n",
    "'Reincarnation', \n",
    "'Spirituality',\n",
    "'Mental & Spiritual Healing', \n",
    "'History of Religion (Books)',\n",
    "'Islam (Books)',\n",
    "'Myths, Legends & Sagas (Books)',\n",
    "'Religion (Books)',\n",
    "'Sikhism (Books)',\n",
    "'Buddhism (Books)',\n",
    "'Atheism',\n",
    "'Mysticism',\n",
    "'Theology & Philosophy of Religion (Books)' ,'Religious Studies'],\n",
    "\n",
    "'Sports':\n",
    "\n",
    "['Cycling (Books)', 'Winter Sports (Books)', \n",
    "'Tennis (Books)',\n",
    "'PC & Video Games (Books)',\n",
    "'Games & Quizzes (Books)',\n",
    "'Flash Cards',\n",
    "'Air Sports (Books)'\n",
    "'Archery (Books)',\n",
    "'Gymnastics (Books)',\n",
    "'Rugby (Books)',\n",
    "'Sports Training & Coaching (Books)',\n",
    "'Cricket (Books)',\n",
    "'Sports (Books)', \n",
    "'Martial Arts (Books)',\n",
    "'Soccer (Books)',\n",
    "'Climbing & Mountaineering (Books)', \n",
    "'Horse Racing (Books)',\n",
    "'Sporting Events & Organisations (Books)', \n",
    "'American Football (Books)',\n",
    "'Motorcycle Racing',\n",
    "'Triathlon (Books)', \n",
    "'Baseball (Books)',\n",
    "'Combat Sports & Self-Defence (Books)',\n",
    "'Golf (Books)',\n",
    "'Swimming, Snorkelling & Diving (Books)',\n",
    "'Pool, Billiards & Snooker (Books)', \n",
    "'Target Shooting (Books)',\n",
    "'Fishing & Angling (Books)',\n",
    "'Bodybuilding & Weightlifting (Books)', \n",
    "'Marathon & Running (Books)',\n",
    "'Walking, Hiking & Trekking (Books)', \n",
    "'Car Racing (Books)', \n",
    "'Basketball (Books)', \n",
    "'Sailing (Books)',\n",
    "'Hockey'], \n",
    "\n",
    "\n",
    "'Academics':\n",
    "\n",
    "['Creative Writing & Composition',\n",
    "'Handwriting Reference',\n",
    "    'Biographies & Autobiographies (Books)',\n",
    "'Biographies, Diaries & True Accounts (Books)', \n",
    "'Reference (Books)', \n",
    "'Speech',\n",
    "'Literary Theory',\n",
    "'Art Encyclopedias', \n",
    "'Words, Language & Grammar Reference',\n",
    "'Sociology (Books)',\n",
    "'Chemistry Books',\n",
    "'Literature Encyclopedias',\n",
    "'English Literature', \n",
    "'Dictionaries',\n",
    "'Encyclopaedias & Reference Works (Books)',\n",
    "'Sign Language Reference',\n",
    "'Vocabulary Books',\n",
    "'Study Guides',\n",
    "'Essay, Letter & Review Writing', \n",
    "'Reading Skills', \n",
    "'Zoology',\n",
    "'IELTS',\n",
    "'Education & Training',\n",
    "'Geography Textbooks',\n",
    "'Military Sciences',\n",
    "'Social Sciences',\n",
    "'Science & Mathematics',\n",
    "'Calculus',\n",
    "'Algebra & Trigonometry', \n",
    "'Mathematics (Books)',\n",
    "'Earth Sciences Textbooks',\n",
    "'History of Ancient Greece',\n",
    "'History of Ideas', \n",
    "'Middle Eastern History',\n",
    "'European History', \n",
    "'Asian History',  \n",
    "'Art History',\n",
    "'Colonialism & Imperialism History', \n",
    "'United States History', \n",
    "'European History Textbooks',\n",
    "'History of Civilization & Culture',\n",
    "'History (Books)',\n",
    "'Arts History, Theory & Criticism (Books)', \n",
    "'History of Slavery & Emancipation',\n",
    "'History & Surveys',\n",
    "'German',        \n",
    "'French',\n",
    "'Rome',\n",
    "'Japanese', \n",
    "'Literature',       \n",
    "'Linguistics (Books)', \n",
    "'Language & Linguistics',\n",
    "'Language, Linguistics & Writing (Books)',\n",
    "'Language Learning & Teaching (Books)', \n",
    "'Foreign Languages', \n",
    "'Indian Writing (Books)', \n",
    "'Asian Literature',\n",
    "'American Literature',\n",
    "'World African & Middle Eastern Literature',\n",
    "'Writing Guides (Books)',\n",
    "'Essays (Books)',\n",
    "'Anthologies (Books)',\n",
    "'Grammar (Books)', \n",
    "'Teaching & Education',\n",
    "'Rhetoric & Speech (Books)', \n",
    "'Theory',\n",
    "'Ecology', \n",
    "'Cold War', \n",
    "'Diaries, Letters & Journals (Books)',\n",
    "'Biology Books', \n",
    "'Italian', \n",
    "'Geometry',\n",
    "'Physics (Books)',\n",
    "'Gay & Lesbian Studies',  \n",
    "'Library & Information Science',\n",
    "'Alphabet Reference',\n",
    "'Americas', \n",
    "'Urban & Regional',\n",
    "'Readers', \n",
    "'Ancient History (Books)',\n",
    "'Translation Reference', \n",
    "'Textbooks & Study Guides', \n",
    "'Biology & Life Sciences',\n",
    "'Workbooks',\n",
    "'Spanish',\n",
    "'Biostatistics', 'Philosophy (Books)','Sculpture',\n",
    " \n",
    "\n",
    " 'Military History (Books)'], \n",
    " \n",
    "\n",
    "'Children and comics':\n",
    "\n",
    "['Comics & Mangas (Books)',\n",
    "'Mangas',\n",
    "'Comics & Graphic Novels (Books)',\n",
    "'Short Stories (Books)',\n",
    "'Comics',\n",
    "'Humour (Books)',\n",
    "\"Children's Sport (Books)\",\n",
    "\"Children's History (Books)\", \n",
    "\"Children's Science Fiction (Books)\", \n",
    "\"Children's Language Learning (Books)\", \n",
    "\"Children's Traditional Stories (Books)\",\n",
    "\"Children's Mysteries & Curiosities (Books)\", \n",
    "\"Children's Adventure (Books)\", \n",
    "\"Children's Games, Toys & Activities (Books)\",\n",
    "\"Children's Historical Fiction (Books)\",\n",
    "\"Children's Crafts, Hobbies & Practical Interests (Books)\",\n",
    "\"Children's Reference (Books)\",\n",
    "\"Children's Crime & Thriller (Books)\", \n",
    "\"Children's Humour (Books)\",\n",
    "\"Children's Fantasy (Books)\",\n",
    "\"Children's Family, Personal & Social Issues (Books)\",\n",
    "\"Children's Painting, Arts & Music (Books)\",\n",
    "\"Children's & Young Adult (Books)\", \n",
    "'Encyclopedias for Children', \n",
    "\"Children's Picture Books (Books)\", \n",
    "\"Children's Horror & Ghost Stories (Books)\",\n",
    "\"Children's Science, Nature & Technology (Books)\"],\n",
    "\n",
    "\n",
    "'Computers':\n",
    "\n",
    "[\n",
    "\n",
    "    'Functional Software Programming', \n",
    "    'C# Programming', \n",
    "'Game Programming', \n",
    "'API & Operating Environments',\n",
    "'Object-Oriented Software Design', \n",
    "'Graphics & Visualization',\n",
    "'Artificial Intelligence',\n",
    "'Interface Design Programming',\n",
    "'Software & Business Applications (Books)',\n",
    "'Introductory & Beginning Programming', \n",
    "'Programming Languages (Books)',\n",
    "'Networks & System Administration (Books)', \n",
    "'Computer Hardware & Handheld Devices (Books)',\n",
    "'Engineering & Technology (Books)',\n",
    "'Computing, Internet & Digital Media (Books)', \n",
    "'Programming Algorithms',\n",
    "'Python Programming',\n",
    "'Internet & Web (Books)', \n",
    "'Programming & Software Development (Books)',\n",
    "'Algorithms',\n",
    "'Computer Security (Books)',\n",
    "'Computer Science Books',\n",
    "'Visual C++ Programming',\n",
    "'Software Architecture', \n",
    "'Software Design & Engineering',\n",
    "'Computer Databases (Books)', \n",
    "'Operating Systems Textbooks', \n",
    "'Software Testing',\n",
    "'Networking (Books)',\n",
    "'CSS Programming',\n",
    "'Management', \n",
    "'XHTML Software Programming', \n",
    "'Operating Systems Books',\n",
    "'Design Pattern Programming',\n",
    "'Software Programming Compilers'],\n",
    "\n",
    "\n",
    "'Family':\n",
    "\n",
    "['Romance (Books)', \n",
    "'Society & Culture (Books)',\n",
    "'Family & Relationships (Books)',\n",
    "'Food, Drink & Entertaining (Books)', \n",
    "'Anthropology (Books)',\n",
    "'Ethics',\n",
    "'Society & Social Sciences (Books)', \n",
    "'Pets (Books)', \n",
    "'Humanities',\n",
    "'Social Welfare & Social Services (Books)', \n",
    "'Home & House Maintenance (Books)'],\n",
    "\n",
    "'Exam':\n",
    "\n",
    "['IT Certification Exams', \n",
    "'GRE', \n",
    "'TOEFL',\n",
    "'SSC Exam', \n",
    "'GATE Exams',\n",
    "'IGCSE',\n",
    "'Engineering Services Exams',\n",
    "'PGMEE Exam',\n",
    "'Exam Preparation (Books)', \n",
    "'Interview Preparation',\n",
    "'International Entrance Exams', \n",
    "'CBSE', \n",
    "'SAT', \n",
    "'GMAT'],\n",
    "\n",
    "\n",
    "\n",
    "\n",
    "'Medicine':\n",
    "\n",
    "['Medical Dictionaries', \n",
    "'Medicine`', \n",
    "'Psychology (Books)',\n",
    "'Neuroscience',\n",
    "'Gender Studies',\n",
    "'General Dentistry',\n",
    "'Alternative Medicine (Books)', \n",
    "'Occupational Therapy',\n",
    "'Government Exams',\n",
    "'Physician & Patient',\n",
    "'Sciences, Technology & Medicine (Books)', \n",
    "'Internal Medicine',\n",
    "'Anatomy & Physiology', \n",
    "'Immunology',\n",
    "'Neurology',\n",
    "'Developmental Psychology',\n",
    "'Development & Growth', \n",
    "'Vascular Surgery',\n",
    "'Sports Medicine',\n",
    "'Radiological & Ultrasound Technology',\n",
    "'Oncology','Forensic Medicine', \n",
    "'Chiropractic'],  \n",
    "\n",
    "\n",
    "'Enggineering':\n",
    "\n",
    "['Nuclear Engineering', \n",
    "'Electrical & Electronic Engineering',\n",
    "'Biotechnology Engineering Textbooks',\n",
    "'Agriculture & Farming (Books)', \n",
    "'Architecture (Books)',\n",
    "'Engineering',\n",
    "'Astronomy (Books)', \n",
    "'Aeronautical Engineering',\n",
    "'Environmental Engineering', \n",
    "'Environmental Studies', \n",
    "'Structural Engineering', \n",
    "'Astronomy & Astrophysics',\n",
    "'Biomedical Engineering',\n",
    "'Industrial Engineering',\n",
    "              'Bioengineering']\n",
    "\n",
    "}"
   ]
  },
  {
   "cell_type": "markdown",
   "id": "4f2ea2af",
   "metadata": {},
   "source": [
    "##### Creating reverse dictionary new_genre from genre_dict "
   ]
  },
  {
   "cell_type": "code",
   "execution_count": 236,
   "id": "42fb689a",
   "metadata": {},
   "outputs": [],
   "source": [
    "new_genre = {}\n",
    "for key,values in genre_dict.items():\n",
    "    for val in values:\n",
    "        new_genre[val] = key\n",
    "                "
   ]
  },
  {
   "cell_type": "code",
   "execution_count": 237,
   "id": "57e254a1",
   "metadata": {
    "collapsed": true,
    "jupyter": {
     "outputs_hidden": true
    }
   },
   "outputs": [
    {
     "data": {
      "text/plain": [
       "{'International Relations': 'International',\n",
       " 'International Business': 'International',\n",
       " 'International Relations & Globalization (Books)': 'International',\n",
       " 'International Baccalaureate': 'International',\n",
       " 'Action & Adventure (Books)': 'Action and Crime',\n",
       " 'Outdoor Survival Skills (Books)': 'Action and Crime',\n",
       " 'Horror (Books)': 'Action and Crime',\n",
       " 'Crime, Thriller & Mystery (Books)': 'Action and Crime',\n",
       " 'Holocaust': 'Action and Crime',\n",
       " 'Cinema & Broadcast (Books)': 'Media',\n",
       " 'Communications': 'Media',\n",
       " 'Media Studies': 'Media',\n",
       " 'Film & Television': 'Media',\n",
       " 'Theater': 'Media',\n",
       " 'Theatre & Spectacles (Books)': 'Media',\n",
       " 'Journalism Books': 'Media',\n",
       " 'Arts, Film & Photography (Books)': 'Media',\n",
       " 'Digital Media & Graphic Design (Books)': 'Media',\n",
       " 'Plays (Books)': 'Media',\n",
       " 'Communication Reference': 'Media',\n",
       " 'Photography Textbooks': 'Art And Music',\n",
       " 'Design': 'Art And Music',\n",
       " 'Music Books': 'Art And Music',\n",
       " 'Handicrafts, Decorative Arts & Crafts (Books)': 'Art And Music',\n",
       " 'Painting Textbooks': 'Art And Music',\n",
       " 'Visual Arts': 'Art And Music',\n",
       " 'Crafts, Home & Lifestyle (Books)': 'Art And Music',\n",
       " 'Music Textbooks': 'Art And Music',\n",
       " 'Painting Books': 'Art And Music',\n",
       " 'Dance (Books)': 'Art And Music',\n",
       " 'Aesthetics': 'Art And Music',\n",
       " 'Contemporary Fiction (Books)': 'Fiction',\n",
       " 'Classic Fiction (Books)': 'Fiction',\n",
       " 'Historical Fiction (Books)': 'Fiction',\n",
       " 'Fantasy, Science Fiction & Horror (Books)': 'Fiction',\n",
       " 'Literature & Fiction (Books)': 'Fiction',\n",
       " 'Specialty Travel': 'Lifestyle',\n",
       " 'Travel (Books)': 'Lifestyle',\n",
       " 'Hunting (Books)': 'Lifestyle',\n",
       " 'Budget Travel': 'Lifestyle',\n",
       " 'Illustrated Travel Books (Books)': 'Lifestyle',\n",
       " 'Literary Travel': 'Lifestyle',\n",
       " 'Travel & Holiday Guides (Books)': 'Lifestyle',\n",
       " 'Travel with Pets': 'Lifestyle',\n",
       " 'Transportation & Automotive (Books)': 'Lifestyle',\n",
       " 'Food & Lodging': 'Lifestyle',\n",
       " 'Ecotourism': 'Lifestyle',\n",
       " 'Camping & Woodcraft (Books)': 'Lifestyle',\n",
       " 'Active Outdoor Pursuits (Books)': 'Lifestyle',\n",
       " 'Healthy Living & Wellness (Books)': 'Lifestyle',\n",
       " 'Personal Development & Self-Help (Books)': 'Lifestyle',\n",
       " 'Mind, Body & Spirit (Books)': 'Lifestyle',\n",
       " 'Meditation': 'Lifestyle',\n",
       " 'Design & Fashion (Books)': 'Lifestyle',\n",
       " 'Travel Phrasebooks': 'Lifestyle',\n",
       " 'Business Development': 'Industry and Economy',\n",
       " 'Banks & Banking': 'Industry and Economy',\n",
       " 'True Accounts (Books)': 'Industry and Economy',\n",
       " 'Investments & Securities': 'Industry and Economy',\n",
       " 'Industries & Business Sectors (Books)': 'Industry and Economy',\n",
       " 'Business Communication': 'Industry and Economy',\n",
       " 'Sustainable Development': 'Industry and Economy',\n",
       " 'Sales': 'Industry and Economy',\n",
       " 'Entrepreneurship': 'Industry and Economy',\n",
       " 'Labor & Industrial Relations': 'Industry and Economy',\n",
       " 'Business & Economics (Books)': 'Industry and Economy',\n",
       " 'Business, Strategy & Management (Books)': 'Industry and Economy',\n",
       " 'Business Ethics': 'Industry and Economy',\n",
       " \"Young Adults' Money & Jobs (Books)\": 'Industry and Economy',\n",
       " 'Economic History': 'Industry and Economy',\n",
       " 'Inflation': 'Industry and Economy',\n",
       " 'Economic Theory': 'Industry and Economy',\n",
       " 'Economics Books': 'Industry and Economy',\n",
       " 'Economic Policy & Development': 'Industry and Economy',\n",
       " 'Economics Textbooks': 'Industry and Economy',\n",
       " 'FPC': 'Industry and Economy',\n",
       " 'Environmental Economics': 'Industry and Economy',\n",
       " 'Microeconomics Textbooks': 'Industry and Economy',\n",
       " 'Macroeconomics Textbooks': 'Industry and Economy',\n",
       " 'Economic Conditions': 'Industry and Economy',\n",
       " 'Government (Books)': 'Goverment And Politics',\n",
       " 'Law (Books)': 'Goverment And Politics',\n",
       " 'Public Policy': 'Goverment And Politics',\n",
       " 'Public Health': 'Goverment And Politics',\n",
       " 'Governmental': 'Goverment And Politics',\n",
       " 'Intolerance, Persecution & Fundamentalism': 'Goverment And Politics',\n",
       " 'Public Administration (Books)': 'Goverment And Politics',\n",
       " 'Civil Rights': 'Goverment And Politics',\n",
       " 'Public Affairs': 'Goverment And Politics',\n",
       " 'Waste Management': 'Goverment And Politics',\n",
       " 'Constitutional Law': 'Goverment And Politics',\n",
       " 'Political Theory (Books)': 'Goverment And Politics',\n",
       " 'Political Ideologies (Books)': 'Goverment And Politics',\n",
       " 'Public Speaking Reference': 'Goverment And Politics',\n",
       " 'Political Parties (Books)': 'Goverment And Politics',\n",
       " 'Political Freedom & Security (Books)': 'Goverment And Politics',\n",
       " 'Politics (Books)': 'Goverment And Politics',\n",
       " 'Political Structure & Processes (Books)': 'Goverment And Politics',\n",
       " 'Astrology': 'Religion',\n",
       " 'Religious & Spiritual Fiction (Books)': 'Religion',\n",
       " 'Hinduism (Books)': 'Religion',\n",
       " 'Reincarnation': 'Religion',\n",
       " 'Spirituality': 'Religion',\n",
       " 'Mental & Spiritual Healing': 'Religion',\n",
       " 'History of Religion (Books)': 'Religion',\n",
       " 'Islam (Books)': 'Religion',\n",
       " 'Myths, Legends & Sagas (Books)': 'Religion',\n",
       " 'Religion (Books)': 'Religion',\n",
       " 'Sikhism (Books)': 'Religion',\n",
       " 'Buddhism (Books)': 'Religion',\n",
       " 'Atheism': 'Religion',\n",
       " 'Mysticism': 'Religion',\n",
       " 'Theology & Philosophy of Religion (Books)': 'Religion',\n",
       " 'Religious Studies': 'Religion',\n",
       " 'Cycling (Books)': 'Sports',\n",
       " 'Winter Sports (Books)': 'Sports',\n",
       " 'Tennis (Books)': 'Sports',\n",
       " 'PC & Video Games (Books)': 'Sports',\n",
       " 'Games & Quizzes (Books)': 'Sports',\n",
       " 'Flash Cards': 'Sports',\n",
       " 'Air Sports (Books)Archery (Books)': 'Sports',\n",
       " 'Gymnastics (Books)': 'Sports',\n",
       " 'Rugby (Books)': 'Sports',\n",
       " 'Sports Training & Coaching (Books)': 'Sports',\n",
       " 'Cricket (Books)': 'Sports',\n",
       " 'Sports (Books)': 'Sports',\n",
       " 'Martial Arts (Books)': 'Sports',\n",
       " 'Soccer (Books)': 'Sports',\n",
       " 'Climbing & Mountaineering (Books)': 'Sports',\n",
       " 'Horse Racing (Books)': 'Sports',\n",
       " 'Sporting Events & Organisations (Books)': 'Sports',\n",
       " 'American Football (Books)': 'Sports',\n",
       " 'Motorcycle Racing': 'Sports',\n",
       " 'Triathlon (Books)': 'Sports',\n",
       " 'Baseball (Books)': 'Sports',\n",
       " 'Combat Sports & Self-Defence (Books)': 'Sports',\n",
       " 'Golf (Books)': 'Sports',\n",
       " 'Swimming, Snorkelling & Diving (Books)': 'Sports',\n",
       " 'Pool, Billiards & Snooker (Books)': 'Sports',\n",
       " 'Target Shooting (Books)': 'Sports',\n",
       " 'Fishing & Angling (Books)': 'Sports',\n",
       " 'Bodybuilding & Weightlifting (Books)': 'Sports',\n",
       " 'Marathon & Running (Books)': 'Sports',\n",
       " 'Walking, Hiking & Trekking (Books)': 'Sports',\n",
       " 'Car Racing (Books)': 'Sports',\n",
       " 'Basketball (Books)': 'Sports',\n",
       " 'Sailing (Books)': 'Sports',\n",
       " 'Hockey': 'Sports',\n",
       " 'Creative Writing & Composition': 'Academics',\n",
       " 'Handwriting Reference': 'Academics',\n",
       " 'Biographies & Autobiographies (Books)': 'Academics',\n",
       " 'Biographies, Diaries & True Accounts (Books)': 'Academics',\n",
       " 'Reference (Books)': 'Academics',\n",
       " 'Speech': 'Academics',\n",
       " 'Literary Theory': 'Academics',\n",
       " 'Art Encyclopedias': 'Academics',\n",
       " 'Words, Language & Grammar Reference': 'Academics',\n",
       " 'Sociology (Books)': 'Academics',\n",
       " 'Chemistry Books': 'Academics',\n",
       " 'Literature Encyclopedias': 'Academics',\n",
       " 'English Literature': 'Academics',\n",
       " 'Dictionaries': 'Academics',\n",
       " 'Encyclopaedias & Reference Works (Books)': 'Academics',\n",
       " 'Sign Language Reference': 'Academics',\n",
       " 'Vocabulary Books': 'Academics',\n",
       " 'Study Guides': 'Academics',\n",
       " 'Essay, Letter & Review Writing': 'Academics',\n",
       " 'Reading Skills': 'Academics',\n",
       " 'Zoology': 'Academics',\n",
       " 'IELTS': 'Academics',\n",
       " 'Education & Training': 'Academics',\n",
       " 'Geography Textbooks': 'Academics',\n",
       " 'Military Sciences': 'Academics',\n",
       " 'Social Sciences': 'Academics',\n",
       " 'Science & Mathematics': 'Academics',\n",
       " 'Calculus': 'Academics',\n",
       " 'Algebra & Trigonometry': 'Academics',\n",
       " 'Mathematics (Books)': 'Academics',\n",
       " 'Earth Sciences Textbooks': 'Academics',\n",
       " 'History of Ancient Greece': 'Academics',\n",
       " 'History of Ideas': 'Academics',\n",
       " 'Middle Eastern History': 'Academics',\n",
       " 'European History': 'Academics',\n",
       " 'Asian History': 'Academics',\n",
       " 'Art History': 'Academics',\n",
       " 'Colonialism & Imperialism History': 'Academics',\n",
       " 'United States History': 'Academics',\n",
       " 'European History Textbooks': 'Academics',\n",
       " 'History of Civilization & Culture': 'Academics',\n",
       " 'History (Books)': 'Academics',\n",
       " 'Arts History, Theory & Criticism (Books)': 'Academics',\n",
       " 'History of Slavery & Emancipation': 'Academics',\n",
       " 'History & Surveys': 'Academics',\n",
       " 'German': 'Academics',\n",
       " 'French': 'Academics',\n",
       " 'Rome': 'Academics',\n",
       " 'Japanese': 'Academics',\n",
       " 'Literature': 'Academics',\n",
       " 'Linguistics (Books)': 'Academics',\n",
       " 'Language & Linguistics': 'Academics',\n",
       " 'Language, Linguistics & Writing (Books)': 'Academics',\n",
       " 'Language Learning & Teaching (Books)': 'Academics',\n",
       " 'Foreign Languages': 'Academics',\n",
       " 'Indian Writing (Books)': 'Academics',\n",
       " 'Asian Literature': 'Academics',\n",
       " 'American Literature': 'Academics',\n",
       " 'World African & Middle Eastern Literature': 'Academics',\n",
       " 'Writing Guides (Books)': 'Academics',\n",
       " 'Essays (Books)': 'Academics',\n",
       " 'Anthologies (Books)': 'Academics',\n",
       " 'Grammar (Books)': 'Academics',\n",
       " 'Teaching & Education': 'Academics',\n",
       " 'Rhetoric & Speech (Books)': 'Academics',\n",
       " 'Theory': 'Academics',\n",
       " 'Ecology': 'Academics',\n",
       " 'Cold War': 'Academics',\n",
       " 'Diaries, Letters & Journals (Books)': 'Academics',\n",
       " 'Biology Books': 'Academics',\n",
       " 'Italian': 'Academics',\n",
       " 'Geometry': 'Academics',\n",
       " 'Physics (Books)': 'Academics',\n",
       " 'Gay & Lesbian Studies': 'Academics',\n",
       " 'Library & Information Science': 'Academics',\n",
       " 'Alphabet Reference': 'Academics',\n",
       " 'Americas': 'Academics',\n",
       " 'Urban & Regional': 'Academics',\n",
       " 'Readers': 'Academics',\n",
       " 'Ancient History (Books)': 'Academics',\n",
       " 'Translation Reference': 'Academics',\n",
       " 'Textbooks & Study Guides': 'Academics',\n",
       " 'Biology & Life Sciences': 'Academics',\n",
       " 'Workbooks': 'Academics',\n",
       " 'Spanish': 'Academics',\n",
       " 'Biostatistics': 'Academics',\n",
       " 'Philosophy (Books)': 'Academics',\n",
       " 'Sculpture': 'Academics',\n",
       " 'Military History (Books)': 'Academics',\n",
       " 'Comics & Mangas (Books)': 'Children and comics',\n",
       " 'Mangas': 'Children and comics',\n",
       " 'Comics & Graphic Novels (Books)': 'Children and comics',\n",
       " 'Short Stories (Books)': 'Children and comics',\n",
       " 'Comics': 'Children and comics',\n",
       " 'Humour (Books)': 'Children and comics',\n",
       " \"Children's Sport (Books)\": 'Children and comics',\n",
       " \"Children's History (Books)\": 'Children and comics',\n",
       " \"Children's Science Fiction (Books)\": 'Children and comics',\n",
       " \"Children's Language Learning (Books)\": 'Children and comics',\n",
       " \"Children's Traditional Stories (Books)\": 'Children and comics',\n",
       " \"Children's Mysteries & Curiosities (Books)\": 'Children and comics',\n",
       " \"Children's Adventure (Books)\": 'Children and comics',\n",
       " \"Children's Games, Toys & Activities (Books)\": 'Children and comics',\n",
       " \"Children's Historical Fiction (Books)\": 'Children and comics',\n",
       " \"Children's Crafts, Hobbies & Practical Interests (Books)\": 'Children and comics',\n",
       " \"Children's Reference (Books)\": 'Children and comics',\n",
       " \"Children's Crime & Thriller (Books)\": 'Children and comics',\n",
       " \"Children's Humour (Books)\": 'Children and comics',\n",
       " \"Children's Fantasy (Books)\": 'Children and comics',\n",
       " \"Children's Family, Personal & Social Issues (Books)\": 'Children and comics',\n",
       " \"Children's Painting, Arts & Music (Books)\": 'Children and comics',\n",
       " \"Children's & Young Adult (Books)\": 'Children and comics',\n",
       " 'Encyclopedias for Children': 'Children and comics',\n",
       " \"Children's Picture Books (Books)\": 'Children and comics',\n",
       " \"Children's Horror & Ghost Stories (Books)\": 'Children and comics',\n",
       " \"Children's Science, Nature & Technology (Books)\": 'Children and comics',\n",
       " 'Functional Software Programming': 'Computers',\n",
       " 'C# Programming': 'Computers',\n",
       " 'Game Programming': 'Computers',\n",
       " 'API & Operating Environments': 'Computers',\n",
       " 'Object-Oriented Software Design': 'Computers',\n",
       " 'Graphics & Visualization': 'Computers',\n",
       " 'Artificial Intelligence': 'Computers',\n",
       " 'Interface Design Programming': 'Computers',\n",
       " 'Software & Business Applications (Books)': 'Computers',\n",
       " 'Introductory & Beginning Programming': 'Computers',\n",
       " 'Programming Languages (Books)': 'Computers',\n",
       " 'Networks & System Administration (Books)': 'Computers',\n",
       " 'Computer Hardware & Handheld Devices (Books)': 'Computers',\n",
       " 'Engineering & Technology (Books)': 'Computers',\n",
       " 'Computing, Internet & Digital Media (Books)': 'Computers',\n",
       " 'Programming Algorithms': 'Computers',\n",
       " 'Python Programming': 'Computers',\n",
       " 'Internet & Web (Books)': 'Computers',\n",
       " 'Programming & Software Development (Books)': 'Computers',\n",
       " 'Algorithms': 'Computers',\n",
       " 'Computer Security (Books)': 'Computers',\n",
       " 'Computer Science Books': 'Computers',\n",
       " 'Visual C++ Programming': 'Computers',\n",
       " 'Software Architecture': 'Computers',\n",
       " 'Software Design & Engineering': 'Computers',\n",
       " 'Computer Databases (Books)': 'Computers',\n",
       " 'Operating Systems Textbooks': 'Computers',\n",
       " 'Software Testing': 'Computers',\n",
       " 'Networking (Books)': 'Computers',\n",
       " 'CSS Programming': 'Computers',\n",
       " 'Management': 'Computers',\n",
       " 'XHTML Software Programming': 'Computers',\n",
       " 'Operating Systems Books': 'Computers',\n",
       " 'Design Pattern Programming': 'Computers',\n",
       " 'Software Programming Compilers': 'Computers',\n",
       " 'Romance (Books)': 'Family',\n",
       " 'Society & Culture (Books)': 'Family',\n",
       " 'Family & Relationships (Books)': 'Family',\n",
       " 'Food, Drink & Entertaining (Books)': 'Family',\n",
       " 'Anthropology (Books)': 'Family',\n",
       " 'Ethics': 'Family',\n",
       " 'Society & Social Sciences (Books)': 'Family',\n",
       " 'Pets (Books)': 'Family',\n",
       " 'Humanities': 'Family',\n",
       " 'Social Welfare & Social Services (Books)': 'Family',\n",
       " 'Home & House Maintenance (Books)': 'Family',\n",
       " 'IT Certification Exams': 'Exam',\n",
       " 'GRE': 'Exam',\n",
       " 'TOEFL': 'Exam',\n",
       " 'SSC Exam': 'Exam',\n",
       " 'GATE Exams': 'Exam',\n",
       " 'IGCSE': 'Exam',\n",
       " 'Engineering Services Exams': 'Exam',\n",
       " 'PGMEE Exam': 'Exam',\n",
       " 'Exam Preparation (Books)': 'Exam',\n",
       " 'Interview Preparation': 'Exam',\n",
       " 'International Entrance Exams': 'Exam',\n",
       " 'CBSE': 'Exam',\n",
       " 'SAT': 'Exam',\n",
       " 'GMAT': 'Exam',\n",
       " 'Medical Dictionaries': 'Medicine',\n",
       " 'Medicine`': 'Medicine',\n",
       " 'Psychology (Books)': 'Medicine',\n",
       " 'Neuroscience': 'Medicine',\n",
       " 'Gender Studies': 'Medicine',\n",
       " 'General Dentistry': 'Medicine',\n",
       " 'Alternative Medicine (Books)': 'Medicine',\n",
       " 'Occupational Therapy': 'Medicine',\n",
       " 'Government Exams': 'Medicine',\n",
       " 'Physician & Patient': 'Medicine',\n",
       " 'Sciences, Technology & Medicine (Books)': 'Medicine',\n",
       " 'Internal Medicine': 'Medicine',\n",
       " 'Anatomy & Physiology': 'Medicine',\n",
       " 'Immunology': 'Medicine',\n",
       " 'Neurology': 'Medicine',\n",
       " 'Developmental Psychology': 'Medicine',\n",
       " 'Development & Growth': 'Medicine',\n",
       " 'Vascular Surgery': 'Medicine',\n",
       " 'Sports Medicine': 'Medicine',\n",
       " 'Radiological & Ultrasound Technology': 'Medicine',\n",
       " 'Oncology': 'Medicine',\n",
       " 'Forensic Medicine': 'Medicine',\n",
       " 'Chiropractic': 'Medicine',\n",
       " 'Nuclear Engineering': 'Enggineering',\n",
       " 'Electrical & Electronic Engineering': 'Enggineering',\n",
       " 'Biotechnology Engineering Textbooks': 'Enggineering',\n",
       " 'Agriculture & Farming (Books)': 'Enggineering',\n",
       " 'Architecture (Books)': 'Enggineering',\n",
       " 'Engineering': 'Enggineering',\n",
       " 'Astronomy (Books)': 'Enggineering',\n",
       " 'Aeronautical Engineering': 'Enggineering',\n",
       " 'Environmental Engineering': 'Enggineering',\n",
       " 'Environmental Studies': 'Enggineering',\n",
       " 'Structural Engineering': 'Enggineering',\n",
       " 'Astronomy & Astrophysics': 'Enggineering',\n",
       " 'Biomedical Engineering': 'Enggineering',\n",
       " 'Industrial Engineering': 'Enggineering',\n",
       " 'Bioengineering': 'Enggineering'}"
      ]
     },
     "execution_count": 237,
     "metadata": {},
     "output_type": "execute_result"
    }
   ],
   "source": [
    "new_genre"
   ]
  },
  {
   "cell_type": "markdown",
   "id": "da890d50",
   "metadata": {},
   "source": [
    "##### Mapping values from new_genre dictionary to new NewGenre column."
   ]
  },
  {
   "cell_type": "code",
   "execution_count": 53,
   "id": "b28cd601",
   "metadata": {},
   "outputs": [],
   "source": [
    "data_duplicate_removed['NewGenre'] = data_duplicate_removed['Genre'].replace(new_genre)"
   ]
  },
  {
   "cell_type": "code",
   "execution_count": 54,
   "id": "df4b2894",
   "metadata": {},
   "outputs": [
    {
     "data": {
      "text/plain": [
       "array(['Action and Crime', 'Media', 'International', 'Fiction',\n",
       "       'Art And Music', 'Lifestyle', 'Sports', 'Academics',\n",
       "       'Industry and Economy', 'Children and comics', 'Computers',\n",
       "       'Religion', 'Family', 'Goverment And Politics', 'Exam',\n",
       "       'Enggineering', 'Medicine', 'Archery (Books)',\n",
       "       'Air Sports (Books)'], dtype=object)"
      ]
     },
     "execution_count": 54,
     "metadata": {},
     "output_type": "execute_result"
    }
   ],
   "source": [
    "data_duplicate_removed['NewGenre'].unique()"
   ]
  },
  {
   "cell_type": "markdown",
   "id": "c2315b5f",
   "metadata": {},
   "source": [
    "#### Extracting New_Date from Date column."
   ]
  },
  {
   "cell_type": "code",
   "execution_count": 55,
   "id": "50b6fb23",
   "metadata": {},
   "outputs": [],
   "source": [
    "#extract date from Date column.\n",
    "import dateutil.parser as dparser\n",
    "def myparser(x):\n",
    "    try:\n",
    "        return dparser.parse(x,fuzzy=True)\n",
    "    except:\n",
    "        return None"
   ]
  },
  {
   "cell_type": "code",
   "execution_count": 56,
   "id": "dd252fa8",
   "metadata": {},
   "outputs": [],
   "source": [
    "data_duplicate_removed['New_Date'] = data_duplicate_removed['Date'].apply(lambda x: myparser(x))"
   ]
  },
  {
   "cell_type": "markdown",
   "id": "cf98a43f",
   "metadata": {},
   "source": [
    "#### Plot year vs avarage price."
   ]
  },
  {
   "cell_type": "markdown",
   "id": "e700a63a",
   "metadata": {},
   "source": [
    "##### Checking if Year make any impact on Price column."
   ]
  },
  {
   "cell_type": "code",
   "execution_count": 59,
   "id": "53f97b65",
   "metadata": {},
   "outputs": [
    {
     "data": {
      "text/plain": [
       "<AxesSubplot:xlabel='Year'>"
      ]
     },
     "execution_count": 59,
     "metadata": {},
     "output_type": "execute_result"
    },
    {
     "data": {
      "image/png": "[encoded data removed]",
      "text/plain": [
       "<Figure size 432x288 with 1 Axes>"
      ]
     },
     "metadata": {
      "needs_background": "light"
     },
     "output_type": "display_data"
    }
   ],
   "source": [
    "data_duplicate_removed.groupby('Year').agg({'Price':'mean'}).plot()"
   ]
  },
  {
   "cell_type": "markdown",
   "id": "407374a4",
   "metadata": {},
   "source": [
    "##### Conclusion:\n",
    "                Between 1900 to 1960 there are few points is there thatz why a straight line.\n",
    "                Price range is same from 1900 to 2020. \n",
    "                Not getting enough inforamation according to year about price from this plot."
   ]
  },
  {
   "cell_type": "markdown",
   "id": "bccade51",
   "metadata": {},
   "source": [
    "#### PDF of Year column"
   ]
  },
  {
   "cell_type": "code",
   "execution_count": 60,
   "id": "2191b548",
   "metadata": {},
   "outputs": [
    {
     "data": {
      "text/plain": [
       "<AxesSubplot:xlabel='Year', ylabel='Density'>"
      ]
     },
     "execution_count": 60,
     "metadata": {},
     "output_type": "execute_result"
    },
    {
     "data": {
      "image/png": "[encoded data removed]",
      "text/plain": [
       "<Figure size 432x288 with 1 Axes>"
      ]
     },
     "metadata": {
      "needs_background": "light"
     },
     "output_type": "display_data"
    }
   ],
   "source": [
    "sns.distplot(data_duplicate_removed['Year'])"
   ]
  },
  {
   "cell_type": "markdown",
   "id": "4627ac1b",
   "metadata": {},
   "source": [
    "#### Conclusion:\n",
    "                data is skewed.\n",
    "                Not getting enough inforamation."
   ]
  },
  {
   "cell_type": "markdown",
   "id": "d7024b80",
   "metadata": {},
   "source": [
    "#### Creating new Month column from New_Date column."
   ]
  },
  {
   "cell_type": "code",
   "execution_count": 61,
   "id": "46100ce3",
   "metadata": {},
   "outputs": [],
   "source": [
    "data_duplicate_removed['Month'] = data_duplicate_removed['New_Date'].dt.month"
   ]
  },
  {
   "cell_type": "markdown",
   "id": "e9c10c8b",
   "metadata": {},
   "source": [
    "#### Plot Month vs Price"
   ]
  },
  {
   "cell_type": "markdown",
   "id": "68bab0a7",
   "metadata": {},
   "source": [
    "##### Checking if Month column make any impact on Price column"
   ]
  },
  {
   "cell_type": "code",
   "execution_count": 62,
   "id": "06c8db3d",
   "metadata": {},
   "outputs": [
    {
     "data": {
      "text/plain": [
       "<AxesSubplot:xlabel='Month'>"
      ]
     },
     "execution_count": 62,
     "metadata": {},
     "output_type": "execute_result"
    },
    {
     "data": {
      "image/png": "[encoded data removed]",
      "text/plain": [
       "<Figure size 432x288 with 1 Axes>"
      ]
     },
     "metadata": {
      "needs_background": "light"
     },
     "output_type": "display_data"
    }
   ],
   "source": [
    "data_duplicate_removed.groupby('Month').agg({'Price':'mean'}).plot()"
   ]
  },
  {
   "cell_type": "markdown",
   "id": "e214033b",
   "metadata": {},
   "source": [
    "### Text cleaning on Synopsis column"
   ]
  },
  {
   "cell_type": "code",
   "execution_count": 64,
   "id": "7a6e0fa5",
   "metadata": {},
   "outputs": [
    {
     "data": {
      "text/plain": [
       "\"Python is the most popular programming language for beginners because it's fun, powerful, and easy to learn. So why should your introductory Python book be long and tedious?\\n\\nPython Crash Course gets you up and running with Python, teaching you the basics quickly so that you can solve problems, make things, and do cool stuff. Each chapter explains a new programming concept and includes a set of exercises to help reinforce your new knowledge.\\n\\nBut most important of all, Python Crash Course includes three hands-on projects to put your new programming skills into practice, so it's not just syntax and theory. You'll learn how to create a simple video game, use data visualization techniques to make interactive graphs and charts, and build a simple Web application. Python Crash Course teaches you Python the fun way—it's quick, hands-on, and totally useful.\""
      ]
     },
     "execution_count": 64,
     "metadata": {},
     "output_type": "execute_result"
    }
   ],
   "source": [
    "data_duplicate_removed['Synopsis'][500]"
   ]
  },
  {
   "cell_type": "markdown",
   "id": "edbcdee0",
   "metadata": {},
   "source": [
    "#### Creating new column count_synopsis from Synopsis to count total words."
   ]
  },
  {
   "cell_type": "code",
   "execution_count": 65,
   "id": "a829f948",
   "metadata": {},
   "outputs": [],
   "source": [
    "data_duplicate_removed['count_synopsis'] = data_duplicate_removed['Synopsis'].str.split().str.len()"
   ]
  },
  {
   "cell_type": "markdown",
   "id": "efbb2b9b",
   "metadata": {},
   "source": [
    "##### PDF of count_synopsis"
   ]
  },
  {
   "cell_type": "code",
   "execution_count": 66,
   "id": "85526440",
   "metadata": {},
   "outputs": [
    {
     "data": {
      "text/plain": [
       "<AxesSubplot:xlabel='count_synopsis', ylabel='Density'>"
      ]
     },
     "execution_count": 66,
     "metadata": {},
     "output_type": "execute_result"
    },
    {
     "data": {
      "image/png": "[encoded data removed]",
      "text/plain": [
       "<Figure size 432x288 with 1 Axes>"
      ]
     },
     "metadata": {
      "needs_background": "light"
     },
     "output_type": "display_data"
    }
   ],
   "source": [
    "sns.distplot(data_duplicate_removed['count_synopsis'])"
   ]
  },
  {
   "cell_type": "code",
   "execution_count": 67,
   "id": "c9d5a49b",
   "metadata": {},
   "outputs": [
    {
     "data": {
      "text/html": [
       "<div>\n",
       "<style scoped>\n",
       "    .dataframe tbody tr th:only-of-type {\n",
       "        vertical-align: middle;\n",
       "    }\n",
       "\n",
       "    .dataframe tbody tr th {\n",
       "        vertical-align: top;\n",
       "    }\n",
       "\n",
       "    .dataframe thead th {\n",
       "        text-align: right;\n",
       "    }\n",
       "</style>\n",
       "<table border=\"1\" class=\"dataframe\">\n",
       "  <thead>\n",
       "    <tr style=\"text-align: right;\">\n",
       "      <th></th>\n",
       "      <th>Reviews</th>\n",
       "      <th>Ratings</th>\n",
       "      <th>Price</th>\n",
       "      <th>Year</th>\n",
       "      <th>Month</th>\n",
       "      <th>count_synopsis</th>\n",
       "    </tr>\n",
       "  </thead>\n",
       "  <tbody>\n",
       "    <tr>\n",
       "      <th>Reviews</th>\n",
       "      <td>1.000000</td>\n",
       "      <td>0.132796</td>\n",
       "      <td>-0.159277</td>\n",
       "      <td>-0.011751</td>\n",
       "      <td>0.014679</td>\n",
       "      <td>0.045176</td>\n",
       "    </tr>\n",
       "    <tr>\n",
       "      <th>Ratings</th>\n",
       "      <td>0.132796</td>\n",
       "      <td>1.000000</td>\n",
       "      <td>-0.076663</td>\n",
       "      <td>0.015086</td>\n",
       "      <td>-0.005982</td>\n",
       "      <td>0.138665</td>\n",
       "    </tr>\n",
       "    <tr>\n",
       "      <th>Price</th>\n",
       "      <td>-0.159277</td>\n",
       "      <td>-0.076663</td>\n",
       "      <td>1.000000</td>\n",
       "      <td>-0.021017</td>\n",
       "      <td>0.033664</td>\n",
       "      <td>0.035901</td>\n",
       "    </tr>\n",
       "    <tr>\n",
       "      <th>Year</th>\n",
       "      <td>-0.011751</td>\n",
       "      <td>0.015086</td>\n",
       "      <td>-0.021017</td>\n",
       "      <td>1.000000</td>\n",
       "      <td>-0.005814</td>\n",
       "      <td>0.110911</td>\n",
       "    </tr>\n",
       "    <tr>\n",
       "      <th>Month</th>\n",
       "      <td>0.014679</td>\n",
       "      <td>-0.005982</td>\n",
       "      <td>0.033664</td>\n",
       "      <td>-0.005814</td>\n",
       "      <td>1.000000</td>\n",
       "      <td>-0.001493</td>\n",
       "    </tr>\n",
       "    <tr>\n",
       "      <th>count_synopsis</th>\n",
       "      <td>0.045176</td>\n",
       "      <td>0.138665</td>\n",
       "      <td>0.035901</td>\n",
       "      <td>0.110911</td>\n",
       "      <td>-0.001493</td>\n",
       "      <td>1.000000</td>\n",
       "    </tr>\n",
       "  </tbody>\n",
       "</table>\n",
       "</div>"
      ],
      "text/plain": [
       "                 Reviews   Ratings     Price      Year     Month  \\\n",
       "Reviews         1.000000  0.132796 -0.159277 -0.011751  0.014679   \n",
       "Ratings         0.132796  1.000000 -0.076663  0.015086 -0.005982   \n",
       "Price          -0.159277 -0.076663  1.000000 -0.021017  0.033664   \n",
       "Year           -0.011751  0.015086 -0.021017  1.000000 -0.005814   \n",
       "Month           0.014679 -0.005982  0.033664 -0.005814  1.000000   \n",
       "count_synopsis  0.045176  0.138665  0.035901  0.110911 -0.001493   \n",
       "\n",
       "                count_synopsis  \n",
       "Reviews               0.045176  \n",
       "Ratings               0.138665  \n",
       "Price                 0.035901  \n",
       "Year                  0.110911  \n",
       "Month                -0.001493  \n",
       "count_synopsis        1.000000  "
      ]
     },
     "execution_count": 67,
     "metadata": {},
     "output_type": "execute_result"
    }
   ],
   "source": [
    "data_duplicate_removed.corr()"
   ]
  },
  {
   "cell_type": "code",
   "execution_count": 68,
   "id": "043a2500",
   "metadata": {},
   "outputs": [],
   "source": [
    "stopwords_custom= ['i', 'me', 'my', 'myself', 'we', 'our', 'ours', 'ourselves', 'you', \"you're\", \"you've\",\\\n",
    "            \"you'll\", \"you'd\", 'your', 'yours', 'yourself', 'yourselves', 'he', 'him', 'his', 'himself', \\\n",
    "            'she', \"she's\", 'her', 'hers', 'herself', 'it', \"it's\", 'its', 'itself', 'they', 'them', 'their',\\\n",
    "            'theirs', 'themselves', 'what', 'which', 'who', 'whom', 'this', 'that', \"that'll\", 'these', 'those', \\\n",
    "            'am', 'is', 'are', 'was', 'were', 'be', 'been', 'being', 'have', 'has', 'had', 'having', 'do', 'does', \\\n",
    "            'did', 'doing', 'a', 'an', 'the', 'and', 'but', 'if', 'or', 'because', 'as', 'until', 'while', 'of', \\\n",
    "            'at', 'by', 'for', 'with', 'about', 'against', 'between', 'into', 'through', 'during', 'before', 'after',\\\n",
    "            'above', 'below', 'to', 'from', 'up', 'down', 'in', 'out', 'on', 'off', 'over', 'under', 'again', 'further',\\\n",
    "            'then', 'once', 'here', 'there', 'when', 'where', 'why', 'how', 'all', 'any', 'both', 'each', 'few', 'more',\\\n",
    "            'most', 'other', 'some', 'such', 'only', 'own', 'same', 'so', 'than', 'too', 'very', \\\n",
    "            's', 't', 'can', 'will', 'just', 'should', \"should've\", 'now', 'd', 'll', 'm', 'o', 're', \\\n",
    "            've', 'y']"
   ]
  },
  {
   "cell_type": "code",
   "execution_count": 69,
   "id": "65c72be2",
   "metadata": {},
   "outputs": [],
   "source": [
    "from nltk.corpus import wordnet\n",
    "from nltk.stem import WordNetLemmatizer\n",
    "import nltk\n",
    "\n",
    "lemmatizer = WordNetLemmatizer()\n",
    "wordnet_map = {\"N\":wordnet.NOUN, \"V\":wordnet.VERB, \"J\":wordnet.ADJ, \"R\":wordnet.ADV}\n",
    "\n",
    "def lemmatize_words(text):\n",
    "    \n",
    "    pos_tagged_text = nltk.pos_tag(text.split())\n",
    "    #print(pos_tagged_text)\n",
    "    \n",
    "    return \" \".join([lemmatizer.lemmatize(word, wordnet_map.get(pos[0], wordnet.NOUN)) for word, pos in pos_tagged_text])"
   ]
  },
  {
   "cell_type": "code",
   "execution_count": 70,
   "id": "12dae7c3",
   "metadata": {},
   "outputs": [],
   "source": [
    "def clean_text(sentence):\n",
    "    sentence = sentence.lower()\n",
    "    \n",
    "    sentence = re.sub(r'^https?:\\/\\/.*[\\r\\n]*', '', sentence, flags=re.MULTILINE)\n",
    "    sentence = re.sub(r'<[^>]*>','',sentence)\n",
    "    sentence = re.sub(r'\\S*@\\S*\\s?','',sentence)\n",
    "    sentence = re.sub(r'[-]+',' ',sentence)\n",
    "    sentence = ' '.join([word for word in sentence.split() if word not in stopwords_custom])\n",
    "    sentence = re.sub(r'[^\\w\\s]','',sentence)\n",
    "    sentence = re.sub(r'[^a-z ]+','',sentence)\n",
    "    sentence = re.sub(r'\\\\b[a-z]\\\\b','', sentence)\n",
    "    sentence = re.sub(r'[\\s]+', ' ',sentence)\n",
    "    sentence = lemmatize_words(sentence)\n",
    "    \n",
    "    return sentence"
   ]
  },
  {
   "cell_type": "code",
   "execution_count": 71,
   "id": "102fb7dc",
   "metadata": {},
   "outputs": [],
   "source": [
    "data_duplicate_removed['clean_synopsis'] = data_duplicate_removed['Synopsis'].apply(clean_text)"
   ]
  },
  {
   "cell_type": "code",
   "execution_count": 72,
   "id": "0d2ee066",
   "metadata": {},
   "outputs": [
    {
     "data": {
      "text/plain": [
       "'journey alongside nathan drake again naughty dog dark horse book team bring comprehensive breathtaking exploration uncharted thiefs end numerous never see design concept art accompany commentary developer give behind scene access creation game masterwork beautiful oversized hardcover must fan uncharted franchise high quality video game art art unchartend release dark horse simultaneoulsy new game uncharted'"
      ]
     },
     "execution_count": 72,
     "metadata": {},
     "output_type": "execute_result"
    }
   ],
   "source": [
    "data_duplicate_removed['clean_synopsis'][34]"
   ]
  },
  {
   "cell_type": "markdown",
   "id": "dc89cd2b",
   "metadata": {},
   "source": [
    "#### Creating new column AgeoftheBook from Year column to check how old is the book and impact on the price"
   ]
  },
  {
   "cell_type": "code",
   "execution_count": 74,
   "id": "5195e24e",
   "metadata": {},
   "outputs": [],
   "source": [
    "data_duplicate_removed['AgeoftheBook'] = 2022 - data_duplicate_removed['Year']"
   ]
  },
  {
   "cell_type": "code",
   "execution_count": 75,
   "id": "ce4fcc49",
   "metadata": {},
   "outputs": [
    {
     "data": {
      "text/plain": [
       "True"
      ]
     },
     "execution_count": 75,
     "metadata": {},
     "output_type": "execute_result"
    }
   ],
   "source": [
    "np.isnan(2022 - data_duplicate_removed['Year']).any()"
   ]
  },
  {
   "cell_type": "markdown",
   "id": "27c9cfc4",
   "metadata": {},
   "source": [
    "#### TrainTest split"
   ]
  },
  {
   "cell_type": "code",
   "execution_count": 77,
   "id": "89ac7ca4",
   "metadata": {},
   "outputs": [],
   "source": [
    "from sklearn.model_selection import train_test_split"
   ]
  },
  {
   "cell_type": "code",
   "execution_count": 78,
   "id": "b9a7f2d4",
   "metadata": {},
   "outputs": [],
   "source": [
    "X = data_duplicate_removed.drop(columns = ['Price'])\n",
    "y = data_duplicate_removed['Price']\n",
    "X_train,X_test,y_train,y_test = train_test_split(X,y,test_size = .15,random_state = 42)"
   ]
  },
  {
   "cell_type": "code",
   "execution_count": 79,
   "id": "c688ab92",
   "metadata": {},
   "outputs": [
    {
     "data": {
      "text/plain": [
       "(4765, 17)"
      ]
     },
     "execution_count": 79,
     "metadata": {},
     "output_type": "execute_result"
    }
   ],
   "source": [
    "X_train.shape"
   ]
  },
  {
   "cell_type": "code",
   "execution_count": 80,
   "id": "acf5ffaf",
   "metadata": {},
   "outputs": [
    {
     "data": {
      "text/plain": [
       "(841, 17)"
      ]
     },
     "execution_count": 80,
     "metadata": {},
     "output_type": "execute_result"
    }
   ],
   "source": [
    "X_test.shape"
   ]
  },
  {
   "cell_type": "markdown",
   "id": "deaeb930",
   "metadata": {},
   "source": [
    "## Label Encoding"
   ]
  },
  {
   "cell_type": "markdown",
   "id": "f85e26df",
   "metadata": {},
   "source": [
    "#### NewGenre"
   ]
  },
  {
   "cell_type": "code",
   "execution_count": 81,
   "id": "2d2338cf",
   "metadata": {},
   "outputs": [],
   "source": [
    "new_genre_labelencoder = LabelEncoder()\n",
    "x_train_newgenre_encoded = new_genre_labelencoder.fit_transform(X_train['NewGenre'])\n",
    "x_test_newgenre_encoded = new_genre_labelencoder.transform(X_test['NewGenre'])"
   ]
  },
  {
   "cell_type": "markdown",
   "id": "05049fba",
   "metadata": {},
   "source": [
    "##### BookCategory"
   ]
  },
  {
   "cell_type": "code",
   "execution_count": 82,
   "id": "6fc1131f",
   "metadata": {},
   "outputs": [],
   "source": [
    "bookcategory_labelencoder = LabelEncoder()\n",
    "x_train_bookcategory_encoded = bookcategory_labelencoder.fit_transform(X_train['BookCategory'])\n",
    "x_test_bookcategory_encoded = bookcategory_labelencoder.transform(X_test['BookCategory'])"
   ]
  },
  {
   "cell_type": "markdown",
   "id": "db919659",
   "metadata": {},
   "source": [
    "#### Type"
   ]
  },
  {
   "cell_type": "code",
   "execution_count": 83,
   "id": "9bf14307",
   "metadata": {},
   "outputs": [],
   "source": [
    "type_labelencoder = LabelEncoder()\n",
    "x_train_type_encoded = type_labelencoder.fit_transform(X_train['Type'])\n",
    "x_test_type_encoded = type_labelencoder.transform(X_test['Type'])"
   ]
  },
  {
   "cell_type": "code",
   "execution_count": null,
   "id": "030e484f",
   "metadata": {},
   "outputs": [],
   "source": []
  },
  {
   "cell_type": "markdown",
   "id": "955d86c7",
   "metadata": {},
   "source": [
    "#### Vectorization on text column clean_synopsis"
   ]
  },
  {
   "cell_type": "code",
   "execution_count": 84,
   "id": "41925fca",
   "metadata": {},
   "outputs": [],
   "source": [
    "tfidf = TfidfVectorizer(max_features = 2000 )\n",
    "X_train_tfidf = tfidf.fit_transform(X_train['clean_synopsis'])\n",
    "X_test_tfidf = tfidf.transform(X_test['clean_synopsis'])"
   ]
  },
  {
   "cell_type": "code",
   "execution_count": 85,
   "id": "37a7b0d4",
   "metadata": {},
   "outputs": [
    {
     "data": {
      "text/plain": [
       "(4765, 2000)"
      ]
     },
     "execution_count": 85,
     "metadata": {},
     "output_type": "execute_result"
    }
   ],
   "source": [
    "X_train_tfidf.shape"
   ]
  },
  {
   "cell_type": "code",
   "execution_count": 86,
   "id": "5f8a4228",
   "metadata": {},
   "outputs": [
    {
     "data": {
      "text/plain": [
       "(841, 2000)"
      ]
     },
     "execution_count": 86,
     "metadata": {},
     "output_type": "execute_result"
    }
   ],
   "source": [
    "X_test_tfidf.shape"
   ]
  },
  {
   "cell_type": "markdown",
   "id": "3dc1affb",
   "metadata": {},
   "source": [
    "#### checking if X_train_stack contain nan values"
   ]
  },
  {
   "cell_type": "code",
   "execution_count": 255,
   "id": "bb7b5d73",
   "metadata": {},
   "outputs": [
    {
     "data": {
      "text/plain": [
       "False"
      ]
     },
     "execution_count": 255,
     "metadata": {},
     "output_type": "execute_result"
    }
   ],
   "source": [
    "np.isnan(X_train['Year']).any()"
   ]
  },
  {
   "cell_type": "code",
   "execution_count": 256,
   "id": "4b74b419",
   "metadata": {},
   "outputs": [
    {
     "data": {
      "text/plain": [
       "0"
      ]
     },
     "execution_count": 256,
     "metadata": {},
     "output_type": "execute_result"
    }
   ],
   "source": [
    "np.isnan(X_train['Year']).sum()\n",
    "#X_train[pd.isnull(X_train['Year'])]"
   ]
  },
  {
   "cell_type": "markdown",
   "id": "5373adbc",
   "metadata": {},
   "source": [
    "#### impute nan with mode in Year column"
   ]
  },
  {
   "cell_type": "code",
   "execution_count": 213,
   "id": "1d3f59ad",
   "metadata": {},
   "outputs": [
    {
     "data": {
      "text/plain": [
       "2018.0"
      ]
     },
     "execution_count": 213,
     "metadata": {},
     "output_type": "execute_result"
    }
   ],
   "source": [
    "year_mode = X_train['Year'].mode().iloc[0]\n",
    "year_mode"
   ]
  },
  {
   "cell_type": "code",
   "execution_count": 93,
   "id": "2a519c3f",
   "metadata": {},
   "outputs": [],
   "source": [
    "X_train['Year'] = X_train['Year'].replace(np.nan,year_mode)\n",
    "X_test['Year'] = X_test['Year'].replace(np.nan,year_mode)"
   ]
  },
  {
   "cell_type": "markdown",
   "id": "10434817",
   "metadata": {},
   "source": [
    "#### impute nan with mode in ageoftheBook column"
   ]
  },
  {
   "cell_type": "code",
   "execution_count": 94,
   "id": "b1d7a0e7",
   "metadata": {},
   "outputs": [
    {
     "data": {
      "text/plain": [
       "4.0"
      ]
     },
     "execution_count": 94,
     "metadata": {},
     "output_type": "execute_result"
    }
   ],
   "source": [
    "mode_AgeoftheBook = X_train['AgeoftheBook'].mode().iloc[0]\n",
    "mode_AgeoftheBook"
   ]
  },
  {
   "cell_type": "code",
   "execution_count": 95,
   "id": "5d9c2d1b",
   "metadata": {},
   "outputs": [],
   "source": [
    "X_train['AgeoftheBook'] = X_train['AgeoftheBook'].replace(np.nan,mode_AgeoftheBook)\n",
    "X_test['AgeoftheBook'] = X_test['AgeoftheBook'].replace(np.nan,mode_AgeoftheBook)"
   ]
  },
  {
   "cell_type": "markdown",
   "id": "0257e1ff",
   "metadata": {},
   "source": [
    "### stacking after label encdoing\n",
    "#####        1. labelencoded columns(x_train_newgenre_encoded,x_train_bookcategory_encoded,x_train_type_encoded reshaping by (-1,1) all these columns to get in 2-D shape),\n",
    "#####         2. Review,Ratings,Year columns(All this 3 column are series so by using .values getting np array and reshaping by (-1,1) to get this in 2-D shape)."
   ]
  },
  {
   "cell_type": "code",
   "execution_count": 164,
   "id": "4ea610d5",
   "metadata": {},
   "outputs": [],
   "source": [
    "X_train_stack = np.hstack([x_train_newgenre_encoded.reshape(-1,1),x_train_bookcategory_encoded.reshape(-1,1),x_train_type_encoded.reshape(-1,1),X_train['Ratings'].values.reshape(-1,1),X_train['Reviews'].values.reshape(-1,1),X_train['AgeoftheBook'].values.reshape(-1,1),X_train_tfidf.toarray()])\n",
    "X_test_stack = np.hstack([x_test_newgenre_encoded.reshape(-1,1),x_test_bookcategory_encoded.reshape(-1,1),x_test_type_encoded.reshape(-1,1),X_test['Ratings'].values.reshape(-1,1),X_test['Reviews'].values.reshape(-1,1),X_test['AgeoftheBook'].values.reshape(-1,1),X_test_tfidf.toarray()])                        "
   ]
  },
  {
   "cell_type": "markdown",
   "id": "35a229bf",
   "metadata": {},
   "source": [
    "### one hot encoding"
   ]
  },
  {
   "cell_type": "markdown",
   "id": "42cb192b",
   "metadata": {},
   "source": [
    "##### Bookcategory"
   ]
  },
  {
   "cell_type": "code",
   "execution_count": 97,
   "id": "6c6b9950",
   "metadata": {},
   "outputs": [],
   "source": [
    "bookcategory_ohe = OneHotEncoder()\n",
    "x_train_bookcategory_ohe = bookcategory_ohe.fit_transform(X_train['BookCategory'].values.reshape(-1,1))\n",
    "x_test_bookcategory_ohe = bookcategory_ohe.transform(X_test['BookCategory'].values.reshape(-1,1))"
   ]
  },
  {
   "cell_type": "markdown",
   "id": "44b7f46a",
   "metadata": {},
   "source": [
    "##### Type"
   ]
  },
  {
   "cell_type": "code",
   "execution_count": 143,
   "id": "eb96e1bf",
   "metadata": {},
   "outputs": [],
   "source": [
    "type_ohe = OneHotEncoder()\n",
    "x_train_type_ohe = type_ohe.fit_transform(X_train['Type'].values.reshape(-1,1))\n",
    "x_test_type_ohe = type_ohe.transform(X_test['Type'].values.reshape(-1,1))"
   ]
  },
  {
   "cell_type": "markdown",
   "id": "07246326",
   "metadata": {},
   "source": [
    "##### NewGenre"
   ]
  },
  {
   "cell_type": "code",
   "execution_count": 99,
   "id": "69251f01",
   "metadata": {},
   "outputs": [],
   "source": [
    "newgenre_ohe = OneHotEncoder()\n",
    "x_train_newgenre_ohe = newgenre_ohe.fit_transform(X_train['NewGenre'].values.reshape(-1,1))\n",
    "x_test_newgenre_ohe = newgenre_ohe.transform(X_test['NewGenre'].values.reshape(-1,1))"
   ]
  },
  {
   "cell_type": "markdown",
   "id": "9140f632",
   "metadata": {},
   "source": [
    "### Powertransformer"
   ]
  },
  {
   "cell_type": "code",
   "execution_count": 188,
   "id": "79fbf8be",
   "metadata": {},
   "outputs": [],
   "source": [
    "pt = PowerTransformer()"
   ]
  },
  {
   "cell_type": "markdown",
   "id": "f69a131e",
   "metadata": {},
   "source": [
    "##### Ratings"
   ]
  },
  {
   "cell_type": "code",
   "execution_count": 191,
   "id": "5ea5ea9e",
   "metadata": {},
   "outputs": [],
   "source": [
    "x_train_transform_Ratings = pt.fit_transform(X_train['Ratings'].values.reshape(-1,1))\n",
    "x_test_transform_Ratings = pt.transform(X_test['Ratings'].values.reshape(-1,1))"
   ]
  },
  {
   "cell_type": "markdown",
   "id": "b2aef0b1",
   "metadata": {},
   "source": [
    "##### Reviews"
   ]
  },
  {
   "cell_type": "code",
   "execution_count": 192,
   "id": "c5bd6b62",
   "metadata": {},
   "outputs": [],
   "source": [
    "x_train_transform_Reviews = pt.fit_transform(X_train['Reviews'].values.reshape(-1,1))\n",
    "x_test_transform_Reviews = pt.transform(X_test['Reviews'].values.reshape(-1,1))"
   ]
  },
  {
   "cell_type": "markdown",
   "id": "2020b23f",
   "metadata": {},
   "source": [
    "#### AgeoftheBook"
   ]
  },
  {
   "cell_type": "code",
   "execution_count": 193,
   "id": "6669eb25",
   "metadata": {},
   "outputs": [],
   "source": [
    "x_train_transform_AgeoftheBook = pt.fit_transform(X_train['AgeoftheBook'].values.reshape(-1,1))\n",
    "x_test_transform_AgeoftheBook = pt.transform(X_test['AgeoftheBook'].values.reshape(-1,1))"
   ]
  },
  {
   "cell_type": "markdown",
   "id": "3c235dfe",
   "metadata": {},
   "source": [
    "### Stacking after powertransformer"
   ]
  },
  {
   "cell_type": "code",
   "execution_count": 198,
   "id": "2a4d97c5",
   "metadata": {},
   "outputs": [],
   "source": [
    "X_train_stack_transform = np.hstack([x_train_newgenre_ohe.toarray(),x_train_type_ohe.toarray(),x_train_bookcategory_ohe.toarray(),x_train_transform_Ratings,x_train_transform_Reviews,x_train_transform_AgeoftheBook,X_train_tfidf.toarray()])\n",
    "X_test_stack_transform = np.hstack([x_test_newgenre_ohe.toarray(),x_test_type_ohe.toarray(),x_test_bookcategory_ohe.toarray(),x_test_transform_Ratings,x_test_transform_Reviews,x_test_transform_AgeoftheBook,X_test_tfidf.toarray()])                        "
   ]
  },
  {
   "cell_type": "markdown",
   "id": "c5da3025",
   "metadata": {},
   "source": [
    "### Standrard scaling after powertransform"
   ]
  },
  {
   "cell_type": "code",
   "execution_count": 199,
   "id": "348ce584",
   "metadata": {},
   "outputs": [],
   "source": [
    "scaled_features_transform = StandardScaler()\n",
    "X_train_scaled_transform = scaled_features.fit_transform(X_train_stack_reducedcol)\n",
    "X_test_scaled_transform = scaled_features.transform(X_test_stack_reducedcol)"
   ]
  },
  {
   "cell_type": "markdown",
   "id": "e1f3750b",
   "metadata": {},
   "source": [
    "### Stacking after one hot encoding"
   ]
  },
  {
   "cell_type": "code",
   "execution_count": 196,
   "id": "0d233225",
   "metadata": {},
   "outputs": [],
   "source": [
    "X_train_stack_reducedcol = np.hstack([x_train_newgenre_ohe.toarray(),x_train_type_ohe.toarray(),x_train_bookcategory_ohe.toarray(),X_train['Ratings'].values.reshape(-1,1),X_train['Reviews'].values.reshape(-1,1),X_train['AgeoftheBook'].values.reshape(-1,1),X_train_tfidf.toarray()])\n",
    "X_test_stack_reducedcol = np.hstack([x_test_newgenre_ohe.toarray(),x_test_type_ohe.toarray(),x_test_bookcategory_ohe.toarray(),X_test['Ratings'].values.reshape(-1,1),X_test['Reviews'].values.reshape(-1,1),X_test['AgeoftheBook'].values.reshape(-1,1),X_test_tfidf.toarray()])                        "
   ]
  },
  {
   "cell_type": "markdown",
   "id": "2983ac22",
   "metadata": {},
   "source": [
    "### standrard scaling after one hot encoding"
   ]
  },
  {
   "cell_type": "code",
   "execution_count": 157,
   "id": "06f012f5",
   "metadata": {},
   "outputs": [],
   "source": [
    "scaled_features = StandardScaler()\n",
    "X_train_scaled = scaled_features.fit_transform(X_train_stack_reducedcol)\n",
    "X_test_scaled = scaled_features.transform(X_test_stack_reducedcol)"
   ]
  },
  {
   "cell_type": "code",
   "execution_count": 155,
   "id": "1a107edb",
   "metadata": {},
   "outputs": [
    {
     "data": {
      "text/plain": [
       "(4765, 2037)"
      ]
     },
     "execution_count": 155,
     "metadata": {},
     "output_type": "execute_result"
    }
   ],
   "source": [
    "X_train_scaled.shape"
   ]
  },
  {
   "cell_type": "markdown",
   "id": "8f15b53d",
   "metadata": {},
   "source": [
    "### Model building"
   ]
  },
  {
   "cell_type": "markdown",
   "id": "5495ef08",
   "metadata": {},
   "source": [
    "#### KNN regression"
   ]
  },
  {
   "cell_type": "code",
   "execution_count": 124,
   "id": "46209ed9",
   "metadata": {},
   "outputs": [],
   "source": [
    "knn_model = KNeighborsRegressor(n_neighbors=5)\n",
    "knn_model.fit(X_train_scaled, y_train)\n",
    "knn_pred = knn_model.predict(X_test_scaled)"
   ]
  },
  {
   "cell_type": "code",
   "execution_count": 125,
   "id": "1a9e5d5a",
   "metadata": {},
   "outputs": [],
   "source": [
    "def price_score(y_true,y_pred):\n",
    "    return 1 - np.sqrt(np.square(np.log10(y_pred +1) - np.log10(y_true +1)).mean())"
   ]
  },
  {
   "cell_type": "code",
   "execution_count": 126,
   "id": "a634c563",
   "metadata": {},
   "outputs": [
    {
     "data": {
      "text/plain": [
       "0.672166340204004"
      ]
     },
     "execution_count": 126,
     "metadata": {},
     "output_type": "execute_result"
    }
   ],
   "source": [
    "price_score(y_test,knn_pred)"
   ]
  },
  {
   "cell_type": "code",
   "execution_count": 127,
   "id": "ccb6ec81",
   "metadata": {},
   "outputs": [
    {
     "data": {
      "text/plain": [
       "524912.8271044662"
      ]
     },
     "execution_count": 127,
     "metadata": {},
     "output_type": "execute_result"
    }
   ],
   "source": [
    "mean_squared_error(y_test,knn_pred)"
   ]
  },
  {
   "cell_type": "code",
   "execution_count": 128,
   "id": "efb9860d",
   "metadata": {},
   "outputs": [
    {
     "data": {
      "text/plain": [
       "make_scorer(price_score, greater_is_better=False)"
      ]
     },
     "execution_count": 128,
     "metadata": {},
     "output_type": "execute_result"
    }
   ],
   "source": [
    "scorer = make_scorer(price_score, greater_is_better=False)\n",
    "scorer"
   ]
  },
  {
   "cell_type": "markdown",
   "id": "0d2ca33c",
   "metadata": {},
   "source": [
    "#### KNN Hyperparameter tuning"
   ]
  },
  {
   "cell_type": "code",
   "execution_count": null,
   "id": "1af01d9c",
   "metadata": {},
   "outputs": [],
   "source": [
    "knn_cv = KNeighborsRegressor()\n",
    "param_grid_knn = {'n_neighbors':[15,20,21,23,24,29,30,35],'weights':['uniform','distance']}\n",
    "\n",
    "knn_search = GridSearchCV(estimator=knn_cv, param_grid=param_grid_knn,scoring =scorer,n_jobs=-1,cv=5,verbose=1)\n",
    "\n",
    "knn_search.fit(X_train_scaled,y_train)"
   ]
  },
  {
   "cell_type": "code",
   "execution_count": null,
   "id": "c63b9fad",
   "metadata": {},
   "outputs": [],
   "source": [
    "knn_search.best_score_"
   ]
  },
  {
   "cell_type": "code",
   "execution_count": null,
   "id": "1c182b33",
   "metadata": {},
   "outputs": [],
   "source": [
    "knn_search.best_params_"
   ]
  },
  {
   "cell_type": "code",
   "execution_count": null,
   "id": "3f118aa6",
   "metadata": {},
   "outputs": [],
   "source": [
    "knn_search.best_estimator_"
   ]
  },
  {
   "cell_type": "markdown",
   "id": "0f4d558c",
   "metadata": {},
   "source": [
    "### Linear regression"
   ]
  },
  {
   "cell_type": "code",
   "execution_count": 129,
   "id": "6a6df1cb",
   "metadata": {},
   "outputs": [],
   "source": [
    "lr_model = LinearRegression()\n",
    "lr_model.fit(X_train_scaled,y_train)\n",
    "lr_pred = lr_model.predict(X_test_scaled)"
   ]
  },
  {
   "cell_type": "code",
   "execution_count": 130,
   "id": "6990e4bb",
   "metadata": {},
   "outputs": [
    {
     "data": {
      "text/plain": [
       "0.5419149437457995"
      ]
     },
     "execution_count": 130,
     "metadata": {},
     "output_type": "execute_result"
    }
   ],
   "source": [
    "price_score(y_test,lr_pred)"
   ]
  },
  {
   "cell_type": "code",
   "execution_count": 131,
   "id": "cdafae51",
   "metadata": {},
   "outputs": [
    {
     "data": {
      "text/plain": [
       "637579.8339722592"
      ]
     },
     "execution_count": 131,
     "metadata": {},
     "output_type": "execute_result"
    }
   ],
   "source": [
    "mean_squared_error(y_test,lr_pred)"
   ]
  },
  {
   "cell_type": "code",
   "execution_count": null,
   "id": "0cff2023",
   "metadata": {},
   "outputs": [],
   "source": []
  },
  {
   "cell_type": "markdown",
   "id": "7976a995",
   "metadata": {},
   "source": [
    "### SVR"
   ]
  },
  {
   "cell_type": "code",
   "execution_count": 132,
   "id": "48ed2fc1",
   "metadata": {},
   "outputs": [],
   "source": [
    "svr_model = SVR()\n",
    "svr_model.fit(X_train_scaled,y_train)\n",
    "svr_pred = svr_model.predict(X_test_scaled)"
   ]
  },
  {
   "cell_type": "code",
   "execution_count": 133,
   "id": "5b413421",
   "metadata": {},
   "outputs": [
    {
     "data": {
      "text/plain": [
       "0.6623994490353332"
      ]
     },
     "execution_count": 133,
     "metadata": {},
     "output_type": "execute_result"
    }
   ],
   "source": [
    "price_score(y_test,svr_pred)"
   ]
  },
  {
   "cell_type": "code",
   "execution_count": 134,
   "id": "f7dc9b24",
   "metadata": {},
   "outputs": [
    {
     "data": {
      "text/plain": [
       "588795.561663347"
      ]
     },
     "execution_count": 134,
     "metadata": {},
     "output_type": "execute_result"
    }
   ],
   "source": [
    "mean_squared_error(y_test,svr_pred)"
   ]
  },
  {
   "cell_type": "markdown",
   "id": "3caf950b",
   "metadata": {},
   "source": [
    "#### SVR Hyperparameter tuning"
   ]
  },
  {
   "cell_type": "code",
   "execution_count": null,
   "id": "87b1f3cb",
   "metadata": {},
   "outputs": [],
   "source": [
    "svc_cv = SVR()\n",
    "param_grid = {'C': [0.1, 1, 10, 100, 1000], \n",
    "              'gamma': [1, 0.1, 0.01, 0.001, 0.0001],\n",
    "              'degree':[2,3,5],\n",
    "              'kernel': ['linear', 'poly', 'rbf', 'sigmoid'],\n",
    "              'epsilon': [0.1,0.2,0.3]} \n",
    "grid = RandomizedSearchCV(svc_cv, param_grid,scoring =scorer, n_iter = 5,cv = 2,verbose = 1)\n",
    "grid.fit(X_train_scaled, y_train)"
   ]
  },
  {
   "cell_type": "code",
   "execution_count": null,
   "id": "f5c04b03",
   "metadata": {},
   "outputs": [],
   "source": [
    "grid.best_params_"
   ]
  },
  {
   "cell_type": "code",
   "execution_count": null,
   "id": "c49458c7",
   "metadata": {},
   "outputs": [],
   "source": [
    "grid.best_score_"
   ]
  },
  {
   "cell_type": "code",
   "execution_count": null,
   "id": "8c8741c7",
   "metadata": {},
   "outputs": [],
   "source": [
    "grid.best_estimator_"
   ]
  },
  {
   "cell_type": "markdown",
   "id": "798dc1d4",
   "metadata": {},
   "source": [
    "#### Decision Tree Regressor"
   ]
  },
  {
   "cell_type": "code",
   "execution_count": 135,
   "id": "963f1965",
   "metadata": {},
   "outputs": [],
   "source": [
    "dt_model = DecisionTreeRegressor()\n",
    "dt_model.fit(X_train_scaled,y_train)\n",
    "dt_pred = dt_model.predict(X_test_scaled)"
   ]
  },
  {
   "cell_type": "code",
   "execution_count": 136,
   "id": "80c2ae75",
   "metadata": {},
   "outputs": [
    {
     "data": {
      "text/plain": [
       "0.6374477830181338"
      ]
     },
     "execution_count": 136,
     "metadata": {},
     "output_type": "execute_result"
    }
   ],
   "source": [
    "price_score(y_test,dt_pred)"
   ]
  },
  {
   "cell_type": "code",
   "execution_count": 137,
   "id": "20d1a790",
   "metadata": {},
   "outputs": [
    {
     "data": {
      "text/plain": [
       "818854.17648371"
      ]
     },
     "execution_count": 137,
     "metadata": {},
     "output_type": "execute_result"
    }
   ],
   "source": [
    "mean_squared_error(y_test,dt_pred)"
   ]
  },
  {
   "cell_type": "markdown",
   "id": "56b3f895",
   "metadata": {},
   "source": [
    "#### DT regrrssor Hyperparameter"
   ]
  },
  {
   "cell_type": "code",
   "execution_count": 116,
   "id": "f3201c8a",
   "metadata": {},
   "outputs": [
    {
     "data": {
      "text/plain": [
       "GridSearchCV(cv=3, estimator=DecisionTreeRegressor(), n_jobs=-1,\n",
       "             param_grid={'max_depth': [1, 3, 5, 7, 9, 11, 12],\n",
       "                         'max_features': ['auto', 'log2', 'sqrt', None],\n",
       "                         'max_leaf_nodes': [None, 10, 20, 30, 40, 50, 60, 70,\n",
       "                                            80, 90],\n",
       "                         'min_samples_leaf': [1, 2, 3, 4, 5, 6, 7, 8, 9, 10],\n",
       "                         'min_weight_fraction_leaf': [0.1, 0.2, 0.3, 0.4, 0.5,\n",
       "                                                      0.6, 0.7, 0.8, 0.9],\n",
       "                         'splitter': ['best', 'random']},\n",
       "             scoring=make_scorer(price_score, greater_is_better=False))"
      ]
     },
     "execution_count": 116,
     "metadata": {},
     "output_type": "execute_result"
    }
   ],
   "source": [
    "dtr_hyperpara = DecisionTreeRegressor()\n",
    "\n",
    "param_grid = { \"max_depth\" : [1,3,5,7,9,11,12],\n",
    "           #\"min_samples_leaf\":[1,2,3,4,5,6,7,8,9,10],\n",
    "           #\"min_weight_fraction_leaf\":[0.1,0.2,0.3,0.4,0.5,0.6,0.7,0.8,0.9],\n",
    "           \"max_features\":[\"auto\",\"log2\",\"sqrt\",None],\n",
    "          # \"max_leaf_nodes\":[None,10,20,30,40,50,60,70,80,90]\n",
    "    }\n",
    "\n",
    "grid_dtr = GridSearchCV(estimator = dtr_hyperpara ,param_grid = param_grid, n_jobs = -1,cv = 3,scoring = scorer)\n",
    "grid_dtr.fit(X_train_scaled,y_train)"
   ]
  },
  {
   "cell_type": "code",
   "execution_count": 117,
   "id": "bfc76f4e",
   "metadata": {},
   "outputs": [
    {
     "data": {
      "text/plain": [
       "-0.6328982621504528"
      ]
     },
     "execution_count": 117,
     "metadata": {},
     "output_type": "execute_result"
    }
   ],
   "source": [
    "grid_dtr.best_score_"
   ]
  },
  {
   "cell_type": "code",
   "execution_count": 118,
   "id": "cbed1f05",
   "metadata": {},
   "outputs": [
    {
     "data": {
      "text/plain": [
       "DecisionTreeRegressor(max_depth=3, max_features='log2', max_leaf_nodes=80,\n",
       "                      min_samples_leaf=7, min_weight_fraction_leaf=0.2,\n",
       "                      splitter='random')"
      ]
     },
     "execution_count": 118,
     "metadata": {},
     "output_type": "execute_result"
    }
   ],
   "source": [
    "grid_dtr.best_estimator_"
   ]
  },
  {
   "cell_type": "markdown",
   "id": "08d8394f",
   "metadata": {},
   "source": [
    "#### Random forest regressor"
   ]
  },
  {
   "cell_type": "code",
   "execution_count": 165,
   "id": "5133f8d9",
   "metadata": {},
   "outputs": [],
   "source": [
    "rf_model = RandomForestRegressor()\n",
    "rf_model.fit(X_train_scaled,y_train)\n",
    "rf_pred = rf_model.predict(X_test_scaled)"
   ]
  },
  {
   "cell_type": "code",
   "execution_count": 166,
   "id": "b98d7931",
   "metadata": {},
   "outputs": [
    {
     "data": {
      "text/plain": [
       "0.7163289542353981"
      ]
     },
     "execution_count": 166,
     "metadata": {},
     "output_type": "execute_result"
    }
   ],
   "source": [
    "price_score(y_test,rf_pred)"
   ]
  },
  {
   "cell_type": "code",
   "execution_count": 141,
   "id": "3ee0242d",
   "metadata": {},
   "outputs": [
    {
     "data": {
      "text/plain": [
       "688.1370151046721"
      ]
     },
     "execution_count": 141,
     "metadata": {},
     "output_type": "execute_result"
    }
   ],
   "source": [
    "mean_squared_error(y_test,rf_pred)"
   ]
  },
  {
   "cell_type": "markdown",
   "id": "886c1926",
   "metadata": {},
   "source": [
    "#### Hyperparameter tuning for RF"
   ]
  },
  {
   "cell_type": "code",
   "execution_count": 262,
   "id": "1e5427af",
   "metadata": {},
   "outputs": [
    {
     "name": "stdout",
     "output_type": "stream",
     "text": [
      "Fitting 3 folds for each of 288 candidates, totalling 864 fits\n"
     ]
    },
    {
     "data": {
      "text/plain": [
       "GridSearchCV(cv=3, estimator=RandomForestRegressor(), n_jobs=-1,\n",
       "             param_grid={'bootstrap': [True], 'max_depth': [80, 90, 100, 110],\n",
       "                         'max_features': [2, 3], 'min_samples_leaf': [3, 4, 5],\n",
       "                         'min_samples_split': [8, 10, 12],\n",
       "                         'n_estimators': [100, 200, 300, 1000]},\n",
       "             scoring=make_scorer(price_score, greater_is_better=False),\n",
       "             verbose=2)"
      ]
     },
     "execution_count": 262,
     "metadata": {},
     "output_type": "execute_result"
    }
   ],
   "source": [
    "rf_para = RandomForestRegressor()\n",
    "param_grid = {\n",
    "    'bootstrap': [True],\n",
    "    'max_depth': [80, 90, 100, 110],\n",
    "    'max_features': [2, 3],\n",
    "    'min_samples_leaf': [3, 4, 5],\n",
    "    'min_samples_split': [8, 10, 12],\n",
    "    'n_estimators': [100, 200, 300, 1000]\n",
    "}\n",
    "grid_rf = GridSearchCV(estimator = rf_para, param_grid = param_grid, \n",
    "                          cv = 3, n_jobs = -1, verbose = 2,scoring = scorer)\n",
    "grid_rf.fit(X_train_scaled,y_train)"
   ]
  },
  {
   "cell_type": "code",
   "execution_count": 263,
   "id": "2707345a",
   "metadata": {},
   "outputs": [
    {
     "data": {
      "text/plain": [
       "-0.656833015791321"
      ]
     },
     "execution_count": 263,
     "metadata": {},
     "output_type": "execute_result"
    }
   ],
   "source": [
    "grid_rf.best_score_"
   ]
  },
  {
   "cell_type": "code",
   "execution_count": null,
   "id": "1b06ccb9",
   "metadata": {},
   "outputs": [],
   "source": []
  },
  {
   "cell_type": "code",
   "execution_count": null,
   "id": "5541628c",
   "metadata": {},
   "outputs": [],
   "source": []
  },
  {
   "cell_type": "markdown",
   "id": "3cf616f1",
   "metadata": {},
   "source": [
    "### RF With powertransformer and standrard scaling"
   ]
  },
  {
   "cell_type": "code",
   "execution_count": 250,
   "id": "22d33970",
   "metadata": {},
   "outputs": [],
   "source": [
    "rf_model = RandomForestRegressor()\n",
    "rf_model.fit(X_train_scaled_transform,y_train)\n",
    "rf_pred_transform_scaled = rf_model.predict(X_test_scaled_transform)"
   ]
  },
  {
   "cell_type": "code",
   "execution_count": 251,
   "id": "d63fdc54",
   "metadata": {},
   "outputs": [
    {
     "data": {
      "text/plain": [
       "0.718869340173703"
      ]
     },
     "execution_count": 251,
     "metadata": {},
     "output_type": "execute_result"
    }
   ],
   "source": [
    "price_score(y_test,rf_pred_transform_scaled)"
   ]
  },
  {
   "cell_type": "markdown",
   "id": "3d114a66",
   "metadata": {},
   "source": [
    "### RF with powertransformer without standrard scaling"
   ]
  },
  {
   "cell_type": "code",
   "execution_count": 202,
   "id": "76d31b2d",
   "metadata": {},
   "outputs": [],
   "source": [
    "rf_model = RandomForestRegressor()\n",
    "rf_model.fit(X_train_stack_transform,y_train)\n",
    "rf_pred_transform = rf_model.predict(X_test_stack_transform)"
   ]
  },
  {
   "cell_type": "code",
   "execution_count": 203,
   "id": "f65116ac",
   "metadata": {},
   "outputs": [
    {
     "data": {
      "text/plain": [
       "0.7158483242577673"
      ]
     },
     "execution_count": 203,
     "metadata": {},
     "output_type": "execute_result"
    }
   ],
   "source": [
    "price_score(y_test,rf_pred_transform)"
   ]
  },
  {
   "cell_type": "code",
   "execution_count": null,
   "id": "32a32a30",
   "metadata": {},
   "outputs": [],
   "source": []
  },
  {
   "cell_type": "markdown",
   "id": "500ca35f",
   "metadata": {},
   "source": [
    "## Generating prediction on test data"
   ]
  },
  {
   "cell_type": "code",
   "execution_count": 264,
   "id": "ada93640",
   "metadata": {},
   "outputs": [
    {
     "data": {
      "text/html": [
       "<div>\n",
       "<style scoped>\n",
       "    .dataframe tbody tr th:only-of-type {\n",
       "        vertical-align: middle;\n",
       "    }\n",
       "\n",
       "    .dataframe tbody tr th {\n",
       "        vertical-align: top;\n",
       "    }\n",
       "\n",
       "    .dataframe thead th {\n",
       "        text-align: right;\n",
       "    }\n",
       "</style>\n",
       "<table border=\"1\" class=\"dataframe\">\n",
       "  <thead>\n",
       "    <tr style=\"text-align: right;\">\n",
       "      <th></th>\n",
       "      <th>Title</th>\n",
       "      <th>Author</th>\n",
       "      <th>Edition</th>\n",
       "      <th>Reviews</th>\n",
       "      <th>Ratings</th>\n",
       "      <th>Synopsis</th>\n",
       "      <th>Genre</th>\n",
       "      <th>BookCategory</th>\n",
       "    </tr>\n",
       "  </thead>\n",
       "  <tbody>\n",
       "    <tr>\n",
       "      <th>0</th>\n",
       "      <td>The Complete Sherlock Holmes: 2 Boxes sets</td>\n",
       "      <td>Sir Arthur Conan Doyle</td>\n",
       "      <td>Mass Market Paperback,– 1 Oct 1986</td>\n",
       "      <td>4.4 out of 5 stars</td>\n",
       "      <td>960 customer reviews</td>\n",
       "      <td>A collection of entire body of work of the She...</td>\n",
       "      <td>Short Stories (Books)</td>\n",
       "      <td>Crime, Thriller &amp; Mystery</td>\n",
       "    </tr>\n",
       "    <tr>\n",
       "      <th>1</th>\n",
       "      <td>Learn Docker - Fundamentals of Docker 18.x: Ev...</td>\n",
       "      <td>Gabriel N. Schenker</td>\n",
       "      <td>Paperback,– Import, 26 Apr 2018</td>\n",
       "      <td>5.0 out of 5 stars</td>\n",
       "      <td>1 customer review</td>\n",
       "      <td>Enhance your software deployment workflow usin...</td>\n",
       "      <td>Operating Systems Textbooks</td>\n",
       "      <td>Computing, Internet &amp; Digital Media</td>\n",
       "    </tr>\n",
       "  </tbody>\n",
       "</table>\n",
       "</div>"
      ],
      "text/plain": [
       "                                               Title                  Author  \\\n",
       "0         The Complete Sherlock Holmes: 2 Boxes sets  Sir Arthur Conan Doyle   \n",
       "1  Learn Docker - Fundamentals of Docker 18.x: Ev...     Gabriel N. Schenker   \n",
       "\n",
       "                              Edition             Reviews  \\\n",
       "0  Mass Market Paperback,– 1 Oct 1986  4.4 out of 5 stars   \n",
       "1     Paperback,– Import, 26 Apr 2018  5.0 out of 5 stars   \n",
       "\n",
       "                Ratings                                           Synopsis  \\\n",
       "0  960 customer reviews  A collection of entire body of work of the She...   \n",
       "1     1 customer review  Enhance your software deployment workflow usin...   \n",
       "\n",
       "                         Genre                         BookCategory  \n",
       "0        Short Stories (Books)            Crime, Thriller & Mystery  \n",
       "1  Operating Systems Textbooks  Computing, Internet & Digital Media  "
      ]
     },
     "execution_count": 264,
     "metadata": {},
     "output_type": "execute_result"
    }
   ],
   "source": [
    "test_data = pd.read_excel('Data_Test.xlsx')\n",
    "test_data.head(2)"
   ]
  },
  {
   "cell_type": "code",
   "execution_count": 206,
   "id": "2ecd1459",
   "metadata": {},
   "outputs": [],
   "source": [
    "test_data_duplicate_removed = test_data.drop_duplicates(subset = ['Title','Author','Edition'])"
   ]
  },
  {
   "cell_type": "code",
   "execution_count": 208,
   "id": "e8ab9149",
   "metadata": {},
   "outputs": [],
   "source": [
    "test_data_duplicate_removed[['Type','Date']] = test_data_duplicate_removed['Edition'].str.split(',– ',expand=True)"
   ]
  },
  {
   "cell_type": "code",
   "execution_count": 225,
   "id": "64efaa71",
   "metadata": {},
   "outputs": [],
   "source": [
    "test_data_duplicate_removed['Type'] = test_data_duplicate_removed['Type'].replace(reverse_dict)"
   ]
  },
  {
   "cell_type": "code",
   "execution_count": 238,
   "id": "b8741ff0",
   "metadata": {},
   "outputs": [],
   "source": [
    "test_data_duplicate_removed['NewGenre'] = test_data_duplicate_removed['Genre'].replace(new_genre)"
   ]
  },
  {
   "cell_type": "code",
   "execution_count": 211,
   "id": "01cb0602",
   "metadata": {},
   "outputs": [],
   "source": [
    "test_data_duplicate_removed['New_Date'] = test_data_duplicate_removed['Date'].apply(lambda x: myparser(x))"
   ]
  },
  {
   "cell_type": "code",
   "execution_count": 212,
   "id": "0724c827",
   "metadata": {},
   "outputs": [],
   "source": [
    "test_data_duplicate_removed['Year'] = test_data_duplicate_removed['Date'].apply(extract_year)"
   ]
  },
  {
   "cell_type": "code",
   "execution_count": 214,
   "id": "bea297c0",
   "metadata": {},
   "outputs": [],
   "source": [
    "test_data_duplicate_removed['Year'] = test_data_duplicate_removed['Year'].replace(np.nan,year_mode)"
   ]
  },
  {
   "cell_type": "code",
   "execution_count": 215,
   "id": "0c3c37ec",
   "metadata": {},
   "outputs": [],
   "source": [
    "test_data_duplicate_removed['AgeoftheBook'] = 2022 - test_data_duplicate_removed['Year']"
   ]
  },
  {
   "cell_type": "code",
   "execution_count": 241,
   "id": "92c7934f",
   "metadata": {},
   "outputs": [],
   "source": [
    "test_data_duplicate_removed['clean_synopsis'] = test_data_duplicate_removed['Synopsis'].apply(clean_text)"
   ]
  },
  {
   "cell_type": "code",
   "execution_count": 216,
   "id": "af4d4c57",
   "metadata": {},
   "outputs": [],
   "source": [
    "test_data_duplicate_removed['Ratings'] = pd.to_numeric(test_data_duplicate_removed['Ratings'].str.strip(' customer reviews').str.replace(',',''))"
   ]
  },
  {
   "cell_type": "code",
   "execution_count": 217,
   "id": "2936e57e",
   "metadata": {},
   "outputs": [],
   "source": [
    "test_data_duplicate_removed['Reviews'] = pd.to_numeric(test_data_duplicate_removed['Reviews'].str.strip(' out of 5 stars'))"
   ]
  },
  {
   "cell_type": "code",
   "execution_count": 218,
   "id": "f2f64f92",
   "metadata": {},
   "outputs": [],
   "source": [
    "test_bookcategory_ohe = bookcategory_ohe.transform(test_data_duplicate_removed['BookCategory'].values.reshape(-1,1))"
   ]
  },
  {
   "cell_type": "code",
   "execution_count": 226,
   "id": "1917a03b",
   "metadata": {},
   "outputs": [],
   "source": [
    "test_type_ohe = type_ohe.transform(test_data_duplicate_removed['Type'].values.reshape(-1,1))"
   ]
  },
  {
   "cell_type": "code",
   "execution_count": 239,
   "id": "95152802",
   "metadata": {},
   "outputs": [],
   "source": [
    "test_newgenre_ohe =newgenre_ohe.transform(test_data_duplicate_removed['NewGenre'].values.reshape(-1,1))"
   ]
  },
  {
   "cell_type": "code",
   "execution_count": 242,
   "id": "b24d26b9",
   "metadata": {},
   "outputs": [],
   "source": [
    "test_tfidf = tfidf.transform(test_data_duplicate_removed['clean_synopsis'])"
   ]
  },
  {
   "cell_type": "code",
   "execution_count": 243,
   "id": "8c636469",
   "metadata": {},
   "outputs": [],
   "source": [
    "test_transform_Ratings = pt.transform(test_data_duplicate_removed['Ratings'].values.reshape(-1,1))"
   ]
  },
  {
   "cell_type": "code",
   "execution_count": 244,
   "id": "e790213b",
   "metadata": {},
   "outputs": [],
   "source": [
    "test_transform_Reviews = pt.transform(test_data_duplicate_removed['Reviews'].values.reshape(-1,1))"
   ]
  },
  {
   "cell_type": "code",
   "execution_count": 246,
   "id": "6ec72eea",
   "metadata": {},
   "outputs": [],
   "source": [
    "test_transform_AgeoftheBook = pt.transform(test_data_duplicate_removed['AgeoftheBook'].values.reshape(-1,1))"
   ]
  },
  {
   "cell_type": "code",
   "execution_count": 248,
   "id": "a1dffea6",
   "metadata": {},
   "outputs": [],
   "source": [
    "test_stack_transform = np.hstack([test_newgenre_ohe.toarray(),test_type_ohe.toarray(),test_bookcategory_ohe.toarray(),test_transform_Ratings,test_transform_Reviews,test_transform_AgeoftheBook,test_tfidf.toarray()])                        "
   ]
  },
  {
   "cell_type": "code",
   "execution_count": 249,
   "id": "de9d972b",
   "metadata": {},
   "outputs": [],
   "source": [
    "test_scaled_transform = scaled_features.transform(test_stack_transform)"
   ]
  },
  {
   "cell_type": "code",
   "execution_count": 253,
   "id": "9a1088b6",
   "metadata": {
    "collapsed": true,
    "jupyter": {
     "outputs_hidden": true
    }
   },
   "outputs": [
    {
     "data": {
      "text/html": [
       "<div>\n",
       "<style scoped>\n",
       "    .dataframe tbody tr th:only-of-type {\n",
       "        vertical-align: middle;\n",
       "    }\n",
       "\n",
       "    .dataframe tbody tr th {\n",
       "        vertical-align: top;\n",
       "    }\n",
       "\n",
       "    .dataframe thead th {\n",
       "        text-align: right;\n",
       "    }\n",
       "</style>\n",
       "<table border=\"1\" class=\"dataframe\">\n",
       "  <thead>\n",
       "    <tr style=\"text-align: right;\">\n",
       "      <th></th>\n",
       "      <th>Price</th>\n",
       "    </tr>\n",
       "  </thead>\n",
       "  <tbody>\n",
       "    <tr>\n",
       "      <th>0</th>\n",
       "      <td>563.1603</td>\n",
       "    </tr>\n",
       "    <tr>\n",
       "      <th>1</th>\n",
       "      <td>1369.6000</td>\n",
       "    </tr>\n",
       "    <tr>\n",
       "      <th>2</th>\n",
       "      <td>426.7961</td>\n",
       "    </tr>\n",
       "    <tr>\n",
       "      <th>3</th>\n",
       "      <td>1006.8564</td>\n",
       "    </tr>\n",
       "    <tr>\n",
       "      <th>4</th>\n",
       "      <td>399.1614</td>\n",
       "    </tr>\n",
       "    <tr>\n",
       "      <th>...</th>\n",
       "      <td>...</td>\n",
       "    </tr>\n",
       "    <tr>\n",
       "      <th>1516</th>\n",
       "      <td>778.6172</td>\n",
       "    </tr>\n",
       "    <tr>\n",
       "      <th>1517</th>\n",
       "      <td>437.8276</td>\n",
       "    </tr>\n",
       "    <tr>\n",
       "      <th>1518</th>\n",
       "      <td>491.4544</td>\n",
       "    </tr>\n",
       "    <tr>\n",
       "      <th>1519</th>\n",
       "      <td>607.7771</td>\n",
       "    </tr>\n",
       "    <tr>\n",
       "      <th>1520</th>\n",
       "      <td>597.9250</td>\n",
       "    </tr>\n",
       "  </tbody>\n",
       "</table>\n",
       "<p>1521 rows × 1 columns</p>\n",
       "</div>"
      ],
      "text/plain": [
       "          Price\n",
       "0      563.1603\n",
       "1     1369.6000\n",
       "2      426.7961\n",
       "3     1006.8564\n",
       "4      399.1614\n",
       "...         ...\n",
       "1516   778.6172\n",
       "1517   437.8276\n",
       "1518   491.4544\n",
       "1519   607.7771\n",
       "1520   597.9250\n",
       "\n",
       "[1521 rows x 1 columns]"
      ]
     },
     "execution_count": 253,
     "metadata": {},
     "output_type": "execute_result"
    }
   ],
   "source": [
    "pred_data = pd.DataFrame(rf_model.predict(test_scaled_transform),columns =['Price'])\n",
    "pred_data"
   ]
  },
  {
   "cell_type": "code",
   "execution_count": 254,
   "id": "8a63875f",
   "metadata": {},
   "outputs": [],
   "source": [
    "pred_data.to_csv('Submission.csv',index = False)"
   ]
  },
  {
   "cell_type": "code",
   "execution_count": null,
   "id": "f8ea7eb8",
   "metadata": {},
   "outputs": [],
   "source": []
  },
  {
   "cell_type": "code",
   "execution_count": null,
   "id": "0ea477da",
   "metadata": {},
   "outputs": [],
   "source": []
  }
 ],
 "metadata": {
  "kernelspec": {
   "display_name": "Python 3",
   "language": "python",
   "name": "python3"
  },
  "language_info": {
   "codemirror_mode": {
    "name": "ipython",
    "version": 3
   },
   "file_extension": ".py",
   "mimetype": "text/x-python",
   "name": "python",
   "nbconvert_exporter": "python",
   "pygments_lexer": "ipython3",
   "version": "3.8.5"
  }
 },
 "nbformat": 4,
 "nbformat_minor": 5
}
